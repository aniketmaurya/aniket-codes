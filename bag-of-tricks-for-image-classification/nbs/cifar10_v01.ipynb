{
 "cells": [
  {
   "cell_type": "code",
   "execution_count": null,
   "metadata": {
    "id": "nim_eu6niEF1"
   },
   "outputs": [],
   "source": [
    "%load_ext autoreload\n",
    "%autoreload"
   ]
  },
  {
   "cell_type": "code",
   "execution_count": null,
   "metadata": {
    "colab": {
     "base_uri": "https://localhost:8080/"
    },
    "id": "bdqq44CqjfXR",
    "outputId": "5b328737-253d-4422-9f90-e36b6ab2a967"
   },
   "outputs": [],
   "source": [
    "!pip install -q chitra==0.0.20"
   ]
  },
  {
   "cell_type": "code",
   "execution_count": null,
   "metadata": {
    "id": "SLs6nOVGjW-p"
   },
   "outputs": [],
   "source": [
    "import tensorflow as tf\n",
    "import tensorflow_datasets as tfds\n",
    "import tensorflow_addons as tfa\n",
    "\n",
    "from chitra.trainer import Trainer, create_cnn"
   ]
  },
  {
   "cell_type": "code",
   "execution_count": null,
   "metadata": {
    "colab": {
     "base_uri": "https://localhost:8080/",
     "height": 367,
     "referenced_widgets": [
      "54fbc96abd4a4dbb866d35f143545834",
      "8440bd46fdbd48278bac1a402980716a",
      "ea30d78d93804b37a26dea18900e61a2",
      "1c61f08feecb4e3484610c95ef3e5251",
      "ddbe55cfaabc425c8842255f907bcab6",
      "e048bce827204fa49e75d3af90cfd6f1",
      "a11cd2418d08448d9ad2a53bfa76999e",
      "69bfba1591234355a47e2f46898b6789",
      "aa44bf9627134a0eac644a72d262027a",
      "8ab1ddfc82f3493d9aadf3259e6a4bf2",
      "519a63aa754f4cddad64500194b58340",
      "ab77bb5b096445b9a713480b37e53b22",
      "fb1633350c1647ee8d677c57b9e33a69",
      "5fa3ac297f93435bb8b1e30e162db968",
      "5076decfcaec454492ac2485d5f3fefb",
      "1bd8fdb2b76d4c4ea41fc9bf57351ece",
      "65ff777a0cfe41f6b9796e746ac4dac9",
      "90982f09c1d5428aab58455b7da6ca03",
      "bb81dd351cf24410b299509cea87eaa6",
      "e003d51b8e844b498b6052964e91ad8c",
      "f8228d08a3674c38b5900326362e3480",
      "7b8784d2b2774034b1299f6b83e94aae",
      "c41fd909bea940a9b3fd3283920be384",
      "042afa437cc34c9ca7d20aacdb6b97e0",
      "b39f810623244b0488be018fee8a4782",
      "f2de89988af14709ac8a0740ebe6e241",
      "073a2d4295dc448092e97e7f3a0ecd2c",
      "80f34b2ac2f24d48b5c68b16fa9ca6e9",
      "79172de6822249b79156ad7d83fcd772",
      "a6182f3923424b469d910ceba4ec3f1f",
      "bac97b3d6a29410c801151bc5b0b2179",
      "22c8c4246bde4862a4b4d42cb25f664d",
      "31312a53adf84bdb9fe555768b4dedd5",
      "fd126e4bee984966bf92db8801840a44",
      "cd09937c5bae497ebad7b553f2a1e80b",
      "59999ae64c034689907f7c92756aff82",
      "374cee61f38c47deaf3df8b7c599733a",
      "df74764e470c4a9a8e69e25816a04730",
      "608739b6e6c24c52b5dd7edb709b43e1",
      "b96671f554ac452f9c9b957bd3448e5c",
      "603e2a989d954d118f5a00f135c67d6d",
      "4ba7d0952eb14c628b08433ce6d23832",
      "82af9251e0db42e584c4d97f3363a27b",
      "e3d94ecdcee94a989ddc8d9b57ae2219",
      "a9ac4adfa46e4306a5f0270731e6ab31",
      "2d66c7d1e8e84b57920c561f129bbcc5",
      "e2b787a1b41b4f3abc04e7a5014506a5",
      "07f2de01295441b4b6fc8994f89d76b8",
      "e9a4a62fd8f544958f19458cf2f8b250",
      "b647263df047499cb5de36889365bf6c",
      "e2b8e07184c345ab93c941f9a0f7b401",
      "88da403f95e341f883f03d0d5b4ea89b",
      "077d2cb544964c95b3346540a5f398e7",
      "18381fde744f468ead09f3fe320d8fb9",
      "1dd6897ef4a841f4bd6067ffb95f6e5e",
      "aed0ba2885634eb19a4ae13693b7d6ec"
     ]
    },
    "id": "yHAgh1GbjYLn",
    "outputId": "74e6a547-9567-4665-886d-1089f367cbd2"
   },
   "outputs": [],
   "source": [
    "(ds_train, ds_test), ds_info = tfds.load(\n",
    "    'cifar10',\n",
    "    split=['train', 'test'],\n",
    "    shuffle_files=True,\n",
    "    as_supervised=True,\n",
    "    with_info=True,\n",
    ")"
   ]
  },
  {
   "cell_type": "code",
   "execution_count": null,
   "metadata": {
    "id": "ZkMucyrpjZWn"
   },
   "outputs": [],
   "source": [
    "AUTOTUNE = tf.data.experimental.AUTOTUNE\n",
    "BS = 16"
   ]
  },
  {
   "cell_type": "code",
   "execution_count": null,
   "metadata": {
    "id": "IXIOEPsujaU3"
   },
   "outputs": [],
   "source": [
    "@tf.function\n",
    "def rescale(image, label):\n",
    "    image = tf.cast(image, tf.float32) / 127.5 - 1.0\n",
    "    return image, label"
   ]
  },
  {
   "cell_type": "code",
   "execution_count": null,
   "metadata": {
    "id": "HWU_xD7Ejc-O"
   },
   "outputs": [],
   "source": [
    "@tf.function\n",
    "def augment(image, label):\n",
    "    image = tf.cast(image, tf.float32)\n",
    "    image = tf.image.random_flip_left_right(image)\n",
    "    image = image + tf.random.normal((32, 32, 3), mean=0.0, stddev=0.1)\n",
    "    return image, label"
   ]
  },
  {
   "cell_type": "code",
   "execution_count": null,
   "metadata": {
    "id": "NECnmWX5jtbN"
   },
   "outputs": [],
   "source": [
    "train_dl = ds_train.map(augment, AUTOTUNE).map(rescale, AUTOTUNE).cache().batch(BS).prefetch(AUTOTUNE)\n",
    "test_dl = ds_test.map(rescale).batch(BS).prefetch(AUTOTUNE)"
   ]
  },
  {
   "cell_type": "code",
   "execution_count": null,
   "metadata": {
    "id": "nnUGw0nnjzEk"
   },
   "outputs": [],
   "source": [
    "model = create_cnn('mobilenetv2', num_classes=10, drop_out=0.3, weights=None)"
   ]
  },
  {
   "cell_type": "code",
   "execution_count": null,
   "metadata": {
    "id": "Bf8kIl2Hm4QY"
   },
   "outputs": [],
   "source": [
    "model = tf.keras.models.Sequential()\n",
    "model.add(tf.keras.layers.Conv2D(32, (3, 3), activation='relu', input_shape=(32, 32, 3)))\n",
    "model.add(tf.keras.layers.MaxPooling2D((2, 2)))\n",
    "model.add(tf.keras.layers.Conv2D(64, (3, 3), activation='relu'))\n",
    "model.add(tf.keras.layers.MaxPooling2D((2, 2)))\n",
    "model.add(tf.keras.layers.Conv2D(64, (3, 3), activation='relu'))\n",
    "model.add(tf.keras.layers.Flatten())\n",
    "model.add(tf.keras.layers.Dense(64, activation='relu'))\n",
    "model.add(tf.keras.layers.Dense(10))"
   ]
  },
  {
   "cell_type": "code",
   "execution_count": null,
   "metadata": {
    "id": "UwCyITlYj05E"
   },
   "outputs": [],
   "source": [
    "lr_schedule = tfa.optimizers.Triangular2CyclicalLearningRate(1e-3, 1e-2, step_size=5000)\n",
    "\n",
    "model.compile(\n",
    "    optimizer=tf.keras.optimizers.Adam(),\n",
    "    loss=tf.keras.losses.SparseCategoricalCrossentropy(from_logits=True),\n",
    "    metrics=['accuracy']\n",
    ")"
   ]
  },
  {
   "cell_type": "code",
   "execution_count": null,
   "metadata": {
    "colab": {
     "base_uri": "https://localhost:8080/"
    },
    "id": "MCsF8AsKqfER",
    "outputId": "161291de-ccde-47c4-d7d1-28509dbd72b8"
   },
   "outputs": [],
   "source": [
    "model.fit(train_dl, epochs=15, validation_data=test_dl)"
   ]
  },
  {
   "cell_type": "code",
   "execution_count": null,
   "metadata": {
    "colab": {
     "base_uri": "https://localhost:8080/"
    },
    "id": "n1CAsjF8j_s9",
    "outputId": "9be444d6-86e9-4532-fda5-77bcb2fcb0d2"
   },
   "outputs": [],
   "source": [
    "model.fit(train_dl, epochs=15, validation_data=test_dl)"
   ]
  },
  {
   "cell_type": "code",
   "execution_count": null,
   "metadata": {
    "id": "qQu9CAYDlGci"
   },
   "outputs": [],
   "source": []
  }
 ],
 "metadata": {
  "accelerator": "GPU",
  "colab": {
   "collapsed_sections": [],
   "name": "cifar10-v01.ipynb",
   "provenance": []
  },
  "kernelspec": {
   "display_name": "Python 3",
   "name": "python3"
  }
 },
 "nbformat": 4,
 "nbformat_minor": 0
}
