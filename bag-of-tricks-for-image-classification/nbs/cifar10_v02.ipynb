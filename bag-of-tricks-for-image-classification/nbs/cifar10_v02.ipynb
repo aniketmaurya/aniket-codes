{
 "cells": [
  {
   "cell_type": "code",
   "execution_count": null,
   "metadata": {
    "id": "nim_eu6niEF1"
   },
   "outputs": [],
   "source": [
    "%load_ext autoreload\n",
    "%autoreload"
   ]
  },
  {
   "cell_type": "code",
   "execution_count": null,
   "metadata": {
    "colab": {
     "base_uri": "https://localhost:8080/"
    },
    "id": "bdqq44CqjfXR",
    "outputId": "a6230c5d-bebb-4d2e-adad-f8e4434cb4a9"
   },
   "outputs": [],
   "source": [
    "!pip install -q chitra==0.0.20"
   ]
  },
  {
   "cell_type": "markdown",
   "metadata": {},
   "source": [
    "## import"
   ]
  },
  {
   "cell_type": "code",
   "execution_count": null,
   "metadata": {
    "id": "SLs6nOVGjW-p"
   },
   "outputs": [],
   "source": [
    "import tensorflow as tf\n",
    "import tensorflow_datasets as tfds\n",
    "import tensorflow_addons as tfa\n",
    "\n",
    "from chitra.trainer import Trainer, create_cnn\n",
    "\n",
    "import matplotlib.pyplot as plt"
   ]
  },
  {
   "cell_type": "markdown",
   "metadata": {},
   "source": [
    "## helper functions"
   ]
  },
  {
   "cell_type": "code",
   "execution_count": null,
   "metadata": {},
   "outputs": [],
   "source": [
    "# data visualization\n",
    "\n",
    "def visualize(data, nrow=2, ncol=3):\n",
    "    fig, axs = plt.subplots(nrow, ncol)\n",
    "    _data = []\n",
    "    for img, label in data.take(nrow*ncol):\n",
    "        _data.append((img.numpy(), str(label.numpy())))\n",
    "    \n",
    "    k = 0\n",
    "    for i in range(nrow):\n",
    "        for j in range(ncol):\n",
    "            _data[k][0]\n",
    "            axs[i][j].imshow(_data[k][0])\n",
    "            axs[i][j].set_title(_data[k][1])\n",
    "            k+=1"
   ]
  },
  {
   "cell_type": "markdown",
   "metadata": {},
   "source": [
    "## define constants"
   ]
  },
  {
   "cell_type": "code",
   "execution_count": null,
   "metadata": {},
   "outputs": [],
   "source": [
    "AUTOTUNE = tf.data.experimental.AUTOTUNE\n",
    "BS = 16"
   ]
  },
  {
   "cell_type": "markdown",
   "metadata": {},
   "source": [
    "## Load data with tfds"
   ]
  },
  {
   "cell_type": "code",
   "execution_count": null,
   "metadata": {
    "colab": {
     "base_uri": "https://localhost:8080/",
     "height": 367,
     "referenced_widgets": [
      "73d82f84d6054c7ba534d3625163adae",
      "2fe08c5ef3d44f8cba182869e9c7ee90",
      "c7b8e57c4b25408a8e86b9791f7c46ef",
      "b052621310b74d41a78369ab34477b59",
      "87b19007224a4b36a18d0fa9a1e94161",
      "d98819461ece46d88d7b2d4b57aeb832",
      "430f2214d63d4fbda9666ac3bcc2c1a9",
      "7971cab0ba15480198ba3e46948e3110",
      "93e081a97bef4d908c96a0a746aeaaf7",
      "477fd34868a7486fa400f5b50f2cf3a0",
      "950a5930e52b4cd584e0a38a3d86f81e",
      "7d04d2d9819847ceb6c4fa0051ceeb30",
      "04d8c91fc25a49ea96fcfd27e366df10",
      "9ad58282f1e44c5d8325e26c6862155a",
      "24d03c9fb92c4b849b47b635cace88f8",
      "6658871293ea4c46a015dc410d1070bb",
      "e034c469c86f4462a3d5ab0c1d21138b",
      "a276debac4cd4861acc5c60d27883d8c",
      "be9e0945aad640e780d1722892829e6a",
      "eb9ffdcd20a9488e88db730498573686",
      "67695331ef884349a02087eb73225523",
      "d1327bda59f74316986119d1dcf4fb18",
      "8223c945e4d54878b8cfdd5cfa520a14",
      "5eeb2f698ac6464380fdcd3246680fb2",
      "e68207c55bcc4c918c8c1509ebacbdfc",
      "afb45cc7f3924fd58f2c140016102be6",
      "0fb6dd2b41744b62b5bc8559cd9d0503",
      "98247729baa6438e88b0971521a525b6",
      "3eff15e50563463ba51c9c4384636198",
      "1cda1ea27a6d438eaeeb3d34f23e1ec7",
      "f58286bd1b814662bea23990f65b4212",
      "4c5839e14614458e8fc348b9d2eabda1",
      "1f6f31a879164551b97c42d9108d9c73",
      "b9f3fe8235614c5eb15c7851a760f58b",
      "c22ff28b1ab9467b8d5575403c920be0",
      "2594ebccf20d4756b6e665acc014460a",
      "798952faa88349e5a318b92da07facf5",
      "fc75c87fa5e7450fac7cb6f8ac2b888e",
      "4cb1bb5fffb149a9b4309b509e063d19",
      "375825772faf4e11960badb612bbbbea",
      "2a9d4540e84d47368eade8829eab0d03",
      "6b566a9d5a084a60a756090cff3949c9",
      "cb78c888115f4ba7b320cf6307ea1a07",
      "c1232fbc1bdd42a9b704b1b69b4de034",
      "0282db507d1844e2940476a9ead5c122",
      "4f1ed10b21434800b752d4e7c25bad14",
      "f71248062ec0460fa4fe98807e0d1448",
      "f111928f812448a3a34232037142df5b",
      "ab4efb448f1b484988345173654922ac",
      "e9edb6dc021b41a0ad8255a1b37ac1e2",
      "2a0b8e8129794371b9a0e2ad3182bdb3",
      "c9c339a9caa449718dc5b37c9a2a8054",
      "f8e82c13c457499e94cb0e890528db0d",
      "406608bdc13446e78e6422045ab683a4",
      "0adc955e0b6045e7a7c820cdc6d6e4c6",
      "59199a8ef80e465d80ec3d7b6bda5ca5"
     ]
    },
    "id": "yHAgh1GbjYLn",
    "outputId": "192f2604-2557-4d25-dc89-d251e828c2ca"
   },
   "outputs": [],
   "source": [
    "(ds_train, ds_test), ds_info = tfds.load(\n",
    "    'cifar10',\n",
    "    split=['train', 'test'],\n",
    "    shuffle_files=True,\n",
    "    as_supervised=True,\n",
    "    with_info=True,\n",
    ")"
   ]
  },
  {
   "cell_type": "code",
   "execution_count": null,
   "metadata": {},
   "outputs": [],
   "source": [
    "visualize(ds_train)"
   ]
  },
  {
   "cell_type": "markdown",
   "metadata": {},
   "source": [
    "## Preprocess\n",
    "Images augmentation is applied to generate more data points from the existing data. It helps in generalization of the model and produce a regularization effect."
   ]
  },
  {
   "cell_type": "code",
   "execution_count": null,
   "metadata": {
    "id": "IXIOEPsujaU3"
   },
   "outputs": [],
   "source": [
    "@tf.function\n",
    "def rescale(image, label):\n",
    "    image = tf.cast(image, tf.float32) / 127.5 - 1.0\n",
    "    return image, label\n",
    "\n",
    "@tf.function\n",
    "def augment(image, label):\n",
    "    image = tf.cast(image, tf.float32)\n",
    "    image = tf.image.random_flip_left_right(image)\n",
    "    image = image + tf.random.normal((32, 32, 3), mean=0.0, stddev=0.1)\n",
    "    return image, label"
   ]
  },
  {
   "cell_type": "code",
   "execution_count": null,
   "metadata": {
    "id": "NECnmWX5jtbN"
   },
   "outputs": [],
   "source": [
    "train_dl = ds_train.map(augment, AUTOTUNE).map(rescale, AUTOTUNE).cache().batch(BS).prefetch(AUTOTUNE)\n",
    "test_dl = ds_test.map(rescale).batch(BS).prefetch(AUTOTUNE)"
   ]
  },
  {
   "cell_type": "markdown",
   "metadata": {},
   "source": [
    "## Build model"
   ]
  },
  {
   "cell_type": "code",
   "execution_count": null,
   "metadata": {
    "id": "nnUGw0nnjzEk"
   },
   "outputs": [],
   "source": [
    "model = create_cnn('resnet50', num_classes=10, drop_out=0.3, weights=None)"
   ]
  },
  {
   "cell_type": "code",
   "execution_count": null,
   "metadata": {
    "id": "UwCyITlYj05E"
   },
   "outputs": [],
   "source": [
    "model.compile(\n",
    "    optimizer=tf.keras.optimizers.Adam(),\n",
    "    loss=tf.keras.losses.SparseCategoricalCrossentropy(from_logits=True),\n",
    "    metrics=['accuracy']\n",
    ")"
   ]
  },
  {
   "cell_type": "code",
   "execution_count": null,
   "metadata": {
    "colab": {
     "base_uri": "https://localhost:8080/"
    },
    "id": "MCsF8AsKqfER",
    "outputId": "161291de-ccde-47c4-d7d1-28509dbd72b8"
   },
   "outputs": [],
   "source": [
    "model.fit(train_dl, epochs=15, validation_data=test_dl)"
   ]
  },
  {
   "cell_type": "code",
   "execution_count": null,
   "metadata": {
    "colab": {
     "base_uri": "https://localhost:8080/"
    },
    "id": "n1CAsjF8j_s9",
    "outputId": "9be444d6-86e9-4532-fda5-77bcb2fcb0d2"
   },
   "outputs": [],
   "source": [
    "model.fit(train_dl, epochs=15, validation_data=test_dl)"
   ]
  },
  {
   "cell_type": "code",
   "execution_count": null,
   "metadata": {
    "id": "qQu9CAYDlGci"
   },
   "outputs": [],
   "source": []
  }
 ],
 "metadata": {
  "accelerator": "GPU",
  "colab": {
   "collapsed_sections": [],
   "name": "cifar10-v02.ipynb",
   "provenance": []
  },
  "kernelspec": {
   "display_name": "Python 3",
   "language": "python",
   "name": "python3"
  },
  "language_info": {
   "codemirror_mode": {
    "name": "ipython",
    "version": 3
   },
   "file_extension": ".py",
   "mimetype": "text/x-python",
   "name": "python",
   "nbconvert_exporter": "python",
   "pygments_lexer": "ipython3",
   "version": "3.7.7"
  },
  "toc": {
   "base_numbering": 1,
   "nav_menu": {},
   "number_sections": true,
   "sideBar": true,
   "skip_h1_title": false,
   "title_cell": "Table of Contents",
   "title_sidebar": "Contents",
   "toc_cell": false,
   "toc_position": {},
   "toc_section_display": true,
   "toc_window_display": true
  }
 },
 "nbformat": 4,
 "nbformat_minor": 1
}
