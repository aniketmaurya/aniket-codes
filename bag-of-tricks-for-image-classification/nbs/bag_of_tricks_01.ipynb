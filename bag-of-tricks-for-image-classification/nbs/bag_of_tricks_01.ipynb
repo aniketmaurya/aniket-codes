{
 "cells": [
  {
   "cell_type": "code",
   "execution_count": null,
   "metadata": {
    "id": "nim_eu6niEF1"
   },
   "outputs": [],
   "source": [
    "%load_ext autoreload\n",
    "%autoreload"
   ]
  },
  {
   "cell_type": "code",
   "execution_count": null,
   "metadata": {
    "colab": {
     "base_uri": "https://localhost:8080/"
    },
    "id": "bdqq44CqjfXR",
    "outputId": "66b58732-9d76-4f55-86b6-77389732610d"
   },
   "outputs": [],
   "source": [
    "!pip install -q chitra==0.0.20"
   ]
  },
  {
   "cell_type": "markdown",
   "metadata": {
    "id": "E0GRgy_AqWTl"
   },
   "source": [
    "## import"
   ]
  },
  {
   "cell_type": "code",
   "execution_count": null,
   "metadata": {
    "colab": {
     "base_uri": "https://localhost:8080/"
    },
    "id": "SLs6nOVGjW-p",
    "outputId": "17bd7b44-b8f8-402b-a437-a612c085ec53"
   },
   "outputs": [],
   "source": [
    "import numpy as np\n",
    "import math\n",
    "import tensorflow as tf\n",
    "import tensorflow_datasets as tfds\n",
    "import tensorflow_addons as tfa\n",
    "\n",
    "from chitra.trainer import Trainer, create_cnn\n",
    "\n",
    "import matplotlib.pyplot as plt\n",
    "\n",
    "from tqdm import tqdm"
   ]
  },
  {
   "cell_type": "markdown",
   "metadata": {
    "id": "UYF9dAq0qWTm"
   },
   "source": [
    "## helper functions"
   ]
  },
  {
   "cell_type": "code",
   "execution_count": null,
   "metadata": {
    "id": "_wWMOMRvqWTn"
   },
   "outputs": [],
   "source": [
    "# data visualization\n",
    "\n",
    "def visualize(data, nrow=2, ncol=3):\n",
    "    fig, axs = plt.subplots(nrow, ncol)\n",
    "    _data = []\n",
    "    for img, label in data.take(nrow*ncol):\n",
    "        _data.append((img.numpy(), str(label.numpy())))\n",
    "    \n",
    "    k = 0\n",
    "    for i in range(nrow):\n",
    "        for j in range(ncol):\n",
    "            _data[k][0]\n",
    "            axs[i][j].imshow(_data[k][0])\n",
    "            axs[i][j].set_title(_data[k][1])\n",
    "            k+=1"
   ]
  },
  {
   "cell_type": "markdown",
   "metadata": {
    "id": "sI9Snc8IqWTn"
   },
   "source": [
    "## define constants"
   ]
  },
  {
   "cell_type": "code",
   "execution_count": null,
   "metadata": {
    "id": "X1lF-mEvqWTn"
   },
   "outputs": [],
   "source": [
    "AUTOTUNE = tf.data.experimental.AUTOTUNE\n",
    "BS = 16"
   ]
  },
  {
   "cell_type": "markdown",
   "metadata": {
    "id": "5W1HZLBJqWTo"
   },
   "source": [
    "## Load data with tfds"
   ]
  },
  {
   "cell_type": "code",
   "execution_count": null,
   "metadata": {
    "colab": {
     "background_save": true,
     "base_uri": "https://localhost:8080/",
     "height": 284,
     "referenced_widgets": [
      "1e90c65be9314e0bae05d20d2877f867",
      "2660892938c64ee8be648117bec190f6",
      "7a943b36db8a45e7b9301008786f912d",
      "4667735e945c4a168a6128d02defcd30",
      "46fc18e7cf344e808d810d60f0f1c6d0",
      "fbeae26c6a1a4331b828faf5a81c3473",
      "c61b55412ef742a68d324d66b8f3b74c",
      "bfb1e9dbbd3740cda7f38d0d35c8c2eb",
      "ecb565bf819048ac8ea2df84a711e246",
      "413a5b2c02de459fbdf65aba8307bfc7",
      "2eadd0b0f1924aad98c5e3dcdae5158a",
      "80cfc778cd0147ef8983a7ee33d21715",
      "59590b77dcbc4114b72650f5a1e41291",
      "2bdf09414eae4d97a721440838f5fa43",
      "cc8d19b8abe54699ac81b6f6d7203e91",
      "f5082ca29ddb40deab34907fa1720894",
      "4f0e1f21c45c4455bec702b3ba3a7624",
      "ecb3a15370ec472793ff367deabe6baa",
      "533672be78be4f9b91ca157cf688780d",
      "db39953557d545adac07af67f2175846",
      "d200c3e941ea4e5cae8b43f995a2071f",
      "0b2393b817fe46deadf64c7e8e9b2ac5",
      "c1fe8e9f8a13459d92ce7ef2cc099ee7",
      "4471eca92e114cf5b5e71f1511b2cea5",
      "239c6ec2e6b740feb3c3ec63832f5cbe",
      "862cf8fe60bf4b26b9e03a906eb4f193",
      "61627244c1c04479a6fedda3c508589b",
      "5fa6392f7c3e462d80406b68a311fa15",
      "8f5ee764232c4dbeacf7ff5bb28144da",
      "ed3cdd3979c042a991272ba85c795a77",
      "46c9be33cf994b88a3b53a96273a9a73",
      "38933c63ea784170bc310c8e81b34079",
      "4bd0fe796cfa4083bb1e639724ee9514",
      "eab1611a2be340979ae2b399b54f3322",
      "001f856d3ed5417e99a58392e0297686"
     ]
    },
    "id": "yHAgh1GbjYLn",
    "outputId": "1030353c-8e66-4998-b1d2-02ca5f2603e0"
   },
   "outputs": [],
   "source": [
    "(ds_train, ds_test), ds_info = tfds.load(\n",
    "    'cifar10',\n",
    "    split=['train', 'test'],\n",
    "    shuffle_files=True,\n",
    "    as_supervised=True,\n",
    "    with_info=True,\n",
    ")"
   ]
  },
  {
   "cell_type": "code",
   "execution_count": null,
   "metadata": {
    "colab": {
     "background_save": true
    },
    "id": "fy-yY3sWqWTo",
    "outputId": "db08f656-ef43-49c5-8d0b-dc6396c879f5"
   },
   "outputs": [],
   "source": [
    "visualize(ds_train)"
   ]
  },
  {
   "cell_type": "markdown",
   "metadata": {
    "id": "HNsQe8KWqWTp"
   },
   "source": [
    "## Preprocessing\n",
    "Images augmentation is applied to generate more data points from the existing data. It helps in generalization of the model and produce a regularization effect."
   ]
  },
  {
   "cell_type": "code",
   "execution_count": null,
   "metadata": {
    "colab": {
     "background_save": true
    },
    "id": "IXIOEPsujaU3"
   },
   "outputs": [],
   "source": [
    "@tf.function\n",
    "def rescale(image, label):\n",
    "    image = tf.cast(image, tf.float32) / 127.5 - 1.0\n",
    "    return image, label\n",
    "\n",
    "@tf.function\n",
    "def augment(image, label):\n",
    "    image = tf.cast(image, tf.float32)\n",
    "    image = tf.image.random_flip_left_right(image)\n",
    "    image = image + tf.random.normal((32, 32, 3), mean=0.0, stddev=0.1)\n",
    "    return image, label"
   ]
  },
  {
   "cell_type": "code",
   "execution_count": null,
   "metadata": {
    "colab": {
     "background_save": true
    },
    "id": "NECnmWX5jtbN"
   },
   "outputs": [],
   "source": [
    "train_dl = ds_train.map(augment, AUTOTUNE).map(rescale, AUTOTUNE).cache().batch(BS).prefetch(AUTOTUNE)\n",
    "test_dl = ds_test.map(rescale).batch(BS).prefetch(AUTOTUNE)"
   ]
  },
  {
   "cell_type": "markdown",
   "metadata": {
    "id": "DNfiopisqWTq"
   },
   "source": [
    "## Build model"
   ]
  },
  {
   "cell_type": "code",
   "execution_count": null,
   "metadata": {
    "colab": {
     "background_save": true
    },
    "id": "nnUGw0nnjzEk"
   },
   "outputs": [],
   "source": [
    "model = create_cnn('resnet50', num_classes=10, weights=None)"
   ]
  },
  {
   "cell_type": "markdown",
   "metadata": {
    "id": "gbvlFs3dvIwg"
   },
   "source": [
    "## Learning rate finder"
   ]
  },
  {
   "cell_type": "code",
   "execution_count": null,
   "metadata": {
    "colab": {
     "background_save": true
    },
    "id": "93gQzOtuqWTs"
   },
   "outputs": [],
   "source": [
    "def exp_annealing(step, max_steps, min_lr=1e-7, max_lr=10):\n",
    "    return min_lr * (max_lr / min_lr) ** (step * 1. / max_steps)\n",
    "\n",
    "\n",
    "def lr_finder(model, dataloader, min_lr=1e-7, max_lr=10., max_steps=100, beta=0.98):\n",
    "    model = tf.keras.models.clone_model(model)\n",
    "\n",
    "    avg_loss = 0.\n",
    "    best_loss = 0.\n",
    "    best_lr = 0.\n",
    "    losses = []\n",
    "    log_lrs = []\n",
    "    batch_num = 0\n",
    "    lr = min_lr\n",
    "    criterion = tf.keras.losses.SparseCategoricalCrossentropy(from_logits=True)\n",
    "    optimizer = tf.keras.optimizers.Adam(learning_rate=min_lr)\n",
    "\n",
    "    for i, (images, gt_labels) in enumerate(tqdm(dataloader.take(max_steps), total=max_steps)):\n",
    "        batch_num+=1\n",
    "        with tf.GradientTape() as tape:\n",
    "            logits = model(images)\n",
    "            loss = criterion(gt_labels, logits)\n",
    "\n",
    "        grads = tape.gradient(loss, model.trainable_variables)\n",
    "        optimizer.apply_gradients(zip(grads, model.trainable_variables))\n",
    "\n",
    "        avg_loss = beta * avg_loss + (1-beta) * loss.numpy()\n",
    "        # print(f'avg_loss:{avg_loss}')\n",
    "        smoothed_loss = avg_loss / (1 - beta**batch_num)\n",
    "        # print(f'smoothed_loss:{smoothed_loss}')\n",
    "\n",
    "        # Stop if the loss is exploding\n",
    "        if batch_num > 1 and smoothed_loss > 4 * best_loss:\n",
    "            return log_lrs, losses, {'best_loss':best_loss, 'best_lr': best_lr}\n",
    "        # Record the best loss\n",
    "        if smoothed_loss < best_loss or batch_num == 1:\n",
    "            best_loss = smoothed_loss\n",
    "            best_lr = lr\n",
    "\n",
    "        losses.append(smoothed_loss)\n",
    "        log_lrs.append(lr)\n",
    "\n",
    "        lr = exp_annealing(i+1, max_steps, min_lr, max_lr)\n",
    "        tf.keras.backend.set_value(optimizer.lr, lr)\n",
    "\n",
    "    return (lrs, losses, {'best_loss':best_loss, 'best_lr': best_lr})"
   ]
  },
  {
   "cell_type": "code",
   "execution_count": null,
   "metadata": {
    "id": "0Kz63TImqWTt"
   },
   "outputs": [],
   "source": [
    "lrs,losses, lr_info = lr_finder(model, train_dl, max_steps=50000//BS)"
   ]
  },
  {
   "cell_type": "code",
   "execution_count": null,
   "metadata": {
    "id": "j6B32N3lsYTN"
   },
   "outputs": [],
   "source": [
    "def plot(lrs, losses, info=None):\n",
    "    fig, ax = plt.subplots(1, 1)\n",
    "    ax.set_ylabel('Loss')\n",
    "    ax.set_xlabel('Learning Rate')\n",
    "    ax.set_xscale('log')\n",
    "    ax.xaxis.set_major_formatter(plt.FormatStrFormatter('%.0e'))\n",
    "    if info:\n",
    "        ax.plot(info['best_lr'], info['best_loss'], 'r+', markersize=25)\n",
    "    ax.plot(lrs, losses)"
   ]
  },
  {
   "cell_type": "code",
   "execution_count": null,
   "metadata": {
    "colab": {
     "base_uri": "https://localhost:8080/",
     "height": 279
    },
    "id": "9FcYFdMFqWTt",
    "outputId": "0edf1ee2-e467-4a35-c279-da2625371a45"
   },
   "outputs": [],
   "source": [
    "plot(lrs[10:-5], losses[10:-5], lr_info)\n",
    "plt.show()"
   ]
  },
  {
   "cell_type": "code",
   "execution_count": null,
   "metadata": {
    "colab": {
     "base_uri": "https://localhost:8080/"
    },
    "id": "e8NDm3y0qWTu",
    "outputId": "ba4eb5b8-441a-4447-be3a-ecbb95eaf1f8"
   },
   "outputs": [],
   "source": [
    "lr_info['best_lr']/5"
   ]
  },
  {
   "cell_type": "markdown",
   "metadata": {
    "id": "2h4j_8dfNFg4"
   },
   "source": [
    "## Train the network with this learning rate"
   ]
  },
  {
   "cell_type": "code",
   "execution_count": null,
   "metadata": {
    "id": "wTSnJZ_dqWTu"
   },
   "outputs": [],
   "source": [
    "init_lr = lr_info['best_lr']/5\n",
    "\n",
    "model = create_cnn('resnet50', num_classes=10, weights=None)\n",
    "optimizer = tf.keras.optimizers.Adam(init_lr)\n",
    "criterion = tf.keras.losses.SparseCategoricalCrossentropy(from_logits=True)\n",
    "\n",
    "model.compile(optimizer, criterion, metrics=['accuracy'])"
   ]
  },
  {
   "cell_type": "code",
   "execution_count": null,
   "metadata": {
    "id": "oVVOPc9mpMKB"
   },
   "outputs": [],
   "source": []
  },
  {
   "cell_type": "code",
   "execution_count": null,
   "metadata": {
    "colab": {
     "base_uri": "https://localhost:8080/"
    },
    "id": "H8mNUM_lqWTu",
    "outputId": "42658ede-8706-4040-cc92-de1c7e27dc37"
   },
   "outputs": [],
   "source": [
    "callbacks = []\n",
    "callbacks.append(tf.keras.callbacks.EarlyStopping(patience=7))\n",
    "\n",
    "model.fit(train_dl, validation_data=test_dl, epochs=100, callbacks=callbacks)"
   ]
  },
  {
   "cell_type": "code",
   "execution_count": null,
   "metadata": {
    "id": "t0V6C6d9qWTv"
   },
   "outputs": [],
   "source": []
  },
  {
   "cell_type": "code",
   "execution_count": null,
   "metadata": {
    "id": "Ov834mk5qWTv"
   },
   "outputs": [],
   "source": []
  },
  {
   "cell_type": "code",
   "execution_count": null,
   "metadata": {
    "id": "ILhcLf9QqWTv"
   },
   "outputs": [],
   "source": []
  },
  {
   "cell_type": "code",
   "execution_count": null,
   "metadata": {
    "id": "wCYhB3nNqWTv"
   },
   "outputs": [],
   "source": []
  },
  {
   "cell_type": "code",
   "execution_count": null,
   "metadata": {
    "id": "O9i8Mu-yqWTv"
   },
   "outputs": [],
   "source": []
  },
  {
   "cell_type": "code",
   "execution_count": null,
   "metadata": {
    "id": "I_psRFYCqWTw"
   },
   "outputs": [],
   "source": []
  },
  {
   "cell_type": "code",
   "execution_count": null,
   "metadata": {
    "id": "atMhKuohqWTw"
   },
   "outputs": [],
   "source": []
  },
  {
   "cell_type": "code",
   "execution_count": null,
   "metadata": {
    "id": "Kn3DvaEhqWTw"
   },
   "outputs": [],
   "source": []
  },
  {
   "cell_type": "code",
   "execution_count": null,
   "metadata": {
    "id": "xhFBY7uDqWTw"
   },
   "outputs": [],
   "source": []
  },
  {
   "cell_type": "code",
   "execution_count": null,
   "metadata": {
    "id": "AgGdqjKQqWTw"
   },
   "outputs": [],
   "source": []
  },
  {
   "cell_type": "code",
   "execution_count": null,
   "metadata": {
    "id": "IOVQ1jWYqWTw"
   },
   "outputs": [],
   "source": []
  },
  {
   "cell_type": "code",
   "execution_count": null,
   "metadata": {
    "id": "ziFZvhJbqWTw"
   },
   "outputs": [],
   "source": []
  },
  {
   "cell_type": "code",
   "execution_count": null,
   "metadata": {
    "id": "HVV6TsD7qWTw"
   },
   "outputs": [],
   "source": []
  }
 ],
 "metadata": {
  "accelerator": "GPU",
  "colab": {
   "collapsed_sections": [],
   "name": "bag-of-tricks-01.ipynb",
   "provenance": []
  },
  "kernelspec": {
   "display_name": "Python 3",
   "language": "python",
   "name": "python3"
  },
  "language_info": {
   "codemirror_mode": {
    "name": "ipython",
    "version": 3
   },
   "file_extension": ".py",
   "mimetype": "text/x-python",
   "name": "python",
   "nbconvert_exporter": "python",
   "pygments_lexer": "ipython3",
   "version": "3.7.10"
  },
  "toc": {
   "base_numbering": 1,
   "nav_menu": {},
   "number_sections": true,
   "sideBar": true,
   "skip_h1_title": false,
   "title_cell": "Table of Contents",
   "title_sidebar": "Contents",
   "toc_cell": false,
   "toc_position": {},
   "toc_section_display": true,
   "toc_window_display": true
  }
 },
 "nbformat": 4,
 "nbformat_minor": 4
}
