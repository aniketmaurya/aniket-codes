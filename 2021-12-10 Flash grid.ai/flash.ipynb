{
 "cells": [
  {
   "cell_type": "markdown",
   "id": "8334cff2",
   "metadata": {
    "id": "8334cff2"
   },
   "source": [
    "# PyTorch Lightning Flash\n",
    "---\n",
    "\n",
    "> ![FLASH LOGO](https://github.com/PyTorchLightning/lightning-flash/raw/master/docs/source/_static/images/logo.svg)\n",
    "\n",
    "Flash is a framework of tasks for fast prototyping, baselining, finetuning and solving business and scientific problems with deep learning.\n",
    "It is focused on:\n",
    "\n",
    "1. Predictions\n",
    "1. Finetuning\n",
    "1. Task-based training\n",
    "\n",
    "\n",
    "#### Image\n",
    "- Classification\n",
    "- Segmentation\n",
    "- Object Detection\n",
    "- Style Transfer\n",
    "\n",
    "#### Text\n",
    "- Text Classification\n",
    "- Question Answering\n",
    "\n",
    "#### Audio\n",
    "- Classification\n",
    "- Speech Recognition\n",
    "\n",
    "#### Tabular\n",
    "- Classification\n",
    "- Regression\n",
    "\n",
    "#### Video\n",
    "- Classification\n"
   ]
  },
  {
   "cell_type": "code",
   "execution_count": null,
   "id": "RC05VTEJW1_h",
   "metadata": {
    "id": "RC05VTEJW1_h"
   },
   "outputs": [],
   "source": [
    "# Install the latest version\n",
    "!pip install 'git+https://github.com/PyTorchLightning/lightning-flash.git#egg=lightning-flash[image]' -q"
   ]
  },
  {
   "cell_type": "code",
   "execution_count": null,
   "id": "237829c1",
   "metadata": {
    "id": "237829c1"
   },
   "outputs": [],
   "source": [
    "import torch\n",
    "import flash\n",
    "from flash.image import SemanticSegmentationData\n",
    "from flash.image import SemanticSegmentation\n",
    "from flash.core.data.utils import download_data"
   ]
  },
  {
   "cell_type": "markdown",
   "id": "d965acfc",
   "metadata": {
    "id": "d965acfc"
   },
   "source": [
    "## Image Classification Training with Pure PyTorch\n",
    "\n",
    "It is a multistep process-\n",
    "\n",
    "1. Load Dataset\n",
    "2. Build Model\n",
    "3. Create Loss function and Optimizer\n",
    "4. Train Model"
   ]
  },
  {
   "cell_type": "code",
   "execution_count": null,
   "id": "1b3f4fd6",
   "metadata": {
    "id": "1b3f4fd6"
   },
   "outputs": [],
   "source": [
    "# source: PyTorch.org - TRAINING A CLASSIFIER \n",
    "\n",
    "import torch\n",
    "import torchvision\n",
    "import torchvision.transforms as transforms"
   ]
  },
  {
   "cell_type": "code",
   "execution_count": null,
   "id": "db155b55",
   "metadata": {
    "id": "db155b55"
   },
   "outputs": [],
   "source": [
    "transform = transforms.Compose(\n",
    "    [transforms.ToTensor(),\n",
    "     transforms.Normalize((0.5, 0.5, 0.5), (0.5, 0.5, 0.5))])\n",
    "\n",
    "batch_size = 4\n"
   ]
  },
  {
   "cell_type": "code",
   "execution_count": null,
   "id": "87050423",
   "metadata": {
    "colab": {
     "base_uri": "https://localhost:8080/",
     "height": 101,
     "referenced_widgets": [
      "0c13e969f3b241f3ad0b6cf57cc83ba3",
      "a79c8c15d5d544dfb2397016268da937",
      "abbfe12259c649aca707df1ddae209b3",
      "62019f6753014675bd76a83355b420b5",
      "211c377a3b5c43ffa38f6ab0f8786776",
      "37822e05a8b54da2b3e1b28fef8bac26",
      "00409524bf704bde91998b4ff9b2a6fd",
      "d1edd957a204454e84e7d4961c83cc41",
      "1d199fd46350443d83a99784170e467b",
      "f6e306be1165407dbdf3767eaafccfc2",
      "7535a09e7d8a49a6817eb0b79db14552"
     ]
    },
    "id": "87050423",
    "outputId": "886e3496-ead9-4f45-b6d3-b6b0df6608ba"
   },
   "outputs": [],
   "source": [
    "trainset = torchvision.datasets.CIFAR10(root='~/data', train=True,\n",
    "                                        download=True, transform=transform)\n",
    "trainloader = torch.utils.data.DataLoader(trainset, batch_size=batch_size,\n",
    "                                          shuffle=True, num_workers=2)\n",
    "\n",
    "testset = torchvision.datasets.CIFAR10(root='~/data', train=False,\n",
    "                                       download=True, transform=transform)\n",
    "testloader = torch.utils.data.DataLoader(testset, batch_size=batch_size,\n",
    "                                         shuffle=False, num_workers=2)\n",
    "\n",
    "classes = ('plane', 'car', 'bird', 'cat',\n",
    "           'deer', 'dog', 'frog', 'horse', 'ship', 'truck')"
   ]
  },
  {
   "cell_type": "code",
   "execution_count": null,
   "id": "4e4926ed",
   "metadata": {
    "colab": {
     "base_uri": "https://localhost:8080/",
     "height": 155
    },
    "id": "4e4926ed",
    "outputId": "815e0787-f4a3-43b6-fe8d-48b0f7e8cfd0"
   },
   "outputs": [],
   "source": [
    "import matplotlib.pyplot as plt\n",
    "import numpy as np\n",
    "\n",
    "# functions to show an image\n",
    "\n",
    "\n",
    "def imshow(img):\n",
    "    img = img / 2 + 0.5     # unnormalize\n",
    "    npimg = img.numpy()\n",
    "    plt.imshow(np.transpose(npimg, (1, 2, 0)))\n",
    "    plt.show()\n",
    "\n",
    "\n",
    "# get some random training images\n",
    "dataiter = iter(trainloader)\n",
    "images, labels = dataiter.next()\n",
    "\n",
    "# show images\n",
    "imshow(torchvision.utils.make_grid(images))\n",
    "# print labels\n",
    "print(' '.join('%5s' % classes[labels[j]] for j in range(batch_size)))"
   ]
  },
  {
   "cell_type": "code",
   "execution_count": null,
   "id": "GPLzdUE3YwS0",
   "metadata": {
    "id": "GPLzdUE3YwS0"
   },
   "outputs": [],
   "source": [
    "DEVICE = \"cuda\""
   ]
  },
  {
   "cell_type": "code",
   "execution_count": null,
   "id": "b1a57efa",
   "metadata": {
    "id": "b1a57efa"
   },
   "outputs": [],
   "source": [
    "import torch.nn as nn\n",
    "import torch.nn.functional as F\n",
    "\n",
    "\n",
    "class Net(nn.Module):\n",
    "    def __init__(self):\n",
    "        super().__init__()\n",
    "        self.conv1 = nn.Conv2d(3, 6, 5)\n",
    "        self.pool = nn.MaxPool2d(2, 2)\n",
    "        self.conv2 = nn.Conv2d(6, 16, 5)\n",
    "        self.fc1 = nn.Linear(16 * 5 * 5, 120)\n",
    "        self.fc2 = nn.Linear(120, 84)\n",
    "        self.fc3 = nn.Linear(84, 10)\n",
    "\n",
    "    def forward(self, x):\n",
    "        x = self.pool(F.relu(self.conv1(x)))\n",
    "        x = self.pool(F.relu(self.conv2(x)))\n",
    "        x = torch.flatten(x, 1) # flatten all dimensions except batch\n",
    "        x = F.relu(self.fc1(x))\n",
    "        x = F.relu(self.fc2(x))\n",
    "        x = self.fc3(x)\n",
    "        return x\n",
    "\n",
    "\n",
    "net = Net()\n",
    "net = net.to(DEVICE)\n",
    "optimizer = torch.optim.Adam(net.parameters())\n",
    "criterion = torch.nn.CrossEntropyLoss()"
   ]
  },
  {
   "cell_type": "code",
   "execution_count": null,
   "id": "34656a4d",
   "metadata": {
    "id": "34656a4d"
   },
   "outputs": [],
   "source": [
    "for epoch in range(2):  # loop over the dataset multiple times\n",
    "\n",
    "    running_loss = 0.0\n",
    "    for i, data in enumerate(trainloader, 0):\n",
    "        # get the inputs; data is a list of [inputs, labels]\n",
    "        inputs, labels = data\n",
    "        inputs, labels = inputs.to(DEVICE), labels.to(DEVICE)\n",
    "\n",
    "        # zero the parameter gradients\n",
    "        optimizer.zero_grad()\n",
    "\n",
    "        # forward + backward + optimize\n",
    "        outputs = net(inputs)\n",
    "        loss = criterion(outputs, labels)\n",
    "        loss.backward()\n",
    "        optimizer.step()\n",
    "\n",
    "        # print statistics\n",
    "        running_loss += loss.cpu().item()\n",
    "        if i % 2000 == 1999:    # print every 2000 mini-batches\n",
    "            print('[%d, %5d] loss: %.3f' %\n",
    "                  (epoch + 1, i + 1, running_loss / 2000))\n",
    "            running_loss = 0.0\n",
    "\n",
    "print('Finished Training')"
   ]
  },
  {
   "cell_type": "markdown",
   "id": "44835970",
   "metadata": {
    "id": "44835970"
   },
   "source": [
    "## With Flash"
   ]
  },
  {
   "cell_type": "code",
   "execution_count": null,
   "id": "75bf4c3f",
   "metadata": {
    "id": "75bf4c3f"
   },
   "outputs": [],
   "source": [
    "import torch\n",
    "\n",
    "import flash\n",
    "from flash.core.data.utils import download_data\n",
    "from flash.image import ImageClassificationData, ImageClassifier"
   ]
  },
  {
   "cell_type": "code",
   "execution_count": null,
   "id": "8654a8c4",
   "metadata": {
    "id": "8654a8c4"
   },
   "outputs": [],
   "source": [
    "datamodule = ImageClassificationData.from_folders(\n",
    "    train_folder=\"~/data/cifar10/train\",\n",
    "    val_folder=\"~/data/cifar10/val\",\n",
    ")"
   ]
  },
  {
   "cell_type": "code",
   "execution_count": null,
   "id": "621531c8",
   "metadata": {
    "id": "621531c8"
   },
   "outputs": [],
   "source": [
    "model = ImageClassifier(backbone=\"resnet18\", num_classes=datamodule.num_classes)\n",
    "\n",
    "trainer = flash.Trainer(max_epochs=3, gpus=torch.cuda.device_count())\n",
    "trainer.finetune(model, datamodule=datamodule, strategy=\"freeze\")"
   ]
  },
  {
   "cell_type": "markdown",
   "id": "0f0b7e03",
   "metadata": {
    "id": "0f0b7e03"
   },
   "source": [
    "## Flash Zero\n",
    "\n",
    "Flash Zero is a zero-code machine learning platform. Here’s an image classification example to illustrate with one of the dozens tasks available.\n"
   ]
  },
  {
   "cell_type": "code",
   "execution_count": null,
   "id": "1a3a55ad",
   "metadata": {
    "id": "1a3a55ad"
   },
   "outputs": [],
   "source": [
    "!flash image_classification \\\n",
    "    --trainer.max_epochs 10 \\\n",
    "    --model.backbone resnet50 \\\n",
    "  from_folders \\\n",
    "    --train_folder data/hymenoptera_data/train"
   ]
  },
  {
   "cell_type": "markdown",
   "id": "537443ba",
   "metadata": {
    "id": "537443ba"
   },
   "source": [
    "## Training Semantic Segmentation and My Contribution"
   ]
  },
  {
   "cell_type": "code",
   "execution_count": null,
   "id": "a3359e78",
   "metadata": {
    "id": "a3359e78"
   },
   "outputs": [],
   "source": [
    "# download_data(\n",
    "#     \"https://github.com/ongchinkiat/LyftPerceptionChallenge/releases/download/v0.1/carla-capture-20180513A.zip\",\n",
    "#     \"./data\",\n",
    "# )"
   ]
  },
  {
   "cell_type": "code",
   "execution_count": null,
   "id": "70f87960",
   "metadata": {
    "id": "70f87960"
   },
   "outputs": [],
   "source": [
    "dm = SemanticSegmentationData.from_folders(\n",
    "    train_folder=\"data/CameraRGB\",\n",
    "    train_target_folder=\"data/CameraSeg\",\n",
    "    val_split=0.1,\n",
    "    image_size=(256, 256),\n",
    "    num_classes=21,\n",
    ")"
   ]
  },
  {
   "cell_type": "code",
   "execution_count": null,
   "id": "b64198e6",
   "metadata": {
    "id": "b64198e6"
   },
   "outputs": [],
   "source": [
    "model = SemanticSegmentation(\n",
    "  head=\"fpn\", backbone='efficientnet-b0', pretrained=\"advprop\", num_classes=dm.num_classes)"
   ]
  },
  {
   "cell_type": "code",
   "execution_count": null,
   "id": "942709d8",
   "metadata": {
    "id": "942709d8"
   },
   "outputs": [],
   "source": [
    "# # 3. Create the trainer and finetune the model\n",
    "# trainer = flash.Trainer(max_epochs=3, gpus=torch.cuda.device_count())\n",
    "# trainer.finetune(model, datamodule=dm, strategy=\"freeze\")"
   ]
  },
  {
   "cell_type": "code",
   "execution_count": null,
   "id": "9e2e3216",
   "metadata": {
    "id": "9e2e3216"
   },
   "outputs": [],
   "source": [
    "# 4. Segment a few images!\n",
    "predictions = model.predict(\n",
    "    [\n",
    "        \"data/CameraRGB/F61-1.png\",\n",
    "        \"data/CameraRGB/F62-1.png\",\n",
    "        \"data/CameraRGB/F63-1.png\",\n",
    "    ]\n",
    ")\n",
    "print(predictions)"
   ]
  },
  {
   "cell_type": "code",
   "execution_count": null,
   "id": "084ffcc9",
   "metadata": {
    "id": "084ffcc9"
   },
   "outputs": [],
   "source": [
    "# !flash semantic_segmentation --help"
   ]
  }
 ],
 "metadata": {
  "accelerator": "GPU",
  "colab": {
   "name": "flash.ipynb",
   "provenance": []
  },
  "kernelspec": {
   "display_name": "Python 3 (ipykernel)",
   "language": "python",
   "name": "python3"
  },
  "language_info": {
   "codemirror_mode": {
    "name": "ipython",
    "version": 3
   },
   "file_extension": ".py",
   "mimetype": "text/x-python",
   "name": "python",
   "nbconvert_exporter": "python",
   "pygments_lexer": "ipython3",
   "version": "3.8.11"
  }
 },
 "nbformat": 4,
 "nbformat_minor": 5
}
