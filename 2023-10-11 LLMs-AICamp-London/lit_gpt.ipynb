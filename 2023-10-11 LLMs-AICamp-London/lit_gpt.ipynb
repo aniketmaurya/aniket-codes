{
 "cells": [
  {
   "cell_type": "code",
   "execution_count": 5,
   "metadata": {},
   "outputs": [
    {
     "name": "stdout",
     "output_type": "stream",
     "text": [
      "/home/aniket/workspace/aniket-codes/2023-10-11 LLMs-AICamp-London/lit-gpt\n"
     ]
    }
   ],
   "source": [
    "%cd lit-gpt"
   ]
  },
  {
   "cell_type": "code",
   "execution_count": null,
   "metadata": {},
   "outputs": [],
   "source": [
    "!wget https://gist.githubusercontent.com/aniketmaurya/b8e5bd3f1594bd31ed34375ed916f075/raw/b831e5ab054ac6c94a4a409d32be14b6fdcad82a/databricks-dolly-15k.csv\n",
    "!mv databricks-dolly-15k.csv /data/aniket/datasets/databricks-dolly-15k.csv"
   ]
  },
  {
   "cell_type": "code",
   "execution_count": 1,
   "metadata": {},
   "outputs": [],
   "source": [
    "import pandas as pd\n",
    "\n",
    "df = pd.read_csv(\"/data/aniket/datasets/databricks-dolly-15k.csv\")"
   ]
  },
  {
   "cell_type": "code",
   "execution_count": 2,
   "metadata": {},
   "outputs": [
    {
     "data": {
      "text/html": [
       "<div>\n",
       "<style scoped>\n",
       "    .dataframe tbody tr th:only-of-type {\n",
       "        vertical-align: middle;\n",
       "    }\n",
       "\n",
       "    .dataframe tbody tr th {\n",
       "        vertical-align: top;\n",
       "    }\n",
       "\n",
       "    .dataframe thead th {\n",
       "        text-align: right;\n",
       "    }\n",
       "</style>\n",
       "<table border=\"1\" class=\"dataframe\">\n",
       "  <thead>\n",
       "    <tr style=\"text-align: right;\">\n",
       "      <th></th>\n",
       "      <th>instruction</th>\n",
       "      <th>input</th>\n",
       "      <th>output</th>\n",
       "    </tr>\n",
       "  </thead>\n",
       "  <tbody>\n",
       "    <tr>\n",
       "      <th>0</th>\n",
       "      <td>When did Virgin Australia start operating?</td>\n",
       "      <td>Virgin Australia, the trading name of Virgin A...</td>\n",
       "      <td>Virgin Australia commenced services on 31 Augu...</td>\n",
       "    </tr>\n",
       "    <tr>\n",
       "      <th>1</th>\n",
       "      <td>Which is a species of fish? Tope or Rope</td>\n",
       "      <td>NaN</td>\n",
       "      <td>Tope</td>\n",
       "    </tr>\n",
       "    <tr>\n",
       "      <th>2</th>\n",
       "      <td>Why can camels survive for long without water?</td>\n",
       "      <td>NaN</td>\n",
       "      <td>Camels use the fat in their humps to keep them...</td>\n",
       "    </tr>\n",
       "    <tr>\n",
       "      <th>3</th>\n",
       "      <td>Alice's parents have three daughters: Amy, Jes...</td>\n",
       "      <td>NaN</td>\n",
       "      <td>The name of the third daughter is Alice</td>\n",
       "    </tr>\n",
       "    <tr>\n",
       "      <th>4</th>\n",
       "      <td>When was Tomoaki Komorida born?</td>\n",
       "      <td>Komorida was born in Kumamoto Prefecture on Ju...</td>\n",
       "      <td>Tomoaki Komorida was born on July 10,1981.</td>\n",
       "    </tr>\n",
       "  </tbody>\n",
       "</table>\n",
       "</div>"
      ],
      "text/plain": [
       "                                         instruction  \\\n",
       "0         When did Virgin Australia start operating?   \n",
       "1           Which is a species of fish? Tope or Rope   \n",
       "2     Why can camels survive for long without water?   \n",
       "3  Alice's parents have three daughters: Amy, Jes...   \n",
       "4                    When was Tomoaki Komorida born?   \n",
       "\n",
       "                                               input  \\\n",
       "0  Virgin Australia, the trading name of Virgin A...   \n",
       "1                                                NaN   \n",
       "2                                                NaN   \n",
       "3                                                NaN   \n",
       "4  Komorida was born in Kumamoto Prefecture on Ju...   \n",
       "\n",
       "                                              output  \n",
       "0  Virgin Australia commenced services on 31 Augu...  \n",
       "1                                               Tope  \n",
       "2  Camels use the fat in their humps to keep them...  \n",
       "3            The name of the third daughter is Alice  \n",
       "4         Tomoaki Komorida was born on July 10,1981.  "
      ]
     },
     "execution_count": 2,
     "metadata": {},
     "output_type": "execute_result"
    }
   ],
   "source": [
    "df.head()"
   ]
  },
  {
   "cell_type": "code",
   "execution_count": 6,
   "metadata": {},
   "outputs": [],
   "source": [
    "COLUMNS = [\"instruction\", \"input\", \"output\"]\n",
    "df[COLUMNS].to_csv(\"databricks-dolly-15k.csv\", index=False)"
   ]
  },
  {
   "cell_type": "code",
   "execution_count": 7,
   "metadata": {},
   "outputs": [
    {
     "name": "stdout",
     "output_type": "stream",
     "text": [
      "Loading tokenizer...\n",
      "train has 13,510 samples\n",
      "test has 1,501 samples\n",
      "Processing train split ...\n",
      "100%|███████████████████████████████████| 13510/13510 [00:11<00:00, 1195.79it/s]\n",
      "Processing test split ...\n",
      "100%|█████████████████████████████████████| 1501/1501 [00:01<00:00, 1190.01it/s]\n"
     ]
    }
   ],
   "source": [
    "!python scripts/prepare_csv.py \\\n",
    "    --csv_path databricks-dolly-15k.csv \\\n",
    "    --checkpoint_dir /data/aniket/Llama-2-7b-hf \\\n",
    "    --destination_path data/dolly \\\n",
    "    --max_seq_length 512"
   ]
  },
  {
   "cell_type": "code",
   "execution_count": null,
   "metadata": {},
   "outputs": [],
   "source": [
    "!python finetune/lora.py \\\n",
    "    --checkpoint_dir /data/aniket/Llama-2-7b-hf \\\n",
    "    --data_dir \"data/dolly\" \\\n",
    "    --out_dir \"out/lora/dolly\""
   ]
  },
  {
   "cell_type": "code",
   "execution_count": null,
   "metadata": {},
   "outputs": [],
   "source": [
    "!python finetune/lora.py \\\n",
    "    --checkpoint_dir /data/aniket/Llama-2-7b-hf \\\n",
    "    --data_dir \"data/dolly\" \\\n",
    "    --out_dir \"out/lora/dolly\" \\\n",
    "    --precision bf16-true \\\n",
    "    --quantize bnb.fp4"
   ]
  },
  {
   "cell_type": "code",
   "execution_count": null,
   "metadata": {},
   "outputs": [],
   "source": []
  }
 ],
 "metadata": {
  "kernelspec": {
   "display_name": "am",
   "language": "python",
   "name": "python3"
  },
  "language_info": {
   "codemirror_mode": {
    "name": "ipython",
    "version": 3
   },
   "file_extension": ".py",
   "mimetype": "text/x-python",
   "name": "python",
   "nbconvert_exporter": "python",
   "pygments_lexer": "ipython3",
   "version": "3.10.12"
  },
  "orig_nbformat": 4
 },
 "nbformat": 4,
 "nbformat_minor": 2
}
