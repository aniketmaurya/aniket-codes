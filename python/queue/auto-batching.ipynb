{
 "cells": [
  {
   "cell_type": "markdown",
   "id": "3561724e-a873-4164-a49c-7d3fcd6e0de1",
   "metadata": {},
   "source": [
    "## Single Consumer - Multiple Publisher\n",
    "### get()\n",
    "\n",
    "`get multiple items not more than the specified batch size` **and** `get the items within the timeout`"
   ]
  },
  {
   "cell_type": "code",
   "execution_count": 1,
   "id": "8fac7d9a-1c62-4ded-8ef5-8ab3296a0ae1",
   "metadata": {},
   "outputs": [],
   "source": [
    "from queue import Queue, Empty\n",
    "import time\n",
    "from threading import Thread\n",
    "from threading import Event\n",
    "from typing import Callable, List\n",
    "import random\n",
    "import uuid\n",
    "\n",
    "from typing import Any\n",
    "from dataclasses import dataclass, field\n",
    "import uuid\n",
    "from threading import Event"
   ]
  },
  {
   "cell_type": "code",
   "execution_count": 2,
   "id": "80568e25-4124-4d38-9dc0-2c1ca9155aaa",
   "metadata": {},
   "outputs": [],
   "source": [
    "class BatchedQueue:\n",
    "    def __init__(self, timeout=1.0, bs=1):\n",
    "        self.timeout = timeout\n",
    "        self.bs = bs\n",
    "        self._queue: Queue = Queue()\n",
    "        self._result = []\n",
    "        self._event = Event()\n",
    "\n",
    "    def get(self):\n",
    "        entered_at = time.time()\n",
    "        timeout = self.timeout\n",
    "        bs = self.bs\n",
    "\n",
    "        if self._queue.qsize() >= bs:\n",
    "            return [self._queue.get_nowait() for _ in range(bs)]\n",
    "\n",
    "        while (\n",
    "            self._event.wait(timeout - (time.time() - entered_at))\n",
    "            and self._queue.qsize() < bs\n",
    "        ):\n",
    "            True\n",
    "\n",
    "        result = []\n",
    "        try:\n",
    "            for _ in range(bs):\n",
    "                result.append(self._queue.get_nowait())\n",
    "            return result\n",
    "        except Empty:\n",
    "            return result\n",
    "\n",
    "    def put(self, item):\n",
    "        self._queue.put(item)\n",
    "        if self._event.is_set() and self.size >= self.bs:\n",
    "            self._event.set()\n",
    "\n",
    "    @property\n",
    "    def size(self):\n",
    "        return self._queue.qsize()"
   ]
  },
  {
   "cell_type": "code",
   "execution_count": 3,
   "id": "839600e4-aa84-486e-8cb1-ea14976cfb09",
   "metadata": {},
   "outputs": [
    {
     "data": {
      "text/plain": [
       "1"
      ]
     },
     "execution_count": 3,
     "metadata": {},
     "output_type": "execute_result"
    }
   ],
   "source": [
    "q = BatchedQueue(timeout=2, bs=4)\n",
    "\n",
    "q.put(1)\n",
    "q.size"
   ]
  },
  {
   "cell_type": "code",
   "execution_count": 4,
   "id": "5a3697dd-e887-4446-96b0-8f38d8e56387",
   "metadata": {},
   "outputs": [
    {
     "name": "stdout",
     "output_type": "stream",
     "text": [
      "size 1\n",
      "size 0\n"
     ]
    },
    {
     "data": {
      "text/plain": [
       "2.005953073501587"
      ]
     },
     "execution_count": 4,
     "metadata": {},
     "output_type": "execute_result"
    }
   ],
   "source": [
    "t0 = time.time()\n",
    "print(\"size\", q.size)\n",
    "q.get()\n",
    "print(\"size\", q.size)\n",
    "time.time() - t0"
   ]
  },
  {
   "cell_type": "markdown",
   "id": "1dc76edd-d013-4c32-bfc1-fb111522bd04",
   "metadata": {},
   "source": [
    "## Test with a publisher"
   ]
  },
  {
   "cell_type": "code",
   "execution_count": 5,
   "id": "527efb5b-f77e-4e58-91f1-71b4d9aa5427",
   "metadata": {},
   "outputs": [],
   "source": [
    "import random"
   ]
  },
  {
   "cell_type": "code",
   "execution_count": 6,
   "id": "965e11c0-e0ec-4e56-8c02-755f51607722",
   "metadata": {},
   "outputs": [],
   "source": [
    "q = BatchedQueue(timeout=2, bs=4)\n",
    "\n",
    "\n",
    "def publisher():\n",
    "    for i in range(16):\n",
    "        time.sleep(random.randint(0, 1))\n",
    "        q.put(random.randint(1000, 100000))\n",
    "\n",
    "\n",
    "thread1 = Thread(target=publisher, daemon=True)\n",
    "thread2 = Thread(target=publisher, daemon=True)\n",
    "thread3 = Thread(target=publisher, daemon=True)\n",
    "\n",
    "thread1.start()\n",
    "thread2.start()\n",
    "thread3.start()"
   ]
  },
  {
   "cell_type": "code",
   "execution_count": 7,
   "id": "6cacd16c-ab9b-4889-b5b3-280672ead673",
   "metadata": {},
   "outputs": [
    {
     "data": {
      "text/plain": [
       "4"
      ]
     },
     "execution_count": 7,
     "metadata": {},
     "output_type": "execute_result"
    }
   ],
   "source": [
    "q.size"
   ]
  },
  {
   "cell_type": "code",
   "execution_count": 8,
   "id": "2bbf2e73-9bbf-47df-9f90-8d0bca8e5723",
   "metadata": {},
   "outputs": [
    {
     "name": "stdout",
     "output_type": "stream",
     "text": [
      "[51250, 40816, 7903, 26584]\n",
      "consumed in 0.00\n",
      "[87359, 66977, 26592, 39962]\n",
      "consumed in 2.01\n",
      "[93101, 41389, 98259, 70794]\n",
      "consumed in 0.00\n",
      "[68374, 40223, 48053, 6779]\n",
      "consumed in 0.00\n",
      "[39984, 49248, 43617, 37299]\n",
      "consumed in 2.00\n",
      "[66219, 54735, 50403, 76381]\n",
      "consumed in 0.00\n",
      "[77249, 19677, 32807, 18666]\n",
      "consumed in 0.00\n",
      "[54201, 19437, 64951, 82883]\n",
      "consumed in 2.01\n",
      "[65781, 19257, 38511, 6116]\n",
      "consumed in 0.00\n",
      "[77809, 68513, 59265, 36806]\n",
      "consumed in 0.00\n",
      "[76478, 51127, 54841, 48616]\n",
      "consumed in 2.00\n",
      "[92335, 76757, 11130, 48192]\n",
      "consumed in 0.00\n"
     ]
    }
   ],
   "source": [
    "for i in range(12):\n",
    "    t0 = time.time()\n",
    "    items = q.get()\n",
    "    print(items)\n",
    "    t1 = time.time()\n",
    "    print(f\"consumed in {t1-t0:.2f}\")"
   ]
  },
  {
   "cell_type": "markdown",
   "id": "8d49632e-67da-46c7-924e-d665830ac273",
   "metadata": {},
   "source": [
    "## Batched Processor"
   ]
  },
  {
   "cell_type": "code",
   "execution_count": 9,
   "id": "11830dae-ba4d-4848-91f6-386c314b2f0f",
   "metadata": {},
   "outputs": [],
   "source": [
    "@dataclass\n",
    "class WaitedObject:\n",
    "    value: Any = None\n",
    "    completed: bool = False\n",
    "    _event: Event = None\n",
    "\n",
    "    def __post_init__(self):\n",
    "        self._event = Event()\n",
    "\n",
    "    def mark_complete(self):\n",
    "        self.completed = True\n",
    "        self._event.set()\n",
    "\n",
    "    def get(self, timeout: float = None):\n",
    "        if self.completed:\n",
    "            self._event.clear()\n",
    "            return self.value\n",
    "\n",
    "        if self._event.is_set():\n",
    "            raise Exception(\"Already waiting!\")\n",
    "        self._event.wait(timeout)\n",
    "        return self.value"
   ]
  },
  {
   "cell_type": "code",
   "execution_count": 10,
   "id": "8b7dfdc9-55d1-4a63-a9ae-489d3bbfa9cb",
   "metadata": {},
   "outputs": [
    {
     "data": {
      "text/plain": [
       "1"
      ]
     },
     "execution_count": 10,
     "metadata": {},
     "output_type": "execute_result"
    }
   ],
   "source": [
    "a = WaitedObject(value=1)\n",
    "a.mark_complete()\n",
    "a.get(1)"
   ]
  },
  {
   "cell_type": "code",
   "execution_count": 11,
   "id": "31bc6802-1e44-46ad-8aee-0be14c1e873a",
   "metadata": {},
   "outputs": [],
   "source": [
    "class BatchProcessor:\n",
    "    def __init__(\n",
    "        self,\n",
    "        func: Callable,\n",
    "        timeout=4.0,\n",
    "        bs=1,\n",
    "    ):\n",
    "        self._batched_queue = BatchedQueue(timeout=timeout, bs=bs)\n",
    "        self.func = func\n",
    "        thread = Thread(target=self._process_queue)\n",
    "        thread.start()\n",
    "        print(\"Started processing\")\n",
    "        self._event = Event()\n",
    "\n",
    "    def _process_queue(self):\n",
    "        while True:\n",
    "            t0 = time.time()\n",
    "            batch: List[WaitedObject] = self._batched_queue.get()\n",
    "            t1 = time.time()\n",
    "            # print(f\"waited {t1-t0:.2f}s for batch\")\n",
    "            if not batch:\n",
    "                # print(\"no batch\")\n",
    "                continue\n",
    "            batch_values = [b.value for b in batch]\n",
    "            # print(batch_values)\n",
    "            results = self.func(batch_values)\n",
    "            for b in batch:\n",
    "                b.mark_complete()\n",
    "\n",
    "    def put(self, item: Any):\n",
    "        waited_obj = WaitedObject(value=item)\n",
    "        self._batched_queue.put(waited_obj)\n",
    "        return waited_obj"
   ]
  },
  {
   "cell_type": "code",
   "execution_count": 12,
   "id": "2a583fb6-c3ad-4840-9a7b-40c3d5664305",
   "metadata": {},
   "outputs": [],
   "source": [
    "def fake_ml_api(x):\n",
    "    print(f\"{len(x)} items\")\n",
    "    time.sleep(random.randint(0, 1))\n",
    "    return random.randint(0, 1)"
   ]
  },
  {
   "cell_type": "code",
   "execution_count": 13,
   "id": "ea2dd745-4a82-47b8-8770-a270301124f5",
   "metadata": {},
   "outputs": [
    {
     "name": "stdout",
     "output_type": "stream",
     "text": [
      "Started processing\n"
     ]
    }
   ],
   "source": [
    "processor = BatchProcessor(fake_ml_api, timeout=4, bs=16)"
   ]
  },
  {
   "cell_type": "code",
   "execution_count": 14,
   "id": "bab4568f-a16e-424c-9b9b-049309a892b7",
   "metadata": {},
   "outputs": [],
   "source": [
    "results = []\n",
    "for i in range(32):\n",
    "    x = processor.put(i + 100)\n",
    "    results.append(x)"
   ]
  },
  {
   "cell_type": "code",
   "execution_count": 15,
   "id": "dbe4c1b4-af91-4b13-aa9f-864d484e7a83",
   "metadata": {},
   "outputs": [
    {
     "data": {
      "text/plain": [
       "[WaitedObject(value=100, completed=False, _event=<threading.Event at 0x1070a64d0: unset>),\n",
       " WaitedObject(value=101, completed=False, _event=<threading.Event at 0x1070b3150: unset>),\n",
       " WaitedObject(value=102, completed=False, _event=<threading.Event at 0x1070b32d0: unset>),\n",
       " WaitedObject(value=103, completed=False, _event=<threading.Event at 0x1070b33d0: unset>),\n",
       " WaitedObject(value=104, completed=False, _event=<threading.Event at 0x1070b34d0: unset>),\n",
       " WaitedObject(value=105, completed=False, _event=<threading.Event at 0x1070b3650: unset>),\n",
       " WaitedObject(value=106, completed=False, _event=<threading.Event at 0x1070b3710: unset>),\n",
       " WaitedObject(value=107, completed=False, _event=<threading.Event at 0x1070b3810: unset>),\n",
       " WaitedObject(value=108, completed=False, _event=<threading.Event at 0x1070b3910: unset>),\n",
       " WaitedObject(value=109, completed=False, _event=<threading.Event at 0x1070b3a50: unset>),\n",
       " WaitedObject(value=110, completed=False, _event=<threading.Event at 0x1070b3ad0: unset>),\n",
       " WaitedObject(value=111, completed=False, _event=<threading.Event at 0x1070b3bd0: unset>),\n",
       " WaitedObject(value=112, completed=False, _event=<threading.Event at 0x1070b3cd0: unset>),\n",
       " WaitedObject(value=113, completed=False, _event=<threading.Event at 0x1070b3dd0: unset>),\n",
       " WaitedObject(value=114, completed=False, _event=<threading.Event at 0x1070b3ed0: unset>),\n",
       " WaitedObject(value=115, completed=False, _event=<threading.Event at 0x1070d8050: unset>),\n",
       " WaitedObject(value=116, completed=False, _event=<threading.Event at 0x1070d8110: unset>),\n",
       " WaitedObject(value=117, completed=False, _event=<threading.Event at 0x1070d8210: unset>),\n",
       " WaitedObject(value=118, completed=False, _event=<threading.Event at 0x1070d8310: unset>),\n",
       " WaitedObject(value=119, completed=False, _event=<threading.Event at 0x1070d8410: unset>),\n",
       " WaitedObject(value=120, completed=False, _event=<threading.Event at 0x1070d8510: unset>),\n",
       " WaitedObject(value=121, completed=False, _event=<threading.Event at 0x1070d8610: unset>),\n",
       " WaitedObject(value=122, completed=False, _event=<threading.Event at 0x1070d8790: unset>),\n",
       " WaitedObject(value=123, completed=False, _event=<threading.Event at 0x1070d8850: unset>),\n",
       " WaitedObject(value=124, completed=False, _event=<threading.Event at 0x1070d8950: unset>),\n",
       " WaitedObject(value=125, completed=False, _event=<threading.Event at 0x1070d8a50: unset>),\n",
       " WaitedObject(value=126, completed=False, _event=<threading.Event at 0x1070d8b50: unset>),\n",
       " WaitedObject(value=127, completed=False, _event=<threading.Event at 0x1070d8c50: unset>),\n",
       " WaitedObject(value=128, completed=False, _event=<threading.Event at 0x1070d8d50: unset>),\n",
       " WaitedObject(value=129, completed=False, _event=<threading.Event at 0x1070d8e50: unset>),\n",
       " WaitedObject(value=130, completed=False, _event=<threading.Event at 0x1070d8f50: unset>),\n",
       " WaitedObject(value=131, completed=False, _event=<threading.Event at 0x1070d9050: unset>)]"
      ]
     },
     "execution_count": 15,
     "metadata": {},
     "output_type": "execute_result"
    }
   ],
   "source": [
    "results"
   ]
  },
  {
   "cell_type": "code",
   "execution_count": 16,
   "id": "641a1ba3-ae40-432f-810b-519789d9a412",
   "metadata": {},
   "outputs": [
    {
     "name": "stdout",
     "output_type": "stream",
     "text": [
      "16 items\n",
      "16 items\n"
     ]
    },
    {
     "data": {
      "text/plain": [
       "100"
      ]
     },
     "execution_count": 16,
     "metadata": {},
     "output_type": "execute_result"
    }
   ],
   "source": [
    "results[0].get()"
   ]
  },
  {
   "cell_type": "code",
   "execution_count": 17,
   "id": "02655840-30e6-4365-aa8a-97607ed0549f",
   "metadata": {},
   "outputs": [
    {
     "data": {
      "text/plain": [
       "131"
      ]
     },
     "execution_count": 17,
     "metadata": {},
     "output_type": "execute_result"
    }
   ],
   "source": [
    "results[31].get()"
   ]
  },
  {
   "cell_type": "code",
   "execution_count": null,
   "id": "4a764e88-50d4-4f50-bbee-596171088017",
   "metadata": {},
   "outputs": [],
   "source": []
  },
  {
   "cell_type": "code",
   "execution_count": null,
   "id": "9c88fd2f-780f-4f8a-8e63-a3282ddaf068",
   "metadata": {},
   "outputs": [],
   "source": []
  }
 ],
 "metadata": {
  "kernelspec": {
   "display_name": "Python 3 (ipykernel)",
   "language": "python",
   "name": "python3"
  },
  "language_info": {
   "codemirror_mode": {
    "name": "ipython",
    "version": 3
   },
   "file_extension": ".py",
   "mimetype": "text/x-python",
   "name": "python",
   "nbconvert_exporter": "python",
   "pygments_lexer": "ipython3",
   "version": "3.11.4"
  }
 },
 "nbformat": 4,
 "nbformat_minor": 5
}
