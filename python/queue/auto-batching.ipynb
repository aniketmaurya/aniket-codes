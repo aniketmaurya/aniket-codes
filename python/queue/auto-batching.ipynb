{
 "cells": [
  {
   "cell_type": "markdown",
   "id": "b06a976b-e2cd-4c5e-b3d2-8a7b7436f82e",
   "metadata": {},
   "source": [
    "# Auto Batching"
   ]
  },
  {
   "cell_type": "markdown",
   "id": "3561724e-a873-4164-a49c-7d3fcd6e0de1",
   "metadata": {},
   "source": [
    "## Bacthed Queue: `.get()` a batched output \n",
    "### Single Consumer - Multiple Publisher\n",
    "\n",
    "`get multiple items not more than the specified batch size` **and** `get the items within the timeout`"
   ]
  },
  {
   "cell_type": "code",
   "execution_count": 3,
   "id": "8fac7d9a-1c62-4ded-8ef5-8ab3296a0ae1",
   "metadata": {},
   "outputs": [],
   "source": [
    "from queue import Queue, Empty\n",
    "import time\n",
    "from threading import Thread\n",
    "from threading import Event\n",
    "from typing import Callable, List\n",
    "import random\n",
    "import uuid\n",
    "\n",
    "from typing import Any\n",
    "from dataclasses import dataclass, field\n",
    "import uuid\n",
    "from threading import Event"
   ]
  },
  {
   "cell_type": "code",
   "execution_count": 4,
   "id": "80568e25-4124-4d38-9dc0-2c1ca9155aaa",
   "metadata": {},
   "outputs": [],
   "source": [
    "class BatchedQueue:\n",
    "    def __init__(self, timeout=1.0, bs=1):\n",
    "        self.timeout = timeout\n",
    "        self.bs = bs\n",
    "        self._queue: Queue = Queue()\n",
    "        self._result = []\n",
    "        self._event = Event()\n",
    "\n",
    "    def get(self):\n",
    "        entered_at = time.time()\n",
    "        timeout = self.timeout\n",
    "        bs = self.bs\n",
    "\n",
    "        if self._queue.qsize() >= bs:\n",
    "            return [self._queue.get_nowait() for _ in range(bs)]\n",
    "\n",
    "        while (\n",
    "            self._event.wait(timeout - (time.time() - entered_at))\n",
    "            and self._queue.qsize() < bs\n",
    "        ):\n",
    "            True\n",
    "\n",
    "        result = []\n",
    "        try:\n",
    "            for _ in range(bs):\n",
    "                result.append(self._queue.get_nowait())\n",
    "            return result\n",
    "        except Empty:\n",
    "            return result\n",
    "\n",
    "    def put(self, item):\n",
    "        self._queue.put(item)\n",
    "        if self._event.is_set() and self.size >= self.bs:\n",
    "            self._event.set()\n",
    "\n",
    "    @property\n",
    "    def size(self):\n",
    "        return self._queue.qsize()"
   ]
  },
  {
   "cell_type": "code",
   "execution_count": 3,
   "id": "839600e4-aa84-486e-8cb1-ea14976cfb09",
   "metadata": {},
   "outputs": [
    {
     "data": {
      "text/plain": [
       "1"
      ]
     },
     "execution_count": 3,
     "metadata": {},
     "output_type": "execute_result"
    }
   ],
   "source": [
    "q = BatchedQueue(timeout=2, bs=4)\n",
    "\n",
    "q.put(1)\n",
    "q.size"
   ]
  },
  {
   "cell_type": "code",
   "execution_count": 4,
   "id": "5a3697dd-e887-4446-96b0-8f38d8e56387",
   "metadata": {},
   "outputs": [
    {
     "name": "stdout",
     "output_type": "stream",
     "text": [
      "size 1\n",
      "size 0\n"
     ]
    },
    {
     "data": {
      "text/plain": [
       "2.005953073501587"
      ]
     },
     "execution_count": 4,
     "metadata": {},
     "output_type": "execute_result"
    }
   ],
   "source": [
    "t0 = time.time()\n",
    "print(\"size\", q.size)\n",
    "q.get()\n",
    "print(\"size\", q.size)\n",
    "time.time() - t0"
   ]
  },
  {
   "cell_type": "markdown",
   "id": "1dc76edd-d013-4c32-bfc1-fb111522bd04",
   "metadata": {},
   "source": [
    "### Test with a publisher"
   ]
  },
  {
   "cell_type": "code",
   "execution_count": 5,
   "id": "527efb5b-f77e-4e58-91f1-71b4d9aa5427",
   "metadata": {},
   "outputs": [],
   "source": [
    "import random"
   ]
  },
  {
   "cell_type": "code",
   "execution_count": 6,
   "id": "965e11c0-e0ec-4e56-8c02-755f51607722",
   "metadata": {},
   "outputs": [],
   "source": [
    "q = BatchedQueue(timeout=2, bs=4)\n",
    "\n",
    "\n",
    "def publisher():\n",
    "    for i in range(16):\n",
    "        time.sleep(random.randint(0, 1))\n",
    "        q.put(random.randint(1000, 100000))\n",
    "\n",
    "\n",
    "thread1 = Thread(target=publisher, daemon=True)\n",
    "thread2 = Thread(target=publisher, daemon=True)\n",
    "thread3 = Thread(target=publisher, daemon=True)\n",
    "\n",
    "thread1.start()\n",
    "thread2.start()\n",
    "thread3.start()"
   ]
  },
  {
   "cell_type": "code",
   "execution_count": 7,
   "id": "6cacd16c-ab9b-4889-b5b3-280672ead673",
   "metadata": {},
   "outputs": [
    {
     "data": {
      "text/plain": [
       "4"
      ]
     },
     "execution_count": 7,
     "metadata": {},
     "output_type": "execute_result"
    }
   ],
   "source": [
    "q.size"
   ]
  },
  {
   "cell_type": "code",
   "execution_count": 8,
   "id": "2bbf2e73-9bbf-47df-9f90-8d0bca8e5723",
   "metadata": {},
   "outputs": [
    {
     "name": "stdout",
     "output_type": "stream",
     "text": [
      "[51250, 40816, 7903, 26584]\n",
      "consumed in 0.00\n",
      "[87359, 66977, 26592, 39962]\n",
      "consumed in 2.01\n",
      "[93101, 41389, 98259, 70794]\n",
      "consumed in 0.00\n",
      "[68374, 40223, 48053, 6779]\n",
      "consumed in 0.00\n",
      "[39984, 49248, 43617, 37299]\n",
      "consumed in 2.00\n",
      "[66219, 54735, 50403, 76381]\n",
      "consumed in 0.00\n",
      "[77249, 19677, 32807, 18666]\n",
      "consumed in 0.00\n",
      "[54201, 19437, 64951, 82883]\n",
      "consumed in 2.01\n",
      "[65781, 19257, 38511, 6116]\n",
      "consumed in 0.00\n",
      "[77809, 68513, 59265, 36806]\n",
      "consumed in 0.00\n",
      "[76478, 51127, 54841, 48616]\n",
      "consumed in 2.00\n",
      "[92335, 76757, 11130, 48192]\n",
      "consumed in 0.00\n"
     ]
    }
   ],
   "source": [
    "for i in range(12):\n",
    "    t0 = time.time()\n",
    "    items = q.get()\n",
    "    print(items)\n",
    "    t1 = time.time()\n",
    "    print(f\"consumed in {t1-t0:.2f}\")"
   ]
  },
  {
   "cell_type": "markdown",
   "id": "8d49632e-67da-46c7-924e-d665830ac273",
   "metadata": {},
   "source": [
    "## Batched Processor"
   ]
  },
  {
   "cell_type": "code",
   "execution_count": 58,
   "id": "11830dae-ba4d-4848-91f6-386c314b2f0f",
   "metadata": {},
   "outputs": [],
   "source": [
    "@dataclass\n",
    "class WaitedObject:\n",
    "    item: Any = None\n",
    "    completed: bool = False\n",
    "    result: Any = None\n",
    "    _event: Event = None\n",
    "\n",
    "    def __post_init__(self):\n",
    "        self._event = Event()\n",
    "\n",
    "    def set_result(self, result):\n",
    "        self.result = result\n",
    "        self.completed = True\n",
    "        self._event.set()\n",
    "\n",
    "    def get(self, timeout: float = None):\n",
    "        if self.completed:\n",
    "            return self.result\n",
    "\n",
    "        if self._event.is_set():\n",
    "            raise Exception(\"Already waiting!\")\n",
    "        self._event.wait(timeout)\n",
    "        return self.result\n",
    "\n",
    "    def __repr__(self):\n",
    "        return f\"WaitedOjb({dict(item=self.item, completed=self.completed, result=self.result, signal=self._event.is_set())})\""
   ]
  },
  {
   "cell_type": "code",
   "execution_count": 59,
   "id": "8b7dfdc9-55d1-4a63-a9ae-489d3bbfa9cb",
   "metadata": {},
   "outputs": [
    {
     "data": {
      "text/plain": [
       "2"
      ]
     },
     "execution_count": 59,
     "metadata": {},
     "output_type": "execute_result"
    }
   ],
   "source": [
    "a = WaitedObject(item=1)\n",
    "a.set_result(2)\n",
    "a.get(1)"
   ]
  },
  {
   "cell_type": "code",
   "execution_count": 42,
   "id": "31bc6802-1e44-46ad-8aee-0be14c1e873a",
   "metadata": {},
   "outputs": [],
   "source": [
    "class BatchProcessor:\n",
    "    def __init__(\n",
    "        self,\n",
    "        func: Callable,\n",
    "        timeout=4.0,\n",
    "        bs=1,\n",
    "    ):\n",
    "        self._batched_queue = BatchedQueue(timeout=timeout, bs=bs)\n",
    "        self.func = func\n",
    "        self._event = Event()\n",
    "        self._cancel_signal = Event()\n",
    "\n",
    "        self._thread = Thread(target=self._process_queue)\n",
    "        self._thread.start()\n",
    "\n",
    "    def _process_queue(self):\n",
    "        print(\"Started processing\")\n",
    "        while True:\n",
    "            if self._cancel_signal.is_set():\n",
    "                print(\"Stopped batch processor\")\n",
    "                return\n",
    "            t0 = time.time()\n",
    "            batch: List[WaitedObject] = self._batched_queue.get()\n",
    "            t1 = time.time()\n",
    "            # print(f\"waited {t1-t0:.2f}s for batch\")\n",
    "            if not batch:\n",
    "                # print(\"no batch\")\n",
    "                continue\n",
    "            batch_items = [b.item for b in batch]\n",
    "            # print(batch_items)\n",
    "            results = self.func(batch_items)\n",
    "            for b, result in zip(batch, results):\n",
    "                b.set_result(result)\n",
    "\n",
    "    def process(self, item: Any):\n",
    "        waited_obj = WaitedObject(item=item)\n",
    "        self._batched_queue.put(waited_obj)\n",
    "        return waited_obj\n",
    "\n",
    "    def cancel(self):\n",
    "        self._cancel_signal.set()\n",
    "        self._thread.join()"
   ]
  },
  {
   "cell_type": "code",
   "execution_count": 45,
   "id": "2a583fb6-c3ad-4840-9a7b-40c3d5664305",
   "metadata": {},
   "outputs": [],
   "source": [
    "def fake_ml_api(X):\n",
    "    n = len(X)\n",
    "    print(f\"{n} items\")\n",
    "    time.sleep(random.randint(0, 2))\n",
    "    return [random.randint(0, 1) for _ in range(n)]"
   ]
  },
  {
   "cell_type": "code",
   "execution_count": 62,
   "id": "ea2dd745-4a82-47b8-8770-a270301124f5",
   "metadata": {},
   "outputs": [
    {
     "name": "stdout",
     "output_type": "stream",
     "text": [
      "Started processing\n"
     ]
    }
   ],
   "source": [
    "processor = BatchProcessor(fake_ml_api, timeout=4, bs=16)"
   ]
  },
  {
   "cell_type": "code",
   "execution_count": 63,
   "id": "bab4568f-a16e-424c-9b9b-049309a892b7",
   "metadata": {},
   "outputs": [],
   "source": [
    "results = []\n",
    "for i in range(32):\n",
    "    x = processor.process(i + 100)\n",
    "    results.append(x)"
   ]
  },
  {
   "cell_type": "code",
   "execution_count": 64,
   "id": "dbe4c1b4-af91-4b13-aa9f-864d484e7a83",
   "metadata": {},
   "outputs": [
    {
     "data": {
      "text/plain": [
       "[WaitedOjb({'item': 100, 'completed': False, 'result': None, 'signal': False}),\n",
       " WaitedOjb({'item': 101, 'completed': False, 'result': None, 'signal': False}),\n",
       " WaitedOjb({'item': 102, 'completed': False, 'result': None, 'signal': False}),\n",
       " WaitedOjb({'item': 103, 'completed': False, 'result': None, 'signal': False}),\n",
       " WaitedOjb({'item': 104, 'completed': False, 'result': None, 'signal': False}),\n",
       " WaitedOjb({'item': 105, 'completed': False, 'result': None, 'signal': False}),\n",
       " WaitedOjb({'item': 106, 'completed': False, 'result': None, 'signal': False}),\n",
       " WaitedOjb({'item': 107, 'completed': False, 'result': None, 'signal': False}),\n",
       " WaitedOjb({'item': 108, 'completed': False, 'result': None, 'signal': False}),\n",
       " WaitedOjb({'item': 109, 'completed': False, 'result': None, 'signal': False}),\n",
       " WaitedOjb({'item': 110, 'completed': False, 'result': None, 'signal': False}),\n",
       " WaitedOjb({'item': 111, 'completed': False, 'result': None, 'signal': False}),\n",
       " WaitedOjb({'item': 112, 'completed': False, 'result': None, 'signal': False}),\n",
       " WaitedOjb({'item': 113, 'completed': False, 'result': None, 'signal': False}),\n",
       " WaitedOjb({'item': 114, 'completed': False, 'result': None, 'signal': False}),\n",
       " WaitedOjb({'item': 115, 'completed': False, 'result': None, 'signal': False}),\n",
       " WaitedOjb({'item': 116, 'completed': False, 'result': None, 'signal': False}),\n",
       " WaitedOjb({'item': 117, 'completed': False, 'result': None, 'signal': False}),\n",
       " WaitedOjb({'item': 118, 'completed': False, 'result': None, 'signal': False}),\n",
       " WaitedOjb({'item': 119, 'completed': False, 'result': None, 'signal': False}),\n",
       " WaitedOjb({'item': 120, 'completed': False, 'result': None, 'signal': False}),\n",
       " WaitedOjb({'item': 121, 'completed': False, 'result': None, 'signal': False}),\n",
       " WaitedOjb({'item': 122, 'completed': False, 'result': None, 'signal': False}),\n",
       " WaitedOjb({'item': 123, 'completed': False, 'result': None, 'signal': False}),\n",
       " WaitedOjb({'item': 124, 'completed': False, 'result': None, 'signal': False}),\n",
       " WaitedOjb({'item': 125, 'completed': False, 'result': None, 'signal': False}),\n",
       " WaitedOjb({'item': 126, 'completed': False, 'result': None, 'signal': False}),\n",
       " WaitedOjb({'item': 127, 'completed': False, 'result': None, 'signal': False}),\n",
       " WaitedOjb({'item': 128, 'completed': False, 'result': None, 'signal': False}),\n",
       " WaitedOjb({'item': 129, 'completed': False, 'result': None, 'signal': False}),\n",
       " WaitedOjb({'item': 130, 'completed': False, 'result': None, 'signal': False}),\n",
       " WaitedOjb({'item': 131, 'completed': False, 'result': None, 'signal': False})]"
      ]
     },
     "execution_count": 64,
     "metadata": {},
     "output_type": "execute_result"
    }
   ],
   "source": [
    "results"
   ]
  },
  {
   "cell_type": "code",
   "execution_count": 65,
   "id": "641a1ba3-ae40-432f-810b-519789d9a412",
   "metadata": {},
   "outputs": [
    {
     "name": "stdout",
     "output_type": "stream",
     "text": [
      "16 items\n",
      "16 items\n",
      "0\n",
      "1\n"
     ]
    }
   ],
   "source": [
    "print(results[0].get())\n",
    "print(results[31].get())"
   ]
  },
  {
   "cell_type": "code",
   "execution_count": 66,
   "id": "9c88fd2f-780f-4f8a-8e63-a3282ddaf068",
   "metadata": {},
   "outputs": [
    {
     "data": {
      "text/plain": [
       "[WaitedOjb({'item': 100, 'completed': True, 'result': 0, 'signal': True}),\n",
       " WaitedOjb({'item': 101, 'completed': True, 'result': 1, 'signal': True}),\n",
       " WaitedOjb({'item': 102, 'completed': True, 'result': 0, 'signal': True}),\n",
       " WaitedOjb({'item': 103, 'completed': True, 'result': 1, 'signal': True}),\n",
       " WaitedOjb({'item': 104, 'completed': True, 'result': 1, 'signal': True}),\n",
       " WaitedOjb({'item': 105, 'completed': True, 'result': 0, 'signal': True}),\n",
       " WaitedOjb({'item': 106, 'completed': True, 'result': 1, 'signal': True}),\n",
       " WaitedOjb({'item': 107, 'completed': True, 'result': 0, 'signal': True}),\n",
       " WaitedOjb({'item': 108, 'completed': True, 'result': 0, 'signal': True}),\n",
       " WaitedOjb({'item': 109, 'completed': True, 'result': 1, 'signal': True}),\n",
       " WaitedOjb({'item': 110, 'completed': True, 'result': 1, 'signal': True}),\n",
       " WaitedOjb({'item': 111, 'completed': True, 'result': 0, 'signal': True}),\n",
       " WaitedOjb({'item': 112, 'completed': True, 'result': 0, 'signal': True}),\n",
       " WaitedOjb({'item': 113, 'completed': True, 'result': 1, 'signal': True}),\n",
       " WaitedOjb({'item': 114, 'completed': True, 'result': 0, 'signal': True}),\n",
       " WaitedOjb({'item': 115, 'completed': True, 'result': 0, 'signal': True}),\n",
       " WaitedOjb({'item': 116, 'completed': True, 'result': 1, 'signal': True}),\n",
       " WaitedOjb({'item': 117, 'completed': True, 'result': 1, 'signal': True}),\n",
       " WaitedOjb({'item': 118, 'completed': True, 'result': 1, 'signal': True}),\n",
       " WaitedOjb({'item': 119, 'completed': True, 'result': 1, 'signal': True}),\n",
       " WaitedOjb({'item': 120, 'completed': True, 'result': 0, 'signal': True}),\n",
       " WaitedOjb({'item': 121, 'completed': True, 'result': 1, 'signal': True}),\n",
       " WaitedOjb({'item': 122, 'completed': True, 'result': 0, 'signal': True}),\n",
       " WaitedOjb({'item': 123, 'completed': True, 'result': 0, 'signal': True}),\n",
       " WaitedOjb({'item': 124, 'completed': True, 'result': 0, 'signal': True}),\n",
       " WaitedOjb({'item': 125, 'completed': True, 'result': 0, 'signal': True}),\n",
       " WaitedOjb({'item': 126, 'completed': True, 'result': 0, 'signal': True}),\n",
       " WaitedOjb({'item': 127, 'completed': True, 'result': 0, 'signal': True}),\n",
       " WaitedOjb({'item': 128, 'completed': True, 'result': 1, 'signal': True}),\n",
       " WaitedOjb({'item': 129, 'completed': True, 'result': 1, 'signal': True}),\n",
       " WaitedOjb({'item': 130, 'completed': True, 'result': 1, 'signal': True}),\n",
       " WaitedOjb({'item': 131, 'completed': True, 'result': 1, 'signal': True})]"
      ]
     },
     "execution_count": 66,
     "metadata": {},
     "output_type": "execute_result"
    }
   ],
   "source": [
    "results"
   ]
  },
  {
   "cell_type": "code",
   "execution_count": null,
   "id": "073c386e-a3ef-4a44-8330-8386a01428a3",
   "metadata": {},
   "outputs": [],
   "source": []
  }
 ],
 "metadata": {
  "kernelspec": {
   "display_name": "Python 3 (ipykernel)",
   "language": "python",
   "name": "python3"
  },
  "language_info": {
   "codemirror_mode": {
    "name": "ipython",
    "version": 3
   },
   "file_extension": ".py",
   "mimetype": "text/x-python",
   "name": "python",
   "nbconvert_exporter": "python",
   "pygments_lexer": "ipython3",
   "version": "3.11.4"
  }
 },
 "nbformat": 4,
 "nbformat_minor": 5
}
