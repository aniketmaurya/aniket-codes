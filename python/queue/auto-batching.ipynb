{
 "cells": [
  {
   "cell_type": "markdown",
   "id": "3561724e-a873-4164-a49c-7d3fcd6e0de1",
   "metadata": {},
   "source": [
    "## Single Consumer - Multiple Publisher\n",
    "### get()\n",
    "\n",
    "`get multiple items not more than the specified batch size` **and** `get the items within the timeout`"
   ]
  },
  {
   "cell_type": "code",
   "execution_count": 1,
   "id": "8fac7d9a-1c62-4ded-8ef5-8ab3296a0ae1",
   "metadata": {},
   "outputs": [],
   "source": [
    "from queue import Queue, Empty"
   ]
  },
  {
   "cell_type": "code",
   "execution_count": 2,
   "id": "06df8d38-4ad2-45bb-89f8-3ec5c1c0aa84",
   "metadata": {},
   "outputs": [],
   "source": [
    "import time"
   ]
  },
  {
   "cell_type": "code",
   "execution_count": 3,
   "id": "ced6cec7-d20d-4402-a865-c6cdc00366e1",
   "metadata": {},
   "outputs": [],
   "source": [
    "from threading import Thread"
   ]
  },
  {
   "cell_type": "code",
   "execution_count": 4,
   "id": "82bfed2d-9ee7-4f0e-a8c8-7d59e23e9312",
   "metadata": {},
   "outputs": [],
   "source": [
    "from threading import Event"
   ]
  },
  {
   "cell_type": "code",
   "execution_count": 5,
   "id": "80568e25-4124-4d38-9dc0-2c1ca9155aaa",
   "metadata": {},
   "outputs": [],
   "source": [
    "class BatchedQueue:\n",
    "    def __init__(self, timeout=1., bs=1):\n",
    "        self.timeout = timeout\n",
    "        self.bs = bs\n",
    "        self._queue: Queue = Queue()\n",
    "        self._result = []\n",
    "        self._event = Event()\n",
    "        \n",
    "    def get(self):\n",
    "        entered_at = time.time()\n",
    "        timeout = self.timeout\n",
    "        bs = self.bs\n",
    "        \n",
    "        if self._queue.qsize()>=bs:\n",
    "            return [self._queue.get_nowait() for _ in range(bs)]\n",
    "\n",
    "        while self._event.wait(timeout - (time.time()-entered_at)) and self._queue.qsize() < bs:\n",
    "            True\n",
    "\n",
    "        result = []\n",
    "        try:\n",
    "            for _ in range(bs):\n",
    "                result.append(self._queue.get_nowait())\n",
    "            return result\n",
    "        except Empty:\n",
    "            return result\n",
    "        \n",
    "    def put(self, item):\n",
    "        self._queue.put(item)\n",
    "        if self._event.is_set() and self.size >= self.bs:\n",
    "            self._event.set()\n",
    "\n",
    "    @property\n",
    "    def size(self):\n",
    "        return self._queue.qsize()"
   ]
  },
  {
   "cell_type": "code",
   "execution_count": 7,
   "id": "839600e4-aa84-486e-8cb1-ea14976cfb09",
   "metadata": {},
   "outputs": [
    {
     "data": {
      "text/plain": [
       "0"
      ]
     },
     "execution_count": 7,
     "metadata": {},
     "output_type": "execute_result"
    }
   ],
   "source": [
    "q = BatchedQueue(timeout=2, bs=4)\n",
    "\n",
    "q.put(1)\n",
    "q.size"
   ]
  },
  {
   "cell_type": "code",
   "execution_count": 9,
   "id": "5a3697dd-e887-4446-96b0-8f38d8e56387",
   "metadata": {},
   "outputs": [
    {
     "name": "stdout",
     "output_type": "stream",
     "text": [
      "size 1\n",
      "size 0\n"
     ]
    },
    {
     "data": {
      "text/plain": [
       "2.005971908569336"
      ]
     },
     "execution_count": 9,
     "metadata": {},
     "output_type": "execute_result"
    }
   ],
   "source": [
    "t0 = time.time()\n",
    "print(\"size\", q.size)\n",
    "q.get()\n",
    "print(\"size\", q.size)\n",
    "time.time() - t0"
   ]
  },
  {
   "cell_type": "markdown",
   "id": "1dc76edd-d013-4c32-bfc1-fb111522bd04",
   "metadata": {},
   "source": [
    "## Test with a publisher"
   ]
  },
  {
   "cell_type": "code",
   "execution_count": 6,
   "id": "527efb5b-f77e-4e58-91f1-71b4d9aa5427",
   "metadata": {},
   "outputs": [],
   "source": [
    "import random"
   ]
  },
  {
   "cell_type": "code",
   "execution_count": 72,
   "id": "965e11c0-e0ec-4e56-8c02-755f51607722",
   "metadata": {},
   "outputs": [],
   "source": [
    "q = BatchedQueue(timeout=2, bs=4)\n",
    "\n",
    "def publisher():\n",
    "    for i in range(16):\n",
    "        time.sleep(random.randint(0, 1))\n",
    "        q.put(random.randint(1000, 100000))\n",
    "\n",
    "thread1 = Thread(target=publisher, daemon=True)\n",
    "thread2 = Thread(target=publisher, daemon=True)\n",
    "thread3 = Thread(target=publisher, daemon=True)\n",
    "\n",
    "thread1.start()\n",
    "thread2.start()\n",
    "thread3.start()"
   ]
  },
  {
   "cell_type": "code",
   "execution_count": 73,
   "id": "6cacd16c-ab9b-4889-b5b3-280672ead673",
   "metadata": {},
   "outputs": [
    {
     "data": {
      "text/plain": [
       "1"
      ]
     },
     "execution_count": 73,
     "metadata": {},
     "output_type": "execute_result"
    }
   ],
   "source": [
    "q.size"
   ]
  },
  {
   "cell_type": "code",
   "execution_count": 74,
   "id": "2bbf2e73-9bbf-47df-9f90-8d0bca8e5723",
   "metadata": {},
   "outputs": [
    {
     "name": "stdout",
     "output_type": "stream",
     "text": [
      "[41763, 37187, 92159, 26374]\n",
      "consumed in 2.01\n",
      "[23742, 25296, 38162, 63866]\n",
      "consumed in 0.00\n",
      "[59609, 44815, 63455, 36995]\n",
      "consumed in 0.00\n",
      "[95961, 8782, 36369, 26241]\n",
      "consumed in 0.00\n",
      "[26588, 25025, 62531, 82674]\n",
      "consumed in 2.01\n",
      "[81486, 78603, 97243, 12901]\n",
      "consumed in 0.00\n",
      "[98119, 30974, 75759, 66431]\n",
      "consumed in 0.00\n",
      "[21387, 66863, 44436, 79741]\n",
      "consumed in 2.00\n",
      "[71203, 10048, 65738, 49077]\n",
      "consumed in 0.00\n",
      "[50332, 45034, 50593, 7350]\n",
      "consumed in 2.00\n",
      "[76572, 49153, 62061, 17380]\n",
      "consumed in 0.00\n",
      "[68097, 98301, 56020, 56934]\n",
      "consumed in 2.01\n"
     ]
    }
   ],
   "source": [
    "for i in range(12):\n",
    "    t0 = time.time()\n",
    "    items = q.get()\n",
    "    print(items)\n",
    "    t1 = time.time()\n",
    "    print(f\"consumed in {t1-t0:.2f}\")"
   ]
  },
  {
   "cell_type": "code",
   "execution_count": null,
   "id": "31bc6802-1e44-46ad-8aee-0be14c1e873a",
   "metadata": {},
   "outputs": [],
   "source": []
  }
 ],
 "metadata": {
  "kernelspec": {
   "display_name": "Python 3 (ipykernel)",
   "language": "python",
   "name": "python3"
  },
  "language_info": {
   "codemirror_mode": {
    "name": "ipython",
    "version": 3
   },
   "file_extension": ".py",
   "mimetype": "text/x-python",
   "name": "python",
   "nbconvert_exporter": "python",
   "pygments_lexer": "ipython3",
   "version": "3.11.4"
  }
 },
 "nbformat": 4,
 "nbformat_minor": 5
}
