{
 "cells": [
  {
   "cell_type": "markdown",
   "id": "b06a976b-e2cd-4c5e-b3d2-8a7b7436f82e",
   "metadata": {},
   "source": [
    "# Auto Batching\n",
    "\n",
    "<!-- ![](auto-batch.png) -->\n",
    "<img src=\"auto-batch.png\" alt=\"drawing\" style=\"width:70%;\"/>"
   ]
  },
  {
   "cell_type": "markdown",
   "id": "3561724e-a873-4164-a49c-7d3fcd6e0de1",
   "metadata": {},
   "source": [
    "## Bacthed Queue: `.get()` a batched output \n",
    "### Single Consumer - Multiple Publisher\n",
    "\n",
    "`get multiple items not more than the specified batch size` **and** `get the items within the timeout`"
   ]
  },
  {
   "cell_type": "code",
   "execution_count": null,
   "id": "8fac7d9a-1c62-4ded-8ef5-8ab3296a0ae1",
   "metadata": {},
   "outputs": [],
   "source": [
    "from queue import Queue, Empty\n",
    "import time\n",
    "from threading import Thread\n",
    "from threading import Event\n",
    "from typing import Callable, List\n",
    "import random\n",
    "import uuid\n",
    "\n",
    "from typing import Any\n",
    "from dataclasses import dataclass, field\n",
    "import uuid\n",
    "from threading import Event"
   ]
  },
  {
   "cell_type": "code",
   "execution_count": null,
   "id": "80568e25-4124-4d38-9dc0-2c1ca9155aaa",
   "metadata": {},
   "outputs": [],
   "source": [
    "class BatchedQueue:\n",
    "    def __init__(self, timeout=1.0, bs=1):\n",
    "        self.timeout = timeout\n",
    "        self.bs = bs\n",
    "        self._queue: Queue = Queue()\n",
    "        self._result = []\n",
    "        self._event = Event()\n",
    "\n",
    "    def get(self):\n",
    "        entered_at = time.time()\n",
    "        timeout = self.timeout\n",
    "        bs = self.bs\n",
    "\n",
    "        if self._queue.qsize() >= bs:\n",
    "            return [self._queue.get_nowait() for _ in range(bs)]\n",
    "\n",
    "        while (\n",
    "            self._event.wait(timeout - (time.time() - entered_at))\n",
    "            and self._queue.qsize() < bs\n",
    "        ):\n",
    "            True\n",
    "\n",
    "        result = []\n",
    "        try:\n",
    "            for _ in range(bs):\n",
    "                result.append(self._queue.get_nowait())\n",
    "            return result\n",
    "        except Empty:\n",
    "            return result\n",
    "\n",
    "    def put(self, item):\n",
    "        self._queue.put(item)\n",
    "        if self._event.is_set() and self.size >= self.bs:\n",
    "            self._event.set()\n",
    "\n",
    "    @property\n",
    "    def size(self):\n",
    "        return self._queue.qsize()"
   ]
  },
  {
   "cell_type": "code",
   "execution_count": null,
   "id": "839600e4-aa84-486e-8cb1-ea14976cfb09",
   "metadata": {},
   "outputs": [],
   "source": [
    "q = BatchedQueue(timeout=2, bs=4)\n",
    "\n",
    "q.put(1)\n",
    "q.size"
   ]
  },
  {
   "cell_type": "code",
   "execution_count": null,
   "id": "5a3697dd-e887-4446-96b0-8f38d8e56387",
   "metadata": {},
   "outputs": [],
   "source": [
    "t0 = time.time()\n",
    "print(\"size\", q.size)\n",
    "q.get()\n",
    "print(\"size\", q.size)\n",
    "time.time() - t0"
   ]
  },
  {
   "cell_type": "markdown",
   "id": "1dc76edd-d013-4c32-bfc1-fb111522bd04",
   "metadata": {},
   "source": [
    "### Test with a publisher"
   ]
  },
  {
   "cell_type": "code",
   "execution_count": null,
   "id": "527efb5b-f77e-4e58-91f1-71b4d9aa5427",
   "metadata": {},
   "outputs": [],
   "source": [
    "import random"
   ]
  },
  {
   "cell_type": "code",
   "execution_count": null,
   "id": "965e11c0-e0ec-4e56-8c02-755f51607722",
   "metadata": {},
   "outputs": [],
   "source": [
    "q = BatchedQueue(timeout=2, bs=4)\n",
    "\n",
    "\n",
    "def publisher():\n",
    "    for i in range(16):\n",
    "        time.sleep(random.randint(0, 1))\n",
    "        q.put(random.randint(1000, 100000))\n",
    "\n",
    "\n",
    "thread1 = Thread(target=publisher, daemon=True)\n",
    "thread2 = Thread(target=publisher, daemon=True)\n",
    "thread3 = Thread(target=publisher, daemon=True)\n",
    "\n",
    "thread1.start()\n",
    "thread2.start()\n",
    "thread3.start()"
   ]
  },
  {
   "cell_type": "code",
   "execution_count": null,
   "id": "6cacd16c-ab9b-4889-b5b3-280672ead673",
   "metadata": {},
   "outputs": [],
   "source": [
    "q.size"
   ]
  },
  {
   "cell_type": "code",
   "execution_count": null,
   "id": "2bbf2e73-9bbf-47df-9f90-8d0bca8e5723",
   "metadata": {},
   "outputs": [],
   "source": [
    "for i in range(12):\n",
    "    t0 = time.time()\n",
    "    items = q.get()\n",
    "    print(items)\n",
    "    t1 = time.time()\n",
    "    print(f\"consumed in {t1-t0:.2f}\")"
   ]
  },
  {
   "cell_type": "markdown",
   "id": "8d49632e-67da-46c7-924e-d665830ac273",
   "metadata": {},
   "source": [
    "## Batched Processor"
   ]
  },
  {
   "cell_type": "code",
   "execution_count": null,
   "id": "11830dae-ba4d-4848-91f6-386c314b2f0f",
   "metadata": {},
   "outputs": [],
   "source": [
    "@dataclass\n",
    "class WaitedObject:\n",
    "    item: Any = None\n",
    "    result: Any = None\n",
    "    _event: Event = None\n",
    "    created_at: float = field(default_factory=lambda: time.time())\n",
    "    completed_at: float = None\n",
    "\n",
    "    def __post_init__(self):\n",
    "        self._event = Event()\n",
    "\n",
    "    def set_result(self, result) -> None:\n",
    "        self.result = result\n",
    "        self.completed_at = time.time()\n",
    "        self._event.set()\n",
    "\n",
    "    @property\n",
    "    def completed(self) -> bool:\n",
    "        return self._event.is_set()\n",
    "\n",
    "    @property\n",
    "    def completion_time(self) -> str:\n",
    "        if self.completed_at:\n",
    "            return f\"{self.completed_at - self.created_at:.3f}s\"\n",
    "        else:\n",
    "            return \"Waiting\"\n",
    "\n",
    "    def get(self, timeout: float = None) -> Any:\n",
    "        if self.completed:\n",
    "            return self.result\n",
    "        self._event.wait(timeout)\n",
    "        return self.result\n",
    "\n",
    "    def __repr__(self) -> str:\n",
    "        return f\"WaitedOjb({dict(item=self.item, completed=self.completed, result=self.result, completion_time=self.completion_time)})\""
   ]
  },
  {
   "cell_type": "code",
   "execution_count": null,
   "id": "8b7dfdc9-55d1-4a63-a9ae-489d3bbfa9cb",
   "metadata": {},
   "outputs": [],
   "source": [
    "a = WaitedObject(item=1)\n",
    "a.set_result(2)\n",
    "a.get(1)"
   ]
  },
  {
   "cell_type": "code",
   "execution_count": null,
   "id": "31bc6802-1e44-46ad-8aee-0be14c1e873a",
   "metadata": {},
   "outputs": [],
   "source": [
    "class BatchProcessor:\n",
    "    def __init__(\n",
    "        self,\n",
    "        func: Callable,\n",
    "        timeout=4.0,\n",
    "        bs=1,\n",
    "    ):\n",
    "        self._batched_queue = BatchedQueue(timeout=timeout, bs=bs)\n",
    "        self.func = func\n",
    "        self._event = Event()\n",
    "        self._cancel_signal = Event()\n",
    "\n",
    "        self._thread = Thread(target=self._process_queue)\n",
    "        self._thread.start()\n",
    "\n",
    "    def _process_queue(self):\n",
    "        print(\"Started processing\")\n",
    "        while True:\n",
    "            if self._cancel_signal.is_set():\n",
    "                print(\"Stopped batch processor\")\n",
    "                return\n",
    "            t0 = time.time()\n",
    "            batch: List[WaitedObject] = self._batched_queue.get()\n",
    "            t1 = time.time()\n",
    "            # print(f\"waited {t1-t0:.2f}s for batch\")\n",
    "            if not batch:\n",
    "                # print(\"no batch\")\n",
    "                continue\n",
    "            batch_items = [b.item for b in batch]\n",
    "            # print(batch_items)\n",
    "            results = self.func(batch_items)\n",
    "            for b, result in zip(batch, results):\n",
    "                b.set_result(result)\n",
    "\n",
    "    def process(self, item: Any):\n",
    "        waited_obj = WaitedObject(item=item)\n",
    "        self._batched_queue.put(waited_obj)\n",
    "        return waited_obj\n",
    "\n",
    "    def cancel(self):\n",
    "        self._cancel_signal.set()\n",
    "        self._thread.join()"
   ]
  },
  {
   "cell_type": "code",
   "execution_count": null,
   "id": "2a583fb6-c3ad-4840-9a7b-40c3d5664305",
   "metadata": {},
   "outputs": [],
   "source": [
    "def fake_ml_api(X):\n",
    "    n = len(X)\n",
    "    # print(f\"{n} items\")\n",
    "    for i in range(1000):\n",
    "        for j in range(1000):\n",
    "            for k in range(50):\n",
    "                l = i / 1000 * j / 1000\n",
    "    return [x + l for x in X]"
   ]
  },
  {
   "cell_type": "code",
   "execution_count": null,
   "id": "ea2dd745-4a82-47b8-8770-a270301124f5",
   "metadata": {},
   "outputs": [],
   "source": [
    "processor = BatchProcessor(fake_ml_api, timeout=1, bs=4)"
   ]
  },
  {
   "cell_type": "code",
   "execution_count": null,
   "id": "bab4568f-a16e-424c-9b9b-049309a892b7",
   "metadata": {},
   "outputs": [],
   "source": [
    "results = []\n",
    "for i in range(8):\n",
    "    x = processor.process(i)\n",
    "    results.append(x)"
   ]
  },
  {
   "cell_type": "code",
   "execution_count": null,
   "id": "dbe4c1b4-af91-4b13-aa9f-864d484e7a83",
   "metadata": {},
   "outputs": [],
   "source": [
    "results"
   ]
  },
  {
   "cell_type": "code",
   "execution_count": null,
   "id": "641a1ba3-ae40-432f-810b-519789d9a412",
   "metadata": {},
   "outputs": [],
   "source": [
    "print(results[2].get())\n",
    "print(results[7].get())"
   ]
  },
  {
   "cell_type": "code",
   "execution_count": null,
   "id": "9c88fd2f-780f-4f8a-8e63-a3282ddaf068",
   "metadata": {},
   "outputs": [],
   "source": [
    "results"
   ]
  },
  {
   "cell_type": "code",
   "execution_count": null,
   "id": "073c386e-a3ef-4a44-8330-8386a01428a3",
   "metadata": {},
   "outputs": [],
   "source": []
  }
 ],
 "metadata": {
  "kernelspec": {
   "display_name": "Python 3 (ipykernel)",
   "language": "python",
   "name": "python3"
  },
  "language_info": {
   "codemirror_mode": {
    "name": "ipython",
    "version": 3
   },
   "file_extension": ".py",
   "mimetype": "text/x-python",
   "name": "python",
   "nbconvert_exporter": "python",
   "pygments_lexer": "ipython3",
   "version": "3.11.4"
  }
 },
 "nbformat": 4,
 "nbformat_minor": 5
}
