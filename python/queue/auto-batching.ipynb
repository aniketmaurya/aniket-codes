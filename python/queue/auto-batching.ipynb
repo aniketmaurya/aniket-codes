{
 "cells": [
  {
   "cell_type": "markdown",
   "id": "3561724e-a873-4164-a49c-7d3fcd6e0de1",
   "metadata": {},
   "source": [
    "## Single Consumer - Multiple Publisher\n",
    "### get()\n",
    "\n",
    "`get multiple items not more than the specified batch size` **and** `get the items within the timeout`"
   ]
  },
  {
   "cell_type": "code",
   "execution_count": 1,
   "id": "8fac7d9a-1c62-4ded-8ef5-8ab3296a0ae1",
   "metadata": {},
   "outputs": [],
   "source": [
    "from queue import Queue, Empty\n",
    "import time\n",
    "from threading import Thread\n",
    "from threading import Event\n",
    "from typing import Callable, List\n",
    "import random\n",
    "import uuid\n",
    "\n",
    "from typing import Any\n",
    "from dataclasses import dataclass, field\n",
    "import uuid\n",
    "from threading import Event"
   ]
  },
  {
   "cell_type": "code",
   "execution_count": 2,
   "id": "80568e25-4124-4d38-9dc0-2c1ca9155aaa",
   "metadata": {},
   "outputs": [],
   "source": [
    "class BatchedQueue:\n",
    "    def __init__(self, timeout=1.0, bs=1):\n",
    "        self.timeout = timeout\n",
    "        self.bs = bs\n",
    "        self._queue: Queue = Queue()\n",
    "        self._result = []\n",
    "        self._event = Event()\n",
    "\n",
    "    def get(self):\n",
    "        entered_at = time.time()\n",
    "        timeout = self.timeout\n",
    "        bs = self.bs\n",
    "\n",
    "        if self._queue.qsize() >= bs:\n",
    "            return [self._queue.get_nowait() for _ in range(bs)]\n",
    "\n",
    "        while (\n",
    "            self._event.wait(timeout - (time.time() - entered_at))\n",
    "            and self._queue.qsize() < bs\n",
    "        ):\n",
    "            True\n",
    "\n",
    "        result = []\n",
    "        try:\n",
    "            for _ in range(bs):\n",
    "                result.append(self._queue.get_nowait())\n",
    "            return result\n",
    "        except Empty:\n",
    "            return result\n",
    "\n",
    "    def put(self, item):\n",
    "        self._queue.put(item)\n",
    "        if self._event.is_set() and self.size >= self.bs:\n",
    "            self._event.set()\n",
    "\n",
    "    @property\n",
    "    def size(self):\n",
    "        return self._queue.qsize()"
   ]
  },
  {
   "cell_type": "code",
   "execution_count": 3,
   "id": "839600e4-aa84-486e-8cb1-ea14976cfb09",
   "metadata": {},
   "outputs": [
    {
     "data": {
      "text/plain": [
       "1"
      ]
     },
     "execution_count": 3,
     "metadata": {},
     "output_type": "execute_result"
    }
   ],
   "source": [
    "q = BatchedQueue(timeout=2, bs=4)\n",
    "\n",
    "q.put(1)\n",
    "q.size"
   ]
  },
  {
   "cell_type": "code",
   "execution_count": 9,
   "id": "5a3697dd-e887-4446-96b0-8f38d8e56387",
   "metadata": {},
   "outputs": [
    {
     "name": "stdout",
     "output_type": "stream",
     "text": [
      "size 1\n",
      "size 0\n"
     ]
    },
    {
     "data": {
      "text/plain": [
       "2.005971908569336"
      ]
     },
     "execution_count": 9,
     "metadata": {},
     "output_type": "execute_result"
    }
   ],
   "source": [
    "t0 = time.time()\n",
    "print(\"size\", q.size)\n",
    "q.get()\n",
    "print(\"size\", q.size)\n",
    "time.time() - t0"
   ]
  },
  {
   "cell_type": "markdown",
   "id": "1dc76edd-d013-4c32-bfc1-fb111522bd04",
   "metadata": {},
   "source": [
    "## Test with a publisher"
   ]
  },
  {
   "cell_type": "code",
   "execution_count": 6,
   "id": "527efb5b-f77e-4e58-91f1-71b4d9aa5427",
   "metadata": {},
   "outputs": [],
   "source": [
    "import random"
   ]
  },
  {
   "cell_type": "code",
   "execution_count": 72,
   "id": "965e11c0-e0ec-4e56-8c02-755f51607722",
   "metadata": {},
   "outputs": [],
   "source": [
    "q = BatchedQueue(timeout=2, bs=4)\n",
    "\n",
    "\n",
    "def publisher():\n",
    "    for i in range(16):\n",
    "        time.sleep(random.randint(0, 1))\n",
    "        q.put(random.randint(1000, 100000))\n",
    "\n",
    "\n",
    "thread1 = Thread(target=publisher, daemon=True)\n",
    "thread2 = Thread(target=publisher, daemon=True)\n",
    "thread3 = Thread(target=publisher, daemon=True)\n",
    "\n",
    "thread1.start()\n",
    "thread2.start()\n",
    "thread3.start()"
   ]
  },
  {
   "cell_type": "code",
   "execution_count": 73,
   "id": "6cacd16c-ab9b-4889-b5b3-280672ead673",
   "metadata": {},
   "outputs": [
    {
     "data": {
      "text/plain": [
       "1"
      ]
     },
     "execution_count": 73,
     "metadata": {},
     "output_type": "execute_result"
    }
   ],
   "source": [
    "q.size"
   ]
  },
  {
   "cell_type": "code",
   "execution_count": 74,
   "id": "2bbf2e73-9bbf-47df-9f90-8d0bca8e5723",
   "metadata": {},
   "outputs": [
    {
     "name": "stdout",
     "output_type": "stream",
     "text": [
      "[41763, 37187, 92159, 26374]\n",
      "consumed in 2.01\n",
      "[23742, 25296, 38162, 63866]\n",
      "consumed in 0.00\n",
      "[59609, 44815, 63455, 36995]\n",
      "consumed in 0.00\n",
      "[95961, 8782, 36369, 26241]\n",
      "consumed in 0.00\n",
      "[26588, 25025, 62531, 82674]\n",
      "consumed in 2.01\n",
      "[81486, 78603, 97243, 12901]\n",
      "consumed in 0.00\n",
      "[98119, 30974, 75759, 66431]\n",
      "consumed in 0.00\n",
      "[21387, 66863, 44436, 79741]\n",
      "consumed in 2.00\n",
      "[71203, 10048, 65738, 49077]\n",
      "consumed in 0.00\n",
      "[50332, 45034, 50593, 7350]\n",
      "consumed in 2.00\n",
      "[76572, 49153, 62061, 17380]\n",
      "consumed in 0.00\n",
      "[68097, 98301, 56020, 56934]\n",
      "consumed in 2.01\n"
     ]
    }
   ],
   "source": [
    "for i in range(12):\n",
    "    t0 = time.time()\n",
    "    items = q.get()\n",
    "    print(items)\n",
    "    t1 = time.time()\n",
    "    print(f\"consumed in {t1-t0:.2f}\")"
   ]
  },
  {
   "cell_type": "markdown",
   "id": "8d49632e-67da-46c7-924e-d665830ac273",
   "metadata": {},
   "source": [
    "## Batched Processor"
   ]
  },
  {
   "cell_type": "code",
   "execution_count": 4,
   "id": "11830dae-ba4d-4848-91f6-386c314b2f0f",
   "metadata": {},
   "outputs": [],
   "source": [
    "@dataclass\n",
    "class WaitedObject:\n",
    "    id: str = field(default_factory=lambda: str(uuid.uuid4()))\n",
    "    value: Any = None\n",
    "    completed: bool = False\n",
    "    _event: Event = None\n",
    "\n",
    "    def __post_init__(self):\n",
    "        self._event = Event()\n",
    "\n",
    "    def mark_complete(self):\n",
    "        self.completed = True\n",
    "        self._event.clear()\n",
    "    \n",
    "    def get(self, timeout: float=None):\n",
    "        if self.completed:\n",
    "            self._event.clear()\n",
    "            return self.value\n",
    "        else:\n",
    "            self._event.wait(timeout)"
   ]
  },
  {
   "cell_type": "code",
   "execution_count": 8,
   "id": "8b7dfdc9-55d1-4a63-a9ae-489d3bbfa9cb",
   "metadata": {},
   "outputs": [
    {
     "data": {
      "text/plain": [
       "1"
      ]
     },
     "execution_count": 8,
     "metadata": {},
     "output_type": "execute_result"
    }
   ],
   "source": [
    "a = WaitedObject(value=1)\n",
    "a.mark_complete()\n",
    "a.get(1)"
   ]
  },
  {
   "cell_type": "code",
   "execution_count": 9,
   "id": "31bc6802-1e44-46ad-8aee-0be14c1e873a",
   "metadata": {},
   "outputs": [],
   "source": [
    "class BatchProcessor:\n",
    "    def __init__(self, func: Callable, timeout=1.0, bs=1, ):\n",
    "        self._batched_queue = BatchedQueue()\n",
    "        self.func = func\n",
    "        thread = Thread(target=self._process_queue)\n",
    "        thread.start()\n",
    "\n",
    "    def _process_queue(self):\n",
    "        while True:\n",
    "            batch: List[WaitedObject] = self._batched_queue.get()\n",
    "            if not batch: continue\n",
    "            batch_values = [b.value for b in batch]\n",
    "            results = self.func(batch_values)\n",
    "            for b in batch:\n",
    "                b.mark_complete()\n",
    "\n",
    "    def put(self, item: Any):\n",
    "        waited_obj = WaitedObject(value=item)\n",
    "        self._batched_queue.put(waited_obj)\n",
    "        return waited_obj        "
   ]
  },
  {
   "cell_type": "code",
   "execution_count": 10,
   "id": "2a583fb6-c3ad-4840-9a7b-40c3d5664305",
   "metadata": {},
   "outputs": [],
   "source": [
    "def fake_ml_api(x):\n",
    "    time.sleep(random.randint(0, 2))\n",
    "    return random.randint(0, 1)"
   ]
  },
  {
   "cell_type": "code",
   "execution_count": 11,
   "id": "ea2dd745-4a82-47b8-8770-a270301124f5",
   "metadata": {},
   "outputs": [],
   "source": [
    "processor = BatchProcessor(fake_ml_api, timeout=2, bs=16)"
   ]
  },
  {
   "cell_type": "code",
   "execution_count": 12,
   "id": "bab4568f-a16e-424c-9b9b-049309a892b7",
   "metadata": {},
   "outputs": [
    {
     "name": "stdout",
     "output_type": "stream",
     "text": [
      "WaitedObject(id='d5024d3c-3761-4da0-b4e0-14afa649e020', value=100, completed=False, _event=<threading.Event at 0x1081b84d0: unset>)\n",
      "WaitedObject(id='efbbfbae-f033-427b-84c6-2f7069604a24', value=101, completed=False, _event=<threading.Event at 0x1081beb50: unset>)\n",
      "WaitedObject(id='3a52044f-d1fa-48ac-a03b-eb101dad321b', value=102, completed=False, _event=<threading.Event at 0x1081bc150: unset>)\n",
      "WaitedObject(id='638303e8-97c3-4abc-8bba-bcb2ca46c342', value=103, completed=False, _event=<threading.Event at 0x1081bd250: unset>)\n",
      "WaitedObject(id='dd2c6d08-3a3c-4d18-be83-5695a300f6eb', value=104, completed=False, _event=<threading.Event at 0x1081bc390: unset>)\n",
      "WaitedObject(id='570c0f65-621d-42c8-adff-73ee99b96066', value=105, completed=False, _event=<threading.Event at 0x1081bc810: unset>)\n",
      "WaitedObject(id='a71196b5-9139-4e81-b374-908e3ae3718c', value=106, completed=False, _event=<threading.Event at 0x1081bcb90: unset>)\n",
      "WaitedObject(id='0f9d2189-d279-462d-ac87-bd0da1977613', value=107, completed=False, _event=<threading.Event at 0x1081bced0: unset>)\n",
      "WaitedObject(id='98835810-be62-4c8a-99e5-de46c0568f1c', value=108, completed=False, _event=<threading.Event at 0x1081bdc50: unset>)\n",
      "WaitedObject(id='1f11960c-91c8-4451-890c-fef1acdeb357', value=109, completed=False, _event=<threading.Event at 0x1081be0d0: unset>)\n",
      "WaitedObject(id='fb14f6e0-a0c4-4c37-9351-8a1c2cc71fe3', value=110, completed=False, _event=<threading.Event at 0x1081bfc90: unset>)\n",
      "WaitedObject(id='4e39916f-7ae5-487c-8ce1-4428debcc00b', value=111, completed=False, _event=<threading.Event at 0x1081be890: unset>)\n",
      "WaitedObject(id='ba32cf51-755f-4bc6-847f-b3ef0d80e4d9', value=112, completed=False, _event=<threading.Event at 0x1081becd0: unset>)\n",
      "WaitedObject(id='abcd06d1-5b4d-401e-8220-847d98f45af2', value=113, completed=False, _event=<threading.Event at 0x1081bf010: unset>)\n",
      "WaitedObject(id='6d44f6d4-c902-4673-914e-85fb6c5a1722', value=114, completed=False, _event=<threading.Event at 0x1081bf3d0: unset>)\n",
      "WaitedObject(id='4acdcacc-e9fc-4679-8d15-29b00214baba', value=115, completed=False, _event=<threading.Event at 0x1081bf710: unset>)\n",
      "WaitedObject(id='fb5f5391-f86e-42ae-8a80-28f0729c9084', value=116, completed=False, _event=<threading.Event at 0x1081bfa90: unset>)\n",
      "WaitedObject(id='8c860f96-4ede-4c18-a161-bed1dd368af6', value=117, completed=False, _event=<threading.Event at 0x108192550: unset>)\n",
      "WaitedObject(id='1a8d55bf-6b0d-4555-9b1e-778091d32f9c', value=118, completed=False, _event=<threading.Event at 0x108190410: unset>)\n",
      "WaitedObject(id='4035e4b9-01ac-4454-b021-d801f959d49a', value=119, completed=False, _event=<threading.Event at 0x108190610: unset>)\n",
      "WaitedObject(id='8d01611f-8d13-4b23-9b38-be46f4c5e943', value=120, completed=False, _event=<threading.Event at 0x108193810: unset>)\n",
      "WaitedObject(id='94960371-9f02-432a-b397-79cfc379ca9b', value=121, completed=False, _event=<threading.Event at 0x1081907d0: unset>)\n",
      "WaitedObject(id='cebc22e5-e494-4797-a7d9-dae39acfaba7', value=122, completed=False, _event=<threading.Event at 0x108190b10: unset>)\n",
      "WaitedObject(id='e2fe1703-adec-4849-b6ec-ce184f44734d', value=123, completed=False, _event=<threading.Event at 0x108190650: unset>)\n",
      "WaitedObject(id='60fe0b05-4fa9-4355-b829-baef74a8b7d0', value=124, completed=False, _event=<threading.Event at 0x108190890: unset>)\n",
      "WaitedObject(id='474ccbc0-4cc8-45e4-b659-50c74c9671bc', value=125, completed=False, _event=<threading.Event at 0x108190a10: unset>)\n",
      "WaitedObject(id='dab8f466-a0ba-40ab-998b-508061a51b50', value=126, completed=False, _event=<threading.Event at 0x108191b10: unset>)\n",
      "WaitedObject(id='fa5ce423-ded5-4b75-809f-c7c03f2ae57a', value=127, completed=False, _event=<threading.Event at 0x1081918d0: unset>)\n",
      "WaitedObject(id='0168f531-3805-4554-b3b9-48a6a3fe4eed', value=128, completed=False, _event=<threading.Event at 0x108191e50: unset>)\n",
      "WaitedObject(id='0b196760-752e-49bd-b7b5-12d3f1e02aba', value=129, completed=False, _event=<threading.Event at 0x108192a90: unset>)\n",
      "WaitedObject(id='f55d6973-b68e-4641-97c3-0e45623cc187', value=130, completed=False, _event=<threading.Event at 0x108191390: unset>)\n",
      "WaitedObject(id='d2942ac2-765d-43f3-8a64-846f356e346b', value=131, completed=False, _event=<threading.Event at 0x1081c1350: unset>)\n"
     ]
    }
   ],
   "source": [
    "results = []\n",
    "for i in range(32):\n",
    "    x = processor.put(i+100)\n",
    "    print(x)\n",
    "    results.append(x)"
   ]
  },
  {
   "cell_type": "code",
   "execution_count": 21,
   "id": "dbe4c1b4-af91-4b13-aa9f-864d484e7a83",
   "metadata": {},
   "outputs": [
    {
     "data": {
      "text/plain": [
       "[WaitedObject(id='d5024d3c-3761-4da0-b4e0-14afa649e020', value=100, completed=True, _event=<threading.Event at 0x1081b84d0: unset>),\n",
       " WaitedObject(id='efbbfbae-f033-427b-84c6-2f7069604a24', value=101, completed=True, _event=<threading.Event at 0x1081beb50: unset>),\n",
       " WaitedObject(id='3a52044f-d1fa-48ac-a03b-eb101dad321b', value=102, completed=True, _event=<threading.Event at 0x1081bc150: unset>),\n",
       " WaitedObject(id='638303e8-97c3-4abc-8bba-bcb2ca46c342', value=103, completed=True, _event=<threading.Event at 0x1081bd250: unset>),\n",
       " WaitedObject(id='dd2c6d08-3a3c-4d18-be83-5695a300f6eb', value=104, completed=True, _event=<threading.Event at 0x1081bc390: unset>),\n",
       " WaitedObject(id='570c0f65-621d-42c8-adff-73ee99b96066', value=105, completed=True, _event=<threading.Event at 0x1081bc810: unset>),\n",
       " WaitedObject(id='a71196b5-9139-4e81-b374-908e3ae3718c', value=106, completed=True, _event=<threading.Event at 0x1081bcb90: unset>),\n",
       " WaitedObject(id='0f9d2189-d279-462d-ac87-bd0da1977613', value=107, completed=False, _event=<threading.Event at 0x1081bced0: unset>),\n",
       " WaitedObject(id='98835810-be62-4c8a-99e5-de46c0568f1c', value=108, completed=False, _event=<threading.Event at 0x1081bdc50: unset>),\n",
       " WaitedObject(id='1f11960c-91c8-4451-890c-fef1acdeb357', value=109, completed=False, _event=<threading.Event at 0x1081be0d0: unset>),\n",
       " WaitedObject(id='fb14f6e0-a0c4-4c37-9351-8a1c2cc71fe3', value=110, completed=False, _event=<threading.Event at 0x1081bfc90: unset>),\n",
       " WaitedObject(id='4e39916f-7ae5-487c-8ce1-4428debcc00b', value=111, completed=False, _event=<threading.Event at 0x1081be890: unset>),\n",
       " WaitedObject(id='ba32cf51-755f-4bc6-847f-b3ef0d80e4d9', value=112, completed=False, _event=<threading.Event at 0x1081becd0: unset>),\n",
       " WaitedObject(id='abcd06d1-5b4d-401e-8220-847d98f45af2', value=113, completed=False, _event=<threading.Event at 0x1081bf010: unset>),\n",
       " WaitedObject(id='6d44f6d4-c902-4673-914e-85fb6c5a1722', value=114, completed=False, _event=<threading.Event at 0x1081bf3d0: unset>),\n",
       " WaitedObject(id='4acdcacc-e9fc-4679-8d15-29b00214baba', value=115, completed=False, _event=<threading.Event at 0x1081bf710: unset>),\n",
       " WaitedObject(id='fb5f5391-f86e-42ae-8a80-28f0729c9084', value=116, completed=False, _event=<threading.Event at 0x1081bfa90: unset>),\n",
       " WaitedObject(id='8c860f96-4ede-4c18-a161-bed1dd368af6', value=117, completed=False, _event=<threading.Event at 0x108192550: unset>),\n",
       " WaitedObject(id='1a8d55bf-6b0d-4555-9b1e-778091d32f9c', value=118, completed=False, _event=<threading.Event at 0x108190410: unset>),\n",
       " WaitedObject(id='4035e4b9-01ac-4454-b021-d801f959d49a', value=119, completed=False, _event=<threading.Event at 0x108190610: unset>),\n",
       " WaitedObject(id='8d01611f-8d13-4b23-9b38-be46f4c5e943', value=120, completed=False, _event=<threading.Event at 0x108193810: unset>),\n",
       " WaitedObject(id='94960371-9f02-432a-b397-79cfc379ca9b', value=121, completed=False, _event=<threading.Event at 0x1081907d0: unset>),\n",
       " WaitedObject(id='cebc22e5-e494-4797-a7d9-dae39acfaba7', value=122, completed=False, _event=<threading.Event at 0x108190b10: unset>),\n",
       " WaitedObject(id='e2fe1703-adec-4849-b6ec-ce184f44734d', value=123, completed=False, _event=<threading.Event at 0x108190650: unset>),\n",
       " WaitedObject(id='60fe0b05-4fa9-4355-b829-baef74a8b7d0', value=124, completed=False, _event=<threading.Event at 0x108190890: unset>),\n",
       " WaitedObject(id='474ccbc0-4cc8-45e4-b659-50c74c9671bc', value=125, completed=False, _event=<threading.Event at 0x108190a10: unset>),\n",
       " WaitedObject(id='dab8f466-a0ba-40ab-998b-508061a51b50', value=126, completed=False, _event=<threading.Event at 0x108191b10: unset>),\n",
       " WaitedObject(id='fa5ce423-ded5-4b75-809f-c7c03f2ae57a', value=127, completed=False, _event=<threading.Event at 0x1081918d0: unset>),\n",
       " WaitedObject(id='0168f531-3805-4554-b3b9-48a6a3fe4eed', value=128, completed=False, _event=<threading.Event at 0x108191e50: unset>),\n",
       " WaitedObject(id='0b196760-752e-49bd-b7b5-12d3f1e02aba', value=129, completed=False, _event=<threading.Event at 0x108192a90: unset>),\n",
       " WaitedObject(id='f55d6973-b68e-4641-97c3-0e45623cc187', value=130, completed=False, _event=<threading.Event at 0x108191390: unset>),\n",
       " WaitedObject(id='d2942ac2-765d-43f3-8a64-846f356e346b', value=131, completed=False, _event=<threading.Event at 0x1081c1350: unset>)]"
      ]
     },
     "execution_count": 21,
     "metadata": {},
     "output_type": "execute_result"
    }
   ],
   "source": [
    "results"
   ]
  },
  {
   "cell_type": "code",
   "execution_count": 22,
   "id": "641a1ba3-ae40-432f-810b-519789d9a412",
   "metadata": {},
   "outputs": [
    {
     "data": {
      "text/plain": [
       "100"
      ]
     },
     "execution_count": 22,
     "metadata": {},
     "output_type": "execute_result"
    }
   ],
   "source": [
    "results[0].get()"
   ]
  },
  {
   "cell_type": "code",
   "execution_count": null,
   "id": "02655840-30e6-4365-aa8a-97607ed0549f",
   "metadata": {},
   "outputs": [],
   "source": [
    "results[30].get()"
   ]
  },
  {
   "cell_type": "code",
   "execution_count": null,
   "id": "4a764e88-50d4-4f50-bbee-596171088017",
   "metadata": {},
   "outputs": [],
   "source": []
  }
 ],
 "metadata": {
  "kernelspec": {
   "display_name": "Python 3 (ipykernel)",
   "language": "python",
   "name": "python3"
  },
  "language_info": {
   "codemirror_mode": {
    "name": "ipython",
    "version": 3
   },
   "file_extension": ".py",
   "mimetype": "text/x-python",
   "name": "python",
   "nbconvert_exporter": "python",
   "pygments_lexer": "ipython3",
   "version": "3.11.4"
  }
 },
 "nbformat": 4,
 "nbformat_minor": 5
}
