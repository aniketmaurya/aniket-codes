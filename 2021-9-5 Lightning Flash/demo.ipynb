{
 "cells": [
  {
   "cell_type": "markdown",
   "id": "04f694ff",
   "metadata": {},
   "source": [
    "# Pie & AI: PyTorch to Lightning Flash\n",
    "---\n",
    "\n",
    "> ![FLASH LOGO](https://github.com/PyTorchLightning/lightning-flash/raw/master/docs/source/_static/images/logo.svg)\n",
    "\n",
    "Flash is a framework of tasks for fast prototyping, baselining, finetuning and solving business and scientific problems with deep learning.\n",
    "It is focused on:\n",
    "\n",
    "1. Predictions\n",
    "1. Finetuning\n",
    "1. Task-based training\n",
    "\n"
   ]
  },
  {
   "cell_type": "markdown",
   "id": "b60372d4",
   "metadata": {},
   "source": [
    "#### Image\n",
    "- Classification\n",
    "- Segmentation\n",
    "- Object Detection\n",
    "- Style Transfer\n",
    "\n",
    "#### Text\n",
    "- Text Classification\n",
    "- Question Answering\n",
    "\n",
    "#### Audio\n",
    "- Classification\n",
    "- Speech Recognition\n",
    "\n",
    "#### Tabular\n",
    "- Classification\n",
    "- Regression\n",
    "\n",
    "#### Video\n",
    "- Classification"
   ]
  },
  {
   "cell_type": "markdown",
   "id": "d0c8ed0e",
   "metadata": {},
   "source": [
    "## Image Classification"
   ]
  },
  {
   "cell_type": "code",
   "execution_count": null,
   "id": "334ba692",
   "metadata": {},
   "outputs": [],
   "source": [
    "# !pip install -U lightning-flash==0.5.0rc0"
   ]
  },
  {
   "cell_type": "code",
   "execution_count": null,
   "id": "ccb2045e",
   "metadata": {},
   "outputs": [],
   "source": [
    "%matplotlib inline"
   ]
  },
  {
   "cell_type": "code",
   "execution_count": null,
   "id": "a4704d70",
   "metadata": {},
   "outputs": [],
   "source": [
    "import flash\n",
    "\n",
    "flash.__version__"
   ]
  },
  {
   "cell_type": "code",
   "execution_count": null,
   "id": "6dc5e162",
   "metadata": {},
   "outputs": [],
   "source": [
    "import torch\n",
    "from flash.core.data.utils import download_data\n",
    "\n",
    "from flash.image import (\n",
    "    ImageClassificationData,\n",
    "    ImageClassifier,\n",
    "    SemanticSegmentation,\n",
    "    SemanticSegmentationData,\n",
    ")"
   ]
  },
  {
   "cell_type": "markdown",
   "id": "830c6bd2",
   "metadata": {},
   "source": [
    "### ImageClassificationData\n",
    "Simple dataloading from folder, list, csv or dataframe."
   ]
  },
  {
   "cell_type": "code",
   "execution_count": null,
   "id": "a73aa8d2",
   "metadata": {},
   "outputs": [],
   "source": [
    "# ls /Users/aniket/data/tiny-imagenet-200/val/"
   ]
  },
  {
   "cell_type": "code",
   "execution_count": null,
   "id": "f950c167",
   "metadata": {},
   "outputs": [],
   "source": [
    "dm = ImageClassificationData.from_folders(\n",
    "    \"/Users/aniket/data/tiny-imagenet-200/train/\",\n",
    "    \"/Users/aniket/data/tiny-imagenet-200/val/\")"
   ]
  },
  {
   "cell_type": "markdown",
   "id": "34b14238",
   "metadata": {},
   "source": [
    "#### Out of the box Data visualization"
   ]
  },
  {
   "cell_type": "code",
   "execution_count": null,
   "id": "d5e78a13",
   "metadata": {},
   "outputs": [],
   "source": [
    "dm.show_train_batch()"
   ]
  },
  {
   "cell_type": "markdown",
   "id": "20949fe1",
   "metadata": {},
   "source": [
    "## How Image Classifier is created for a custom dataset?\n",
    "\n",
    "`model = backbone + head`\n",
    "\n",
    "<details><summary>Architecture</summary>\n",
    "\n",
    "> ![](https://miro.medium.com/max/3840/1*Su-_SjRoFED6BGAJ2Wpuzw.jpeg)\n",
    "Source: Coursera\n",
    "    \n",
    "</details>"
   ]
  },
  {
   "cell_type": "code",
   "execution_count": null,
   "id": "c050a555",
   "metadata": {},
   "outputs": [],
   "source": [
    "len(ImageClassifier.available_backbones())"
   ]
  },
  {
   "cell_type": "code",
   "execution_count": null,
   "id": "f87b7a8f",
   "metadata": {},
   "outputs": [],
   "source": [
    "ImageClassifier.available_backbones()[-10:]"
   ]
  },
  {
   "cell_type": "code",
   "execution_count": null,
   "id": "703a4359",
   "metadata": {},
   "outputs": [],
   "source": [
    "model = ImageClassifier(dm.num_classes, backbone='resnet18', pretrained=True)"
   ]
  },
  {
   "cell_type": "code",
   "execution_count": null,
   "id": "81e633ca",
   "metadata": {},
   "outputs": [],
   "source": [
    "model.head"
   ]
  },
  {
   "cell_type": "markdown",
   "id": "15946fc8",
   "metadata": {},
   "source": [
    "### What about Semantic Segmentation?"
   ]
  },
  {
   "cell_type": "code",
   "execution_count": null,
   "id": "fa2c444b",
   "metadata": {},
   "outputs": [],
   "source": [
    "# download_data(\n",
    "#     \"https://github.com/ongchinkiat/LyftPerceptionChallenge/releases/download/v0.1/carla-capture-20180513A.zip\",\n",
    "#     \"~/data\",\n",
    "# )"
   ]
  },
  {
   "cell_type": "code",
   "execution_count": null,
   "id": "6199adc3",
   "metadata": {},
   "outputs": [],
   "source": [
    "datamodule = SemanticSegmentationData.from_folders(\n",
    "    train_folder=\"~/data/CameraRGB\",\n",
    "    train_target_folder=\"~/data/CameraSeg\",\n",
    "    val_split=0.1,\n",
    "    image_size=(224, 224),\n",
    "    num_classes=21,\n",
    ")"
   ]
  },
  {
   "cell_type": "code",
   "execution_count": null,
   "id": "7e146550",
   "metadata": {},
   "outputs": [],
   "source": [
    "datamodule.show_train_batch()"
   ]
  },
  {
   "cell_type": "code",
   "execution_count": null,
   "id": "03e097db",
   "metadata": {},
   "outputs": [],
   "source": [
    "SemanticSegmentation.available_heads()[-10:]"
   ]
  },
  {
   "cell_type": "code",
   "execution_count": null,
   "id": "96a7a9ee",
   "metadata": {},
   "outputs": [],
   "source": [
    "model = SemanticSegmentation(\n",
    "    backbone=\"resnet18\",\n",
    "    head=\"fpn\",\n",
    "    num_classes=datamodule.num_classes,\n",
    ")"
   ]
  },
  {
   "cell_type": "code",
   "execution_count": null,
   "id": "e375824a",
   "metadata": {},
   "outputs": [],
   "source": [
    "# model.backbone"
   ]
  },
  {
   "cell_type": "code",
   "execution_count": null,
   "id": "375fe3c0",
   "metadata": {},
   "outputs": [],
   "source": [
    "trainer = flash.Trainer(max_epochs=3, gpus=torch.cuda.device_count(), fast_dev_run=True)\n",
    "trainer.finetune(model, datamodule=datamodule, strategy=\"freeze\")"
   ]
  },
  {
   "cell_type": "code",
   "execution_count": null,
   "id": "7521a30a",
   "metadata": {},
   "outputs": [],
   "source": [
    "predictions = model.predict(\n",
    "    [\n",
    "        \"~/data/CameraRGB/F61-1.png\",\n",
    "        \"~/data/CameraRGB/F62-1.png\",\n",
    "        \"~/data/CameraRGB/F63-1.png\",\n",
    "    ]\n",
    ")"
   ]
  },
  {
   "cell_type": "code",
   "execution_count": null,
   "id": "e644e6c1",
   "metadata": {},
   "outputs": [],
   "source": [
    "# (predictions[0][2])"
   ]
  },
  {
   "cell_type": "code",
   "execution_count": null,
   "id": "e1ea854b",
   "metadata": {},
   "outputs": [],
   "source": []
  },
  {
   "cell_type": "code",
   "execution_count": null,
   "id": "cb8d6dae",
   "metadata": {},
   "outputs": [],
   "source": []
  }
 ],
 "metadata": {
  "kernelspec": {
   "display_name": "Python 3 (ipykernel)",
   "language": "python",
   "name": "python3"
  },
  "language_info": {
   "codemirror_mode": {
    "name": "ipython",
    "version": 3
   },
   "file_extension": ".py",
   "mimetype": "text/x-python",
   "name": "python",
   "nbconvert_exporter": "python",
   "pygments_lexer": "ipython3",
   "version": "3.8.11"
  },
  "toc": {
   "base_numbering": 1,
   "nav_menu": {},
   "number_sections": true,
   "sideBar": true,
   "skip_h1_title": false,
   "title_cell": "Table of Contents",
   "title_sidebar": "Contents",
   "toc_cell": false,
   "toc_position": {},
   "toc_section_display": true,
   "toc_window_display": false
  }
 },
 "nbformat": 4,
 "nbformat_minor": 5
}
