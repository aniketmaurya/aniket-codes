{
 "cells": [
  {
   "cell_type": "markdown",
   "id": "319b3bb5-6a19-4987-8f1f-1a80babe50b8",
   "metadata": {},
   "source": [
    "# Pie & AI: PyTorch to Lightning Flash\n",
    "---\n",
    "\n",
    "> ![FLASH LOGO](https://github.com/PyTorchLightning/lightning-flash/raw/master/docs/source/_static/images/logo.svg)\n",
    "\n",
    "Flash is a framework of tasks for fast prototyping, baselining, finetuning and solving business and scientific problems with deep learning.\n",
    "It is focused on:\n",
    "\n",
    "1. Predictions\n",
    "1. Finetuning\n",
    "1. Task-based training\n",
    "\n"
   ]
  },
  {
   "cell_type": "markdown",
   "id": "a7278464-a355-4fe9-8771-a0a3743e2eaa",
   "metadata": {},
   "source": [
    "#### Image\n",
    "- Classification\n",
    "- Segmentation\n",
    "- Object Detection\n",
    "- Style Transfer\n",
    "\n",
    "#### Text\n",
    "- Text Classification\n",
    "- Question Answering\n",
    "\n",
    "#### Audio\n",
    "- Classification\n",
    "- Speech Recognition\n",
    "\n",
    "#### Tabular\n",
    "- Classification\n",
    "- Regression\n",
    "\n",
    "#### Video\n",
    "- Classification"
   ]
  },
  {
   "cell_type": "markdown",
   "id": "eb44c66c-59bc-48ec-80f8-f870d8abccdc",
   "metadata": {},
   "source": [
    "## Image Classification"
   ]
  },
  {
   "cell_type": "code",
   "execution_count": null,
   "id": "807a4d50-56f6-412b-b1fd-c69ee2557208",
   "metadata": {},
   "outputs": [],
   "source": [
    "# !pip install -U lightning-flash==0.5.0rc0"
   ]
  },
  {
   "cell_type": "code",
   "execution_count": null,
   "id": "7204590c-3c60-4d74-899b-79192d9325ae",
   "metadata": {},
   "outputs": [],
   "source": [
    "%matplotlib inline"
   ]
  },
  {
   "cell_type": "code",
   "execution_count": null,
   "id": "db5c0055-039a-4780-9ff2-3ed168279020",
   "metadata": {},
   "outputs": [],
   "source": [
    "import flash\n",
    "\n",
    "flash.__version__"
   ]
  },
  {
   "cell_type": "code",
   "execution_count": null,
   "id": "0b060a62-1b76-4c14-9a73-19a5f171ae54",
   "metadata": {},
   "outputs": [],
   "source": [
    "import torch\n",
    "from flash.core.data.utils import download_data\n",
    "\n",
    "from flash.image import (\n",
    "    ImageClassificationData,\n",
    "    ImageClassifier,\n",
    "    SemanticSegmentation,\n",
    "    SemanticSegmentationData,\n",
    ")"
   ]
  },
  {
   "cell_type": "markdown",
   "id": "ba930f66-bc34-437d-a16d-a5e92f7f6f6f",
   "metadata": {},
   "source": [
    "### ImageClassificationData\n",
    "Simple dataloading from folder, list, csv or dataframe."
   ]
  },
  {
   "cell_type": "code",
   "execution_count": null,
   "id": "f5e9b1f3",
   "metadata": {},
   "outputs": [],
   "source": [
    "# ls /Users/aniket/data/tiny-imagenet-200/val/"
   ]
  },
  {
   "cell_type": "code",
   "execution_count": null,
   "id": "53bc20ab-cf74-410b-b4d6-7ef93b350941",
   "metadata": {},
   "outputs": [],
   "source": [
    "dm = ImageClassificationData.from_folders(\n",
    "    \"/Users/aniket/data/tiny-imagenet-200/train/\",\n",
    "    \"/Users/aniket/data/tiny-imagenet-200/val/\")"
   ]
  },
  {
   "cell_type": "markdown",
   "id": "837caa43-5bfc-465d-bfef-ade14c2a33df",
   "metadata": {},
   "source": [
    "#### Out of the box Data visualization"
   ]
  },
  {
   "cell_type": "code",
   "execution_count": null,
   "id": "597bedc5-5e62-48fb-b9d1-271bd416717d",
   "metadata": {},
   "outputs": [],
   "source": [
    "dm.show_train_batch()"
   ]
  },
  {
   "cell_type": "code",
   "execution_count": null,
   "id": "bd01bd17",
   "metadata": {},
   "outputs": [],
   "source": [
    "# ImageClassificationData.from_"
   ]
  },
  {
   "cell_type": "code",
   "execution_count": null,
   "id": "6bc1708a",
   "metadata": {},
   "outputs": [],
   "source": []
  },
  {
   "cell_type": "code",
   "execution_count": null,
   "id": "273a4c50-d09c-40d5-aa34-f27c537bfebe",
   "metadata": {},
   "outputs": [],
   "source": []
  },
  {
   "cell_type": "code",
   "execution_count": null,
   "id": "0bc36303-16a6-4b4e-8109-8daeb53b1e8c",
   "metadata": {},
   "outputs": [],
   "source": []
  },
  {
   "cell_type": "code",
   "execution_count": null,
   "id": "fc0eb6af-9f63-4d04-b943-968dd54d8e2d",
   "metadata": {},
   "outputs": [],
   "source": []
  },
  {
   "cell_type": "code",
   "execution_count": null,
   "id": "b571be7a-9f51-42f1-90f7-2fb1625ed08f",
   "metadata": {},
   "outputs": [],
   "source": []
  },
  {
   "cell_type": "markdown",
   "id": "2b81695c-6476-4a51-a2cc-fa03cf1777ab",
   "metadata": {},
   "source": [
    "## How Image Classifier is created for a custom dataset?\n",
    "\n",
    "`model = backbone + head`\n",
    "\n",
    "<details><summary>Architecture</summary>\n",
    "\n",
    "> ![](https://miro.medium.com/max/3840/1*Su-_SjRoFED6BGAJ2Wpuzw.jpeg)\n",
    "Source: Coursera\n",
    "    \n",
    "</details>"
   ]
  },
  {
   "cell_type": "code",
   "execution_count": null,
   "id": "3e50bf34-ea16-4445-b894-2402653c7829",
   "metadata": {},
   "outputs": [],
   "source": []
  },
  {
   "cell_type": "code",
   "execution_count": null,
   "id": "0b6005e1-d82b-4687-86ec-0fb9b20b9956",
   "metadata": {},
   "outputs": [],
   "source": []
  },
  {
   "cell_type": "code",
   "execution_count": null,
   "id": "f7f0c5b7",
   "metadata": {},
   "outputs": [],
   "source": [
    "len(ImageClassifier.available_backbones())"
   ]
  },
  {
   "cell_type": "code",
   "execution_count": null,
   "id": "d7174d68-342c-4d0e-90be-3b6a197242c1",
   "metadata": {},
   "outputs": [],
   "source": [
    "ImageClassifier.available_backbones()[-10:]"
   ]
  },
  {
   "cell_type": "code",
   "execution_count": null,
   "id": "1f37ffac-6da3-4d1c-a724-1b485964a18a",
   "metadata": {},
   "outputs": [],
   "source": [
    "model = ImageClassifier(dm.num_classes, backbone='resnet18', pretrained=True)"
   ]
  },
  {
   "cell_type": "code",
   "execution_count": null,
   "id": "2691e9eb-a59b-41bb-a366-a1d99777425d",
   "metadata": {},
   "outputs": [],
   "source": [
    "model.head"
   ]
  },
  {
   "cell_type": "code",
   "execution_count": null,
   "id": "e292733f-e5bc-4ac2-a8bb-b7841ec88f50",
   "metadata": {},
   "outputs": [],
   "source": []
  },
  {
   "cell_type": "code",
   "execution_count": null,
   "id": "6e583fe0-4c49-4b0d-a97a-c627aca91ef7",
   "metadata": {},
   "outputs": [],
   "source": []
  },
  {
   "cell_type": "markdown",
   "id": "7a783874-05cc-4e69-b30e-cc63c067bfbe",
   "metadata": {},
   "source": [
    "What about Semantic Segmentation?"
   ]
  },
  {
   "cell_type": "code",
   "execution_count": null,
   "id": "fd81b773-a6e6-4c6f-9e87-7f7a0a08463a",
   "metadata": {},
   "outputs": [],
   "source": []
  },
  {
   "cell_type": "code",
   "execution_count": null,
   "id": "946b44ed-82f8-4c8e-8857-a720801c6570",
   "metadata": {},
   "outputs": [],
   "source": [
    "# download_data(\n",
    "#     \"https://github.com/ongchinkiat/LyftPerceptionChallenge/releases/download/v0.1/carla-capture-20180513A.zip\",\n",
    "#     \"~/data\",\n",
    "# )"
   ]
  },
  {
   "cell_type": "code",
   "execution_count": null,
   "id": "6c2cca01-7bfe-49f8-a294-b2b989856e4a",
   "metadata": {},
   "outputs": [],
   "source": [
    "datamodule = SemanticSegmentationData.from_folders(\n",
    "    train_folder=\"~/data/CameraRGB\",\n",
    "    train_target_folder=\"~/data/CameraSeg\",\n",
    "    val_split=0.1,\n",
    "    image_size=(224, 224),\n",
    "    num_classes=21,\n",
    ")"
   ]
  },
  {
   "cell_type": "code",
   "execution_count": null,
   "id": "2e1d1cd3-edd6-47e9-9ba4-3774c59578dd",
   "metadata": {},
   "outputs": [],
   "source": []
  },
  {
   "cell_type": "code",
   "execution_count": null,
   "id": "65fb065f-ad3c-4578-aeab-e458800cc4c7",
   "metadata": {},
   "outputs": [],
   "source": [
    "datamodule.show_train_batch()"
   ]
  },
  {
   "cell_type": "code",
   "execution_count": null,
   "id": "a805b825-af87-4953-9ad2-a6a494aad0df",
   "metadata": {},
   "outputs": [],
   "source": []
  },
  {
   "cell_type": "code",
   "execution_count": null,
   "id": "173f1179-a340-41c3-9781-38fa4c272fff",
   "metadata": {},
   "outputs": [],
   "source": [
    "SemanticSegmentation.available_heads()[-10:]"
   ]
  },
  {
   "cell_type": "code",
   "execution_count": null,
   "id": "46642508-149f-4791-ad3b-b2902b04c491",
   "metadata": {},
   "outputs": [],
   "source": [
    "model = SemanticSegmentation(\n",
    "    backbone=\"resnet18\",\n",
    "    head=\"fpn\",\n",
    "    num_classes=datamodule.num_classes,\n",
    ")"
   ]
  },
  {
   "cell_type": "code",
   "execution_count": null,
   "id": "1d3cbb5a-618a-44c6-8183-331e4b2e4ec9",
   "metadata": {},
   "outputs": [],
   "source": [
    "# model.backbone"
   ]
  },
  {
   "cell_type": "code",
   "execution_count": null,
   "id": "09b1fca6-3ed1-4c01-b7f2-deb9a5a7c94b",
   "metadata": {},
   "outputs": [],
   "source": [
    "trainer = flash.Trainer(max_epochs=3, gpus=torch.cuda.device_count(), fast_dev_run=True)\n",
    "trainer.finetune(model, datamodule=datamodule, strategy=\"freeze\")"
   ]
  },
  {
   "cell_type": "code",
   "execution_count": null,
   "id": "19755d29-c518-437f-9550-5696d72ac10e",
   "metadata": {},
   "outputs": [],
   "source": [
    "predictions = model.predict(\n",
    "    [\n",
    "        \"~/data/CameraRGB/F61-1.png\",\n",
    "        \"~/data/CameraRGB/F62-1.png\",\n",
    "        \"~/data/CameraRGB/F63-1.png\",\n",
    "    ]\n",
    ")"
   ]
  },
  {
   "cell_type": "code",
   "execution_count": null,
   "id": "7003614f-a4ac-486b-99cc-f1595e971006",
   "metadata": {},
   "outputs": [],
   "source": [
    "# (predictions[0][2])"
   ]
  },
  {
   "cell_type": "code",
   "execution_count": null,
   "id": "32f30d78-2885-4d10-a041-cf099c5e3fdd",
   "metadata": {},
   "outputs": [],
   "source": []
  },
  {
   "cell_type": "code",
   "execution_count": null,
   "id": "e4f0293f-fc4b-4e5f-ab8b-d0c6db412b3a",
   "metadata": {},
   "outputs": [],
   "source": []
  }
 ],
 "metadata": {
  "kernelspec": {
   "display_name": "Python 3",
   "language": "python",
   "name": "python3"
  },
  "language_info": {
   "codemirror_mode": {
    "name": "ipython",
    "version": 3
   },
   "file_extension": ".py",
   "mimetype": "text/x-python",
   "name": "python",
   "nbconvert_exporter": "python",
   "pygments_lexer": "ipython3",
   "version": "3.7.10"
  },
  "toc": {
   "base_numbering": 1,
   "nav_menu": {},
   "number_sections": true,
   "sideBar": true,
   "skip_h1_title": false,
   "title_cell": "Table of Contents",
   "title_sidebar": "Contents",
   "toc_cell": false,
   "toc_position": {},
   "toc_section_display": true,
   "toc_window_display": false
  }
 },
 "nbformat": 4,
 "nbformat_minor": 5
}
