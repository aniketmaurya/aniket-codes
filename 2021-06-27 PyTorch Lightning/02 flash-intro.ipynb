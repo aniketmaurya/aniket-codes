{
 "cells": [
  {
   "cell_type": "markdown",
   "metadata": {
    "colab_type": "text",
    "id": "view-in-github"
   },
   "source": [
    "<a href=\"https://colab.research.google.com/github/aniketmaurya/talks/blob/main/2021-06-27%20PyTorch%20Lightning/02%20flash-intro.ipynb\" target=\"_parent\"><img src=\"https://colab.research.google.com/assets/colab-badge.svg\" alt=\"Open In Colab\"/></a>"
   ]
  },
  {
   "cell_type": "code",
   "execution_count": null,
   "metadata": {
    "id": "e8tLmTwmWh8Y"
   },
   "outputs": [],
   "source": [
    "!pip install -U 'lightning-flash[image]' -q"
   ]
  },
  {
   "cell_type": "code",
   "execution_count": null,
   "metadata": {
    "colab": {
     "base_uri": "https://localhost:8080/"
    },
    "id": "kLpEXMM6WnpZ",
    "outputId": "29b16f71-ac66-48e3-8b23-4d71e2dc8db4"
   },
   "outputs": [],
   "source": [
    "import warnings\n",
    "\n",
    "warnings.filterwarnings('ignore')\n",
    "\n",
    "import matplotlib.pyplot as plt\n",
    "import numpy as np\n",
    "import torch\n",
    "import torch.nn as nn\n",
    "import torch.nn.functional as F\n",
    "import torch.optim as optim\n",
    "import torchvision\n",
    "import torchvision.transforms as transforms\n",
    "\n",
    "import flash\n",
    "import pytorch_lightning as pl"
   ]
  },
  {
   "cell_type": "code",
   "execution_count": null,
   "metadata": {
    "id": "sGSO7ge1WyEH"
   },
   "outputs": [],
   "source": [
    "from flash import Trainer\n",
    "from flash.image import ImageClassifier"
   ]
  },
  {
   "cell_type": "code",
   "execution_count": null,
   "metadata": {
    "id": "hUqO9WRMegrM"
   },
   "outputs": [],
   "source": [
    "# functions to show an image\n",
    "def imshow(img):\n",
    "    img = img / 2 + 0.5  # unnormalize\n",
    "    npimg = img.numpy()\n",
    "    plt.imshow(np.transpose(npimg, (1, 2, 0)))\n",
    "    plt.show()"
   ]
  },
  {
   "cell_type": "code",
   "execution_count": null,
   "metadata": {
    "id": "-dt51GVvWtIf"
   },
   "outputs": [],
   "source": [
    "transform = transforms.Compose([\n",
    "    transforms.ToTensor(),\n",
    "    transforms.Normalize((0.5, 0.5, 0.5), (0.5, 0.5, 0.5))\n",
    "])\n"
   ]
  },
  {
   "cell_type": "code",
   "execution_count": null,
   "metadata": {
    "colab": {
     "base_uri": "https://localhost:8080/",
     "height": 118,
     "referenced_widgets": [
      "59fcc09ae80d4b228e5786185e50413b",
      "6d8215a7c8a3435186a6531acee29d3d",
      "c231a41ee2474583a58063da2b7c16ec",
      "9a3a66c119584fb6aa9ae15fcd1f4343",
      "22e15b2de5a84aa183d90a09567000f0",
      "30d53945dbe5482a87db054398f586cc",
      "3412a3420ee344d780536dc03c7f292c",
      "4f05d8f3e1fc4dba822c0cd9562a9124"
     ]
    },
    "id": "eFh80LqlWxAP",
    "outputId": "62ecffb9-37ec-454e-ba16-ee97191a87e4"
   },
   "outputs": [],
   "source": [
    "class CIFARDataModule(pl.LightningDataModule):\n",
    "\n",
    "    def __init__(self, batch_size: int = 64):\n",
    "        super().__init__()\n",
    "        self.batch_size = batch_size\n",
    "        \n",
    "        self.train_data = torchvision.datasets.CIFAR10(\n",
    "            '/Users/aniket/datasets/', download=True, transform=transform)\n",
    "\n",
    "        self.val_data = torchvision.datasets.CIFAR10('/Users/aniket/datasets/',\n",
    "                                                     train=False,\n",
    "                                                     download=True,\n",
    "                                                     transform=transform)\n",
    "        \n",
    "\n",
    "    def train_dataloader(self):\n",
    "        return torch.utils.data.DataLoader(self.train_data,\n",
    "                                           batch_size=self.batch_size,\n",
    "                                           shuffle=True)\n",
    "\n",
    "    def val_dataloader(self):\n",
    "        return torch.utils.data.DataLoader(self.val_data,\n",
    "                                           batch_size=self.batch_size,\n",
    "                                           shuffle=False)\n",
    "\n",
    "    def on_after_batch_transfer(self, batch, dataloader_idx):\n",
    "        data = {'input': batch[0], 'target': batch[1]}\n",
    "        return data\n",
    "    \n",
    "cifar_dm = CIFARDataModule(batch_size=64)"
   ]
  },
  {
   "cell_type": "code",
   "execution_count": null,
   "metadata": {
    "colab": {
     "base_uri": "https://localhost:8080/",
     "height": 520,
     "referenced_widgets": [
      "a4a4efd0f63e4b138368ce17226e9aee",
      "00a468952cc4466498ad86a4f01c3571",
      "10c07c5c56604417bf4c674c1e2a507e",
      "4e4fd56f13bf4018993bb72b2faf1f79",
      "99c50998080043aba2218e9f3b690529",
      "8a48b63b8fbe41778fb511abfadeb2cc",
      "26233f097c734f18afc531899785766a",
      "af44bb51d51c4f7da94afa2cc4099da9",
      "5486b212ec2a4137a2b223e58a642a48",
      "358e6c690d6b4e31b58af9fcdfaa6d19",
      "bffb2d197ab44c65889a328fc05339b3",
      "78a513674fc14ef1b1b96e9480a8a771",
      "93080b0428e64e6ba271c7120115ce45",
      "77a505d9a2404d1c8394c5dc636021c9",
      "592ded67f4fc474a95cd56ca7bf01d1d",
      "f79380ab22ca4fa6b7e6a0831229f836",
      "576b45ceb2444fe4b3d235ae96804e7c",
      "f8cf48568b7b4e7781fc88f32b302c59",
      "37f532f3e6044ad7b3e4c7f4900c1e5d",
      "1fdf633b92a14bca819207f5284162b0",
      "d5a0a7422a4a46eaa461c8bad6c37e5b",
      "bc9c09c7d8a14b7ba2d2f69081a3fa6a",
      "8d6b9703c5824d54ba113a22a611d3c7",
      "6214c40be09d4ab7bc67b4e26b226a39",
      "45b2cda49a054dccba62786b7d99b42e",
      "db9aab34972743a782db6ecbef4bd8b6",
      "482cb0d9d3c04621b76bacdaaf73fd60",
      "c7250a45e5a84208ac28251041808172",
      "18765c42b7634f38856a10cb15d614f5",
      "1f505a6cac294026a2072494821ce83d",
      "e85e3f2be68147b79f6d9371aca69fca",
      "a30dacc10552478496ff0c19358ce7cb",
      "3d0892c20c2d4f27834bbc8ca5d6e433",
      "edf28a6d25a447c8bcaf0aca7fcd230c",
      "ac7b90969b2a46279e23966195ffbc76",
      "8540363aed6b421e95191c780ea2a74f",
      "e46fbf0e4aeb4a7b88278ee1d74e46e0",
      "5c28b01b235f41d4aa3eb17709a019bc",
      "e9dabdf5613b4042a34bc01b73bd0c8c",
      "56fe1392676b4b598824ef3f163c358d",
      "6e9f248d7d9a495aa3d0516f07cbd0c5",
      "9fc28096f4dc4293af2c3e03c2aa2c2f",
      "6de7bca885c94b0bb2d8537f0b24c0ca",
      "b060fbc2f66a4dad994a9dcd8dc9a5db",
      "d20679778a2b44fcae83c6ca86ba4262",
      "7e62496131c64feb87a9eb8c403f5614",
      "b2c88e0d8840415e8eaff4a115deafe8",
      "61e12a5895d54622b61f71ac7398fdcb",
      "2ef0a604967a4f7abd380655dbd1d7a0",
      "57e8764e1da147f4b0c5f766e6015f43",
      "28f04627dbd2416bab7d08b543fbaf5b",
      "86401c1c1fa348de8df0bab4e804d42f",
      "08cc382f28c14c4dba33f655a55c841b",
      "e432b7f9e1b1465a97fbbab1b6a0adc4",
      "caa1470168cf42a9b33b3973fa47648c",
      "102188201b78441085c898c507b57be1",
      "e38defb664bc451781f660f22bb910e0",
      "ce96119416c147f7851733ff2e8a5adb",
      "4c08dd978697497c9d3f11ad696edb95",
      "84f40ca2f4be4aeaa2ce6495e0654a88",
      "b5fc8e1d2a774eb99e3f1126222b3343",
      "4037ba099d344d0385e5e2dcd751b1cd",
      "223aaedf62f342df9d144c182b229606",
      "c56e2dfc8945431b8388a6d9f3662dea"
     ]
    },
    "id": "2H7y_IxeW0cP",
    "outputId": "63293518-87fe-490a-f737-6d644f1331a1"
   },
   "outputs": [],
   "source": [
    "classes = ('plane', 'car', 'bird', 'cat', 'deer', 'dog', 'frog', 'horse',\n",
    "           'ship', 'truck')\n",
    "\n",
    "num_classes = len(classes)\n",
    "backbone = 'resnet18'\n",
    "\n",
    "model = ImageClassifier(num_classes, backbone)\n",
    "\n",
    "trainer = flash.Trainer(max_epochs=5, gpus=1)\n",
    "trainer.fit(model, datamodule=cifar_dm)"
   ]
  },
  {
   "cell_type": "markdown",
   "metadata": {
    "id": "39fKDGlYegrN"
   },
   "source": [
    "## Prediction"
   ]
  },
  {
   "cell_type": "code",
   "execution_count": null,
   "metadata": {
    "id": "0EtUj_c6W7j4"
   },
   "outputs": [],
   "source": [
    "data = next(iter(cifar_dm.train_dataloader()))"
   ]
  },
  {
   "cell_type": "code",
   "execution_count": null,
   "metadata": {
    "colab": {
     "base_uri": "https://localhost:8080/",
     "height": 155
    },
    "id": "h0F_q_WOY1AO",
    "outputId": "c46be230-a827-4052-b381-0cb7e916cf81"
   },
   "outputs": [],
   "source": [
    "\n",
    "\n",
    "batch_size = 4\n",
    "images, labels = data[0][:batch_size], data[1][:batch_size]\n",
    "\n",
    "\n",
    "# show images\n",
    "imshow(torchvision.utils.make_grid(images))\n",
    "# print labels\n",
    "print(' '.join('%5s' % classes[labels[j]] for j in range(batch_size)))"
   ]
  },
  {
   "cell_type": "code",
   "execution_count": null,
   "metadata": {
    "colab": {
     "base_uri": "https://localhost:8080/"
    },
    "id": "y4Ppf8ahbdug",
    "outputId": "91ca1c46-a7de-4008-e7b9-5459d041f463"
   },
   "outputs": [],
   "source": [
    "labels"
   ]
  },
  {
   "cell_type": "code",
   "execution_count": null,
   "metadata": {
    "colab": {
     "base_uri": "https://localhost:8080/"
    },
    "id": "X4m8OiDxaR3B",
    "outputId": "024538f6-a8c6-418c-c9f8-960fc569b956"
   },
   "outputs": [],
   "source": [
    "torch.argmax(torch.nn.Softmax()(model(images)), 1)"
   ]
  }
 ],
 "metadata": {
  "accelerator": "GPU",
  "colab": {
   "collapsed_sections": [],
   "include_colab_link": true,
   "name": "02 flash-intro.ipynb",
   "provenance": []
  },
  "kernelspec": {
   "display_name": "Python 3",
   "language": "python",
   "name": "python3"
  },
  "language_info": {
   "codemirror_mode": {
    "name": "ipython",
    "version": 3
   },
   "file_extension": ".py",
   "mimetype": "text/x-python",
   "name": "python",
   "nbconvert_exporter": "python",
   "pygments_lexer": "ipython3",
   "version": "3.7.10"
  }
 },
 "nbformat": 4,
 "nbformat_minor": 0
}
