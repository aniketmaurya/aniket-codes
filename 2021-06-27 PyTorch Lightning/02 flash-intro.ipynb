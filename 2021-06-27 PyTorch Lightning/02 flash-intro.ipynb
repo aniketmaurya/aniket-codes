{
 "cells": [
  {
   "cell_type": "code",
   "execution_count": null,
   "id": "decd8666-3366-4537-a69a-c4a4aa91d35c",
   "metadata": {},
   "outputs": [],
   "source": []
  }
 ],
 "metadata": {
  "kernelspec": {
   "display_name": "Python 3",
   "language": "python",
   "name": "python3"
  },
  "language_info": {
   "codemirror_mode": {
    "name": "ipython",
    "version": 3
   },
   "file_extension": ".py",
   "mimetype": "text/x-python",
   "name": "python",
   "nbconvert_exporter": "python",
   "pygments_lexer": "ipython3",
   "version": "3.7.10"
  }
 },
 "nbformat": 4,
 "nbformat_minor": 5
}
