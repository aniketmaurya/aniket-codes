{
 "cells": [
  {
   "cell_type": "code",
   "execution_count": null,
   "metadata": {
    "id": "e8tLmTwmWh8Y"
   },
   "outputs": [],
   "source": [
    "# !pip install -U 'lightning-flash[image]' -q"
   ]
  },
  {
   "cell_type": "code",
   "execution_count": null,
   "metadata": {
    "colab": {
     "base_uri": "https://localhost:8080/"
    },
    "id": "kLpEXMM6WnpZ",
    "outputId": "6718c8bb-2596-4997-c1e2-40951b74b365"
   },
   "outputs": [],
   "source": [
    "import warnings\n",
    "\n",
    "warnings.filterwarnings('ignore')\n",
    "\n",
    "import matplotlib.pyplot as plt\n",
    "import numpy as np\n",
    "import torch\n",
    "import torch.nn as nn\n",
    "import torch.nn.functional as F\n",
    "import torch.optim as optim\n",
    "import torchvision\n",
    "import torchvision.transforms as transforms\n",
    "\n",
    "import flash\n",
    "import pytorch_lightning as pl\n"
   ]
  },
  {
   "cell_type": "code",
   "execution_count": null,
   "metadata": {
    "id": "sGSO7ge1WyEH"
   },
   "outputs": [],
   "source": [
    "from flash import Trainer\n",
    "from flash.image import ImageClassifier"
   ]
  },
  {
   "cell_type": "code",
   "execution_count": null,
   "metadata": {},
   "outputs": [],
   "source": [
    "# functions to show an image\n",
    "def imshow(img):\n",
    "    img = img / 2 + 0.5  # unnormalize\n",
    "    npimg = img.numpy()\n",
    "    plt.imshow(np.transpose(npimg, (1, 2, 0)))\n",
    "    plt.show()"
   ]
  },
  {
   "cell_type": "code",
   "execution_count": null,
   "metadata": {
    "id": "-dt51GVvWtIf"
   },
   "outputs": [],
   "source": [
    "transform = transforms.Compose([\n",
    "    transforms.ToTensor(),\n",
    "    transforms.Normalize((0.5, 0.5, 0.5), (0.5, 0.5, 0.5))\n",
    "])\n"
   ]
  },
  {
   "cell_type": "code",
   "execution_count": null,
   "metadata": {
    "id": "eFh80LqlWxAP"
   },
   "outputs": [],
   "source": [
    "class CIFARDataModule(pl.LightningDataModule):\n",
    "\n",
    "    def __init__(self, batch_size: int = 64):\n",
    "        super().__init__()\n",
    "        self.batch_size = batch_size\n",
    "        \n",
    "        self.train_data = torchvision.datasets.CIFAR10(\n",
    "            '/Users/aniket/datasets/', download=True, transform=transform)\n",
    "\n",
    "        self.val_data = torchvision.datasets.CIFAR10('/Users/aniket/datasets/',\n",
    "                                                     train=False,\n",
    "                                                     download=True,\n",
    "                                                     transform=transform)\n",
    "        \n",
    "\n",
    "    def train_dataloader(self):\n",
    "        return torch.utils.data.DataLoader(self.train_data,\n",
    "                                           batch_size=self.batch_size,\n",
    "                                           shuffle=True)\n",
    "\n",
    "    def val_dataloader(self):\n",
    "        return torch.utils.data.DataLoader(self.val_data,\n",
    "                                           batch_size=self.batch_size,\n",
    "                                           shuffle=False)\n",
    "\n",
    "    def on_after_batch_transfer(self, batch, dataloader_idx):\n",
    "        data = {'input': batch[0], 'target': batch[1]}\n",
    "        return data\n",
    "    \n",
    "cifar_dm = CIFARDataModule(batch_size=64)"
   ]
  },
  {
   "cell_type": "code",
   "execution_count": null,
   "metadata": {
    "id": "2H7y_IxeW0cP"
   },
   "outputs": [],
   "source": [
    "classes = ('plane', 'car', 'bird', 'cat', 'deer', 'dog', 'frog', 'horse',\n",
    "           'ship', 'truck')\n",
    "\n",
    "num_classes = len(classes)\n",
    "backbone = 'resnet18'\n",
    "\n",
    "model = ImageClassifier(num_classes, backbone)\n",
    "\n",
    "trainer = flash.Trainer(max_epochs=5, gpus=1)\n",
    "trainer.fit(model, datamodule=cifar_dm)"
   ]
  },
  {
   "cell_type": "markdown",
   "metadata": {},
   "source": [
    "## Prediction"
   ]
  },
  {
   "cell_type": "code",
   "execution_count": null,
   "metadata": {
    "id": "0EtUj_c6W7j4"
   },
   "outputs": [],
   "source": [
    "data = next(iter(cifar_dm.train_dataloader()))"
   ]
  },
  {
   "cell_type": "code",
   "execution_count": null,
   "metadata": {
    "colab": {
     "base_uri": "https://localhost:8080/",
     "height": 155
    },
    "id": "h0F_q_WOY1AO",
    "outputId": "05003671-5992-4d18-dc8f-d57c1f2f98b7"
   },
   "outputs": [],
   "source": [
    "\n",
    "\n",
    "batch_size = 4\n",
    "images, labels = data[0][:batch_size], data[1][:batch_size]\n",
    "\n",
    "\n",
    "# show images\n",
    "imshow(torchvision.utils.make_grid(images))\n",
    "# print labels\n",
    "print(' '.join('%5s' % classes[labels[j]] for j in range(batch_size)))"
   ]
  },
  {
   "cell_type": "code",
   "execution_count": null,
   "metadata": {
    "colab": {
     "base_uri": "https://localhost:8080/"
    },
    "id": "y4Ppf8ahbdug",
    "outputId": "e4997eed-c6b8-42ab-bb93-26213c2d147b"
   },
   "outputs": [],
   "source": [
    "labels"
   ]
  },
  {
   "cell_type": "code",
   "execution_count": null,
   "metadata": {
    "colab": {
     "base_uri": "https://localhost:8080/"
    },
    "id": "X4m8OiDxaR3B",
    "outputId": "12e5bb85-4478-4f62-d9d6-ccedcd73e3bb"
   },
   "outputs": [],
   "source": [
    "torch.argmax(torch.nn.Softmax()(model(images)), 1)"
   ]
  }
 ],
 "metadata": {
  "accelerator": "GPU",
  "colab": {
   "collapsed_sections": [],
   "name": "02 flash-intro.ipynb",
   "provenance": []
  },
  "kernelspec": {
   "display_name": "Python 3",
   "language": "python",
   "name": "python3"
  },
  "language_info": {
   "codemirror_mode": {
    "name": "ipython",
    "version": 3
   },
   "file_extension": ".py",
   "mimetype": "text/x-python",
   "name": "python",
   "nbconvert_exporter": "python",
   "pygments_lexer": "ipython3",
   "version": "3.7.10"
  }
 },
 "nbformat": 4,
 "nbformat_minor": 4
}
