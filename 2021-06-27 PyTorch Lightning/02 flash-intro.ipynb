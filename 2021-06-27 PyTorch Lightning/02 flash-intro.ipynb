{
 "cells": [
  {
   "cell_type": "code",
   "execution_count": null,
   "metadata": {
    "id": "e8tLmTwmWh8Y"
   },
   "outputs": [],
   "source": [
    "!pip install -U 'lightning-flash[image]' -q"
   ]
  },
  {
   "cell_type": "code",
   "execution_count": null,
   "metadata": {
    "colab": {
     "base_uri": "https://localhost:8080/"
    },
    "id": "kLpEXMM6WnpZ",
    "outputId": "6718c8bb-2596-4997-c1e2-40951b74b365"
   },
   "outputs": [],
   "source": [
    "import warnings\n",
    "\n",
    "warnings.filterwarnings('ignore')\n",
    "\n",
    "import matplotlib.pyplot as plt\n",
    "import numpy as np\n",
    "import torch\n",
    "import torch.nn as nn\n",
    "import torch.nn.functional as F\n",
    "import torch.optim as optim\n",
    "import torchvision\n",
    "import torchvision.transforms as transforms\n",
    "\n",
    "import flash\n",
    "import pytorch_lightning as pl\n"
   ]
  },
  {
   "cell_type": "code",
   "execution_count": null,
   "metadata": {
    "id": "-dt51GVvWtIf"
   },
   "outputs": [],
   "source": [
    "transform = transforms.Compose([\n",
    "    transforms.ToTensor(),\n",
    "    transforms.Normalize((0.5, 0.5, 0.5), (0.5, 0.5, 0.5))\n",
    "])\n"
   ]
  },
  {
   "cell_type": "code",
   "execution_count": null,
   "metadata": {
    "id": "cp7hcvzMWusX"
   },
   "outputs": [],
   "source": [
    "classes = ('plane', 'car', 'bird', 'cat', 'deer', 'dog', 'frog', 'horse',\n",
    "           'ship', 'truck')"
   ]
  },
  {
   "cell_type": "code",
   "execution_count": null,
   "metadata": {
    "id": "eFh80LqlWxAP"
   },
   "outputs": [],
   "source": [
    "class CIFARDataModule(pl.LightningDataModule):\n",
    "\n",
    "    def __init__(self, batch_size: int = 64):\n",
    "        super().__init__()\n",
    "        self.batch_size = batch_size\n",
    "        \n",
    "        self.train_data = torchvision.datasets.CIFAR10(\n",
    "            '/Users/aniket/datasets/', download=True, transform=transform)\n",
    "\n",
    "        self.val_data = torchvision.datasets.CIFAR10('/Users/aniket/datasets/',\n",
    "                                                     train=False,\n",
    "                                                     download=True,\n",
    "                                                     transform=transform)\n",
    "        \n",
    "\n",
    "    def train_dataloader(self):\n",
    "        return torch.utils.data.DataLoader(self.train_data,\n",
    "                                           batch_size=self.batch_size,\n",
    "                                           shuffle=True)\n",
    "\n",
    "    def val_dataloader(self):\n",
    "        return torch.utils.data.DataLoader(self.val_data,\n",
    "                                           batch_size=self.batch_size,\n",
    "                                           shuffle=False)\n",
    "\n",
    "    def on_after_batch_transfer(self, batch, dataloader_idx):\n",
    "        data = {'input': batch[0], 'target': batch[1]}\n",
    "        return data"
   ]
  },
  {
   "cell_type": "code",
   "execution_count": null,
   "metadata": {
    "id": "sGSO7ge1WyEH"
   },
   "outputs": [],
   "source": [
    "from flash import Trainer\n",
    "from flash.image import ImageClassifier"
   ]
  },
  {
   "cell_type": "code",
   "execution_count": null,
   "metadata": {
    "id": "2H7y_IxeW0cP"
   },
   "outputs": [],
   "source": [
    "num_classes = 10\n",
    "backbone = 'resnet18'"
   ]
  },
  {
   "cell_type": "code",
   "execution_count": null,
   "metadata": {
    "id": "XcgOluo4W5k_"
   },
   "outputs": [],
   "source": []
  },
  {
   "cell_type": "code",
   "execution_count": null,
   "metadata": {
    "id": "9s5IteWAW0tO"
   },
   "outputs": [],
   "source": [
    "model = ImageClassifier(num_classes, backbone)"
   ]
  },
  {
   "cell_type": "code",
   "execution_count": null,
   "metadata": {
    "colab": {
     "base_uri": "https://localhost:8080/"
    },
    "id": "nguE6WPgW1ho",
    "outputId": "ff9b1eff-05f0-430d-f565-2052811c7720"
   },
   "outputs": [],
   "source": [
    "trainer = flash.Trainer(max_epochs=5, gpus=1)"
   ]
  },
  {
   "cell_type": "code",
   "execution_count": null,
   "metadata": {
    "colab": {
     "base_uri": "https://localhost:8080/"
    },
    "id": "RtFnu3X7ch_Q",
    "outputId": "c0565817-1003-4f3d-a79e-eaa2640163a2"
   },
   "outputs": [],
   "source": [
    "cifar_dm = CIFARDataModule(batch_size=64)"
   ]
  },
  {
   "cell_type": "code",
   "execution_count": null,
   "metadata": {
    "id": "2AyMMNTkc3X2"
   },
   "outputs": [],
   "source": []
  },
  {
   "cell_type": "code",
   "execution_count": null,
   "metadata": {
    "colab": {
     "base_uri": "https://localhost:8080/",
     "height": 418,
     "referenced_widgets": [
      "b2c2e4401d9c48a8bcc5be6cc084beee",
      "aa46152581e94c8fb9828e2dd375ce28",
      "cb8d955beccb4d4380d229089e75af45",
      "fba2595772524f43b15d6a157c1c6acd",
      "acbc39b9db5a4249badc16d9e67bc052",
      "2feb7fd535d242ceb90cc21607b8dedf",
      "f984bd8105db4dc0b7bc80051fea51c3",
      "472097354f234962ace9907e57d2d7e3",
      "75194d52daf64e3facd61c3e7ed4c300",
      "e112b6fec3314a6eb5b9afd072aac3ba",
      "3678776741bb4fd9bff92d9733551bf3",
      "41ea4bb6e24a4c9ca1ff8e0da42efdc2",
      "a5e574cba0a04b78b50f70dc0ff74aa1",
      "b35b7bd98bdc4549bc7aea6d52f1ef34",
      "0ff3f68074a34469b28e19bab7352a92",
      "7ea0b3bd6bc7424582d2009b93d0abf2",
      "adafa2a753a842e4acc1e01722cca254",
      "5b3ef94e71924ea7a68e871d30d8e70f",
      "8d536c700c39403bafab9b995de75e8d",
      "79c877d8e9fa457484486163862b5d6f",
      "e36d9fd4d1264ea587ecae7ef79bc59a",
      "279a66a605234638aa584bf532046de0",
      "a88efdb7c8544fe9af1113c13a572045",
      "122c0a81ad9d4923bcb5935dee03bb8c",
      "67ccd092cd0b498d9b68a6212dfdcfba",
      "534b04e424584f70baedfd1a76db003a",
      "5ffd124f2498407ebb2a2490411ad6e1",
      "0b3bd64c157b4197bc0a16417dd3bf48",
      "79a8e7bf5fc545c29586a89195eb52b4",
      "995fd2b6945b4cdd85741fc179d9ef29",
      "12ba6082bd49409aabd0969aa51d36a7",
      "9bb5914cccc5452687987385089fcd48",
      "07558150dc1e486e9f77d48ebc15216c",
      "427d4ab281ea4b95a266f2abf5646218",
      "329ff2698e9f43b1844824de40bf6734",
      "476ba0836d544f16b02d0f86e9212d1c",
      "5fe060c886524cefa5959a7e6bcb2b1c",
      "5123fa4991d5434898a1b9d27c914aea",
      "d23d39553e2e439bafe2c76ef6c1a492",
      "75c637a2b02f4b5bb6a1b2723f93f2bc",
      "b9aa3ef54c174a5a84c6c2fa3e7a085d",
      "3eb7be6d30684e70b93dd6f98f2a497b",
      "58ffcdf828fa473aae5c4869713e2465",
      "4be3da0eaa504798827572c2e52962e6",
      "48b56ccc857f487f83b8883cc45e4776",
      "f6d6ffca7902422f87d7eb7da4263b71",
      "128d2514a105411d9686078d7b9fb98a",
      "5273cca5e0514679bf720109d2707009",
      "1a37a6b50fa24c9a93e26fd00a8a961b",
      "13e9cb58d90946708e6ba2597d99c325",
      "e3088941461b4ab89fd28318ec59bdae",
      "90fa86c8cba646c9a296fa16ecde444b",
      "7d9370ecae234e4b9b03243e46e56ebb",
      "b6b02e16981c4e078ac2f88cb38c418f",
      "fa5125fe0ef243d29900d3727efdc65c",
      "04351f6a8fc44178910c55ef019fcdaa"
     ]
    },
    "id": "nPwYG6iMW3Sg",
    "outputId": "b18e2fc2-2230-4c9b-a39e-4eec116ec0ed"
   },
   "outputs": [],
   "source": [
    "trainer.fit(model, datamodule=cifar_dm)"
   ]
  },
  {
   "cell_type": "code",
   "execution_count": null,
   "metadata": {
    "id": "0EtUj_c6W7j4"
   },
   "outputs": [],
   "source": [
    "data = next(iter(cifar_dm.train_dataloader()))"
   ]
  },
  {
   "cell_type": "code",
   "execution_count": null,
   "metadata": {
    "colab": {
     "base_uri": "https://localhost:8080/",
     "height": 155
    },
    "id": "h0F_q_WOY1AO",
    "outputId": "05003671-5992-4d18-dc8f-d57c1f2f98b7"
   },
   "outputs": [],
   "source": [
    "# functions to show an image\n",
    "def imshow(img):\n",
    "    img = img / 2 + 0.5  # unnormalize\n",
    "    npimg = img.numpy()\n",
    "    plt.imshow(np.transpose(npimg, (1, 2, 0)))\n",
    "    plt.show()\n",
    "\n",
    "batch_size = 4\n",
    "images, labels = data[0][:batch_size], data[1][:batch_size]\n",
    "\n",
    "\n",
    "# show images\n",
    "imshow(torchvision.utils.make_grid(images))\n",
    "# print labels\n",
    "print(' '.join('%5s' % classes[labels[j]] for j in range(batch_size)))"
   ]
  },
  {
   "cell_type": "code",
   "execution_count": null,
   "metadata": {
    "colab": {
     "base_uri": "https://localhost:8080/"
    },
    "id": "y4Ppf8ahbdug",
    "outputId": "e4997eed-c6b8-42ab-bb93-26213c2d147b"
   },
   "outputs": [],
   "source": [
    "labels"
   ]
  },
  {
   "cell_type": "code",
   "execution_count": null,
   "metadata": {
    "colab": {
     "base_uri": "https://localhost:8080/"
    },
    "id": "X4m8OiDxaR3B",
    "outputId": "12e5bb85-4478-4f62-d9d6-ccedcd73e3bb"
   },
   "outputs": [],
   "source": [
    "torch.argmax(torch.nn.Softmax()(model(images)), 1)"
   ]
  },
  {
   "cell_type": "code",
   "execution_count": null,
   "metadata": {
    "id": "ic9DQ3mMafBE"
   },
   "outputs": [],
   "source": []
  },
  {
   "cell_type": "code",
   "execution_count": null,
   "metadata": {
    "id": "EnReATJ1atiL"
   },
   "outputs": [],
   "source": []
  },
  {
   "cell_type": "code",
   "execution_count": null,
   "metadata": {
    "id": "yMFT_AOVa0_s"
   },
   "outputs": [],
   "source": []
  }
 ],
 "metadata": {
  "accelerator": "GPU",
  "colab": {
   "collapsed_sections": [],
   "name": "02 flash-intro.ipynb",
   "provenance": []
  },
  "kernelspec": {
   "display_name": "Python 3",
   "name": "python3"
  },
  "language_info": {
   "name": "python"
  }
 },
 "nbformat": 4,
 "nbformat_minor": 0
}
