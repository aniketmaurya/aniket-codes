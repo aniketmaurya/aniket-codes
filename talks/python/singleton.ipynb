{
 "cells": [
  {
   "cell_type": "code",
   "execution_count": null,
   "id": "fb7d5c17-4113-46b5-86dc-24b31f060738",
   "metadata": {},
   "outputs": [],
   "source": [
    "class Foo:\n",
    "    attr = None\n",
    "    def __init__(self):\n",
    "        if self.attr is None:\n",
    "            self.attr = 0\n",
    "        else:\n",
    "            self.attr += 1\n",
    "        print(self.attr)\n",
    "        "
   ]
  },
  {
   "cell_type": "code",
   "execution_count": null,
   "id": "93e36966-7d80-41da-a850-947682f0d573",
   "metadata": {},
   "outputs": [],
   "source": []
  },
  {
   "cell_type": "code",
   "execution_count": null,
   "id": "971a384b-eeec-430f-9fc3-f65c82a9eb20",
   "metadata": {},
   "outputs": [],
   "source": []
  },
  {
   "cell_type": "code",
   "execution_count": null,
   "id": "a40dc730-c54f-4419-a5e4-0593c3ce2166",
   "metadata": {},
   "outputs": [],
   "source": [
    "from threading import Lock, Thread"
   ]
  },
  {
   "cell_type": "code",
   "execution_count": null,
   "id": "5c865a97-af89-42ca-921f-6301bc3e5d1f",
   "metadata": {},
   "outputs": [],
   "source": [
    "class SingletonMeta(type):\n",
    "    \"\"\"\n",
    "    The Singleton class can be implemented in different ways in Python. Some\n",
    "    possible methods include: base class, decorator, metaclass. We will use the\n",
    "    metaclass because it is best suited for this purpose.\n",
    "    \"\"\"\n",
    "\n",
    "    _instances = {}\n",
    "    _lock: Lock = Lock()\n",
    "\n",
    "\n",
    "    def __call__(cls, *args, **kwargs):\n",
    "        with cls._lock:\n",
    "            if cls not in cls._instances:\n",
    "                instance = super().__call__(*args, **kwargs)\n",
    "                cls._instances[cls] = instance\n",
    "        return cls._instances[cls]\n",
    "\n",
    "\n",
    "class Bar(metaclass=SingletonMeta):\n",
    "    a = 1\n",
    "    def __init__(self):\n",
    "        print(\"hello\")"
   ]
  },
  {
   "cell_type": "code",
   "execution_count": null,
   "id": "dc2646f4-f183-4aac-a114-e8bb88718902",
   "metadata": {},
   "outputs": [],
   "source": [
    "s = Bar()"
   ]
  },
  {
   "cell_type": "code",
   "execution_count": null,
   "id": "d4eb2d97-e990-41df-8a7b-d896e43eea51",
   "metadata": {},
   "outputs": [],
   "source": [
    "s1 = Bar()"
   ]
  },
  {
   "cell_type": "code",
   "execution_count": null,
   "id": "5b4b8c89-0bfe-4189-afbd-534ff2e042a8",
   "metadata": {},
   "outputs": [],
   "source": [
    "s.a = 10"
   ]
  },
  {
   "cell_type": "code",
   "execution_count": null,
   "id": "32e704ca-a3e8-43ca-acf7-cbc8f747a104",
   "metadata": {},
   "outputs": [],
   "source": [
    "s1.a"
   ]
  },
  {
   "cell_type": "code",
   "execution_count": null,
   "id": "1124aed9-6617-4ba8-9a3c-9e3a349b74d1",
   "metadata": {},
   "outputs": [],
   "source": []
  },
  {
   "cell_type": "code",
   "execution_count": null,
   "id": "1c7ff239-c1bd-4dd2-9654-53a3a84188a0",
   "metadata": {},
   "outputs": [],
   "source": []
  },
  {
   "cell_type": "code",
   "execution_count": null,
   "id": "16acb00b-ef9d-418b-9d4e-a376dd8221dc",
   "metadata": {},
   "outputs": [],
   "source": []
  }
 ],
 "metadata": {
  "kernelspec": {
   "display_name": "Python 3 (ipykernel)",
   "language": "python",
   "name": "python3"
  },
  "language_info": {
   "codemirror_mode": {
    "name": "ipython",
    "version": 3
   },
   "file_extension": ".py",
   "mimetype": "text/x-python",
   "name": "python",
   "nbconvert_exporter": "python",
   "pygments_lexer": "ipython3",
   "version": "3.11.4"
  }
 },
 "nbformat": 4,
 "nbformat_minor": 5
}
