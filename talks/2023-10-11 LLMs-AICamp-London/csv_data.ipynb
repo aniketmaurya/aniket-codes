{
 "cells": [
  {
   "cell_type": "code",
   "execution_count": null,
   "id": "34629a12-7ea8-4a28-9c60-5f0a7cb11069",
   "metadata": {},
   "outputs": [],
   "source": [
    "# https://huggingface.co/datasets/databricks/databricks-dolly-15k/blob/main/databricks-dolly-15k.jsonl"
   ]
  },
  {
   "cell_type": "code",
   "execution_count": null,
   "id": "9e9565a7-a090-4561-8d62-b50b3bf7f193",
   "metadata": {},
   "outputs": [],
   "source": [
    "from pathlib import Path\n",
    "import requests\n",
    "import json"
   ]
  },
  {
   "cell_type": "code",
   "execution_count": null,
   "id": "60459c9b-fff8-4c30-9c8b-a9d5d706111c",
   "metadata": {},
   "outputs": [],
   "source": [
    "def download_if_missing(file_path: Path, file_url: str):\n",
    "    \"\"\"Downloads the raw json data file and saves it in the given destination.\"\"\"\n",
    "    if file_path.exists():\n",
    "        return\n",
    "    with open(file_path, \"w\", encoding=\"utf-8\") as f:\n",
    "        f.write(requests.get(file_url).text)"
   ]
  },
  {
   "cell_type": "code",
   "execution_count": null,
   "id": "e725137c-ef6e-4762-b6f4-17e7a8317af9",
   "metadata": {},
   "outputs": [],
   "source": [
    "destination_path = Path(\"data/dolly\")\n",
    "data_file_name: str = \"dolly_data_cleaned.json\"\n",
    "data_file_path = destination_path / data_file_name\n",
    "data_file_url = \"https://huggingface.co/datasets/databricks/databricks-dolly-15k/resolve/main/databricks-dolly-15k.jsonl\"\n",
    "download_if_missing(data_file_path, data_file_url)"
   ]
  },
  {
   "cell_type": "code",
   "execution_count": null,
   "id": "dd5b3004-47b0-40a0-b0cc-5ff62ce6283e",
   "metadata": {},
   "outputs": [],
   "source": [
    "with open(data_file_path, \"r\", encoding=\"utf-8\") as file:\n",
    "    data = file.readlines()\n",
    "    data = [json.loads(line) for line in data]\n",
    "for item in data:\n",
    "    item[\"input\"] = item.pop(\"context\")\n",
    "    item[\"output\"] = item.pop(\"response\")"
   ]
  },
  {
   "cell_type": "code",
   "execution_count": null,
   "id": "29f1dcf9-a41c-4e39-b43d-bbce2fdda392",
   "metadata": {},
   "outputs": [],
   "source": [
    "import pandas as pd"
   ]
  },
  {
   "cell_type": "code",
   "execution_count": null,
   "id": "af745e7f-0831-4335-bbac-08d309275924",
   "metadata": {},
   "outputs": [],
   "source": [
    "df = pd.DataFrame(data)\n",
    "df.head()"
   ]
  },
  {
   "cell_type": "code",
   "execution_count": null,
   "id": "7ef132d0-cd51-46d2-afc3-d5e3a3110a73",
   "metadata": {},
   "outputs": [],
   "source": [
    "df.to_csv(\"data/dolly.csv\", index=False)"
   ]
  },
  {
   "cell_type": "code",
   "execution_count": null,
   "id": "5771efae-ed7e-47cd-8ea4-de0161532690",
   "metadata": {},
   "outputs": [],
   "source": [
    "new_df = pd.read_csv(\"https://gist.githubusercontent.com/aniketmaurya/b8e5bd3f1594bd31ed34375ed916f075/raw/b831e5ab054ac6c94a4a409d32be14b6fdcad82a/databricks-dolly-15k.csv\")"
   ]
  },
  {
   "cell_type": "code",
   "execution_count": null,
   "id": "ba977a8f-a482-4ed2-a3ca-e3169fab992d",
   "metadata": {},
   "outputs": [],
   "source": []
  }
 ],
 "metadata": {
  "kernelspec": {
   "display_name": "Python 3 (ipykernel)",
   "language": "python",
   "name": "python3"
  },
  "language_info": {
   "codemirror_mode": {
    "name": "ipython",
    "version": 3
   },
   "file_extension": ".py",
   "mimetype": "text/x-python",
   "name": "python",
   "nbconvert_exporter": "python",
   "pygments_lexer": "ipython3",
   "version": "3.11.4"
  }
 },
 "nbformat": 4,
 "nbformat_minor": 5
}
