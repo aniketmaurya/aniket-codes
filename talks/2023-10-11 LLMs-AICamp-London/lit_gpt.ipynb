{
 "cells": [
  {
   "cell_type": "code",
   "execution_count": null,
   "metadata": {},
   "outputs": [],
   "source": [
    "%cd lit-gpt"
   ]
  },
  {
   "cell_type": "code",
   "execution_count": null,
   "metadata": {},
   "outputs": [],
   "source": [
    "# !wget https://gist.githubusercontent.com/aniketmaurya/b8e5bd3f1594bd31ed34375ed916f075/raw/b831e5ab054ac6c94a4a409d32be14b6fdcad82a/databricks-dolly-15k.csv\n",
    "# !mv databricks-dolly-15k.csv /data/aniket/datasets/databricks-dolly-15k.csv"
   ]
  },
  {
   "cell_type": "code",
   "execution_count": null,
   "metadata": {},
   "outputs": [],
   "source": [
    "import pandas as pd\n",
    "\n",
    "df = pd.read_csv(\"/data/aniket/datasets/databricks-dolly-15k.csv\")"
   ]
  },
  {
   "cell_type": "code",
   "execution_count": null,
   "metadata": {},
   "outputs": [],
   "source": [
    "df.head()"
   ]
  },
  {
   "cell_type": "code",
   "execution_count": null,
   "metadata": {},
   "outputs": [],
   "source": [
    "COLUMNS = [\"instruction\", \"input\", \"output\"]\n",
    "df[COLUMNS].to_csv(\"databricks-dolly-15k.csv\", index=False)"
   ]
  },
  {
   "cell_type": "code",
   "execution_count": null,
   "metadata": {},
   "outputs": [],
   "source": [
    "!python scripts/prepare_csv.py \\\n",
    "    --csv_path \"databricks-dolly-15k.csv\" \\\n",
    "    --checkpoint_dir \"/data/aniket/Llama-2-7b-hf\" \\\n",
    "    --destination_path \"data/dolly\" \\\n",
    "    --max_seq_length 512"
   ]
  },
  {
   "cell_type": "code",
   "execution_count": null,
   "metadata": {},
   "outputs": [],
   "source": [
    "!python finetune/lora.py \\\n",
    "    --checkpoint_dir \"/data/aniket/Llama-2-7b-hf\" \\\n",
    "    --data_dir \"data/dolly\" \\\n",
    "    --out_dir \"out/lora/dolly\""
   ]
  },
  {
   "cell_type": "code",
   "execution_count": null,
   "metadata": {},
   "outputs": [],
   "source": [
    "!python finetune/lora.py \\\n",
    "    --checkpoint_dir \"/data/aniket/Llama-2-7b-hf\" \\\n",
    "    --data_dir \"data/dolly\" \\\n",
    "    --out_dir \"out/lora/dolly\" \\\n",
    "    --precision bf16-true"
   ]
  },
  {
   "cell_type": "code",
   "execution_count": null,
   "metadata": {},
   "outputs": [],
   "source": [
    "!python finetune/lora.py \\\n",
    "    --checkpoint_dir \"/data/aniket/Llama-2-7b-hf\" \\\n",
    "    --data_dir \"data/dolly\" \\\n",
    "    --out_dir \"out/lora/dolly\" \\\n",
    "    --precision bf16-true \\\n",
    "    --quantize bnb.fp4 "
   ]
  },
  {
   "cell_type": "code",
   "execution_count": null,
   "metadata": {},
   "outputs": [],
   "source": [
    "!python scripts/merge_lora.py \\\n",
    "    --checkpoint_dir \"/data/aniket/Llama-2-7b-hf\" \\\n",
    "    --lora_path \"out/dolly/Llama-2-7b-hf/lit_model_lora_finetuned.pth\" \\\n",
    "    --out_dir \"out/dolly/Llama-2-7b-hf/\"\n",
    "\n",
    "\n",
    "!python eval/lm_eval_harness.py \\\n",
    "    --checkpoint_dir \"/data/aniket/Llama-2-7b-hf\" \\\n",
    "    --eval_tasks \"[truthfulqa_mc]\" \\\n",
    "    --precision \"bf16-true\" \\\n",
    "    --batch_size 4 \\\n",
    "    --save_filepath \"results.json\""
   ]
  },
  {
   "cell_type": "code",
   "execution_count": null,
   "metadata": {},
   "outputs": [],
   "source": []
  }
 ],
 "metadata": {
  "kernelspec": {
   "display_name": "am",
   "language": "python",
   "name": "python3"
  },
  "language_info": {
   "codemirror_mode": {
    "name": "ipython",
    "version": 3
   },
   "file_extension": ".py",
   "mimetype": "text/x-python",
   "name": "python",
   "nbconvert_exporter": "python",
   "pygments_lexer": "ipython3",
   "version": "3.10.12"
  },
  "orig_nbformat": 4
 },
 "nbformat": 4,
 "nbformat_minor": 2
}
