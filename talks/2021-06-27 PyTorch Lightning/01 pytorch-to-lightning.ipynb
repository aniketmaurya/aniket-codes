{
 "cells": [
  {
   "cell_type": "markdown",
   "id": "6e6323b2",
   "metadata": {
    "colab_type": "text",
    "id": "view-in-github"
   },
   "source": [
    "<a href=\"https://colab.research.google.com/github/aniketmaurya/talks/blob/main/2021-06-27%20PyTorch%20Lightning/01%20pytorch-to-lightning.ipynb\" target=\"_parent\"><img src=\"https://colab.research.google.com/assets/colab-badge.svg\" alt=\"Open In Colab\"/></a>"
   ]
  },
  {
   "cell_type": "markdown",
   "id": "5b1dcf00-a529-4893-8cbf-c0f0aa44d2c2",
   "metadata": {
    "id": "5b1dcf00-a529-4893-8cbf-c0f0aa44d2c2"
   },
   "source": [
    "# PyTorch --> PyTorch Lightning\n",
    "\n",
    "## Image Classification with PyTorch"
   ]
  },
  {
   "cell_type": "code",
   "execution_count": null,
   "id": "B44fNrrmcXJq",
   "metadata": {
    "id": "B44fNrrmcXJq"
   },
   "outputs": [],
   "source": [
    "# !pip install -U pytorch-lightning -q"
   ]
  },
  {
   "cell_type": "code",
   "execution_count": null,
   "id": "d4cfb45a-6e35-4969-9f42-1bedab5ef52a",
   "metadata": {
    "id": "d4cfb45a-6e35-4969-9f42-1bedab5ef52a"
   },
   "outputs": [],
   "source": [
    "import warnings\n",
    "\n",
    "warnings.filterwarnings('ignore')"
   ]
  },
  {
   "cell_type": "code",
   "execution_count": null,
   "id": "6ec358d1-cf3b-4a31-9b72-62d780ed97ca",
   "metadata": {
    "id": "6ec358d1-cf3b-4a31-9b72-62d780ed97ca"
   },
   "outputs": [],
   "source": [
    "import matplotlib.pyplot as plt\n",
    "import numpy as np\n",
    "import torch\n",
    "import torch.nn as nn\n",
    "import torch.nn.functional as F\n",
    "import torch.optim as optim\n",
    "import torchvision\n",
    "import torchvision.transforms as transforms"
   ]
  },
  {
   "cell_type": "code",
   "execution_count": null,
   "id": "90b28758-075a-42db-8181-9c5fc846590d",
   "metadata": {
    "id": "90b28758-075a-42db-8181-9c5fc846590d"
   },
   "outputs": [],
   "source": [
    "transform = transforms.Compose([\n",
    "    transforms.ToTensor(),\n",
    "    transforms.Normalize((0.5, 0.5, 0.5), (0.5, 0.5, 0.5))\n",
    "])\n",
    "\n",
    "batch_size = 4"
   ]
  },
  {
   "cell_type": "code",
   "execution_count": null,
   "id": "ae0afb1b-4f8c-4df1-b611-8b469ab7b66f",
   "metadata": {
    "colab": {
     "base_uri": "https://localhost:8080/",
     "height": 118,
     "referenced_widgets": [
      "c7e98f9a44b84c0cb93b84fe9b28771b",
      "a2e285425631470897a3aa1a1c909855",
      "32efef9b515f4b5ea01382f09e19ec94",
      "672bc76635714e4ead6b260c539ecce0",
      "288d370c4f2244ed8f577a061ee4131b",
      "6572e75184394a6faa0867f32a34b414",
      "b1e39d3364044730a440ecbfd1791b1c",
      "9107e740843b4724912f11709cacf5c9"
     ]
    },
    "id": "ae0afb1b-4f8c-4df1-b611-8b469ab7b66f",
    "outputId": "30f4d0d2-5051-4c93-d971-4015a329bd0b"
   },
   "outputs": [],
   "source": [
    "train_data = torchvision.datasets.CIFAR10('/Users/aniket/datasets/',\n",
    "                                          download=True,\n",
    "                                          transform=transform)\n",
    "\n",
    "val_data = torchvision.datasets.CIFAR10('/Users/aniket/datasets/',\n",
    "                                        train=False,\n",
    "                                        download=True,\n",
    "                                        transform=transform)\n",
    "\n",
    "trainloader = torch.utils.data.DataLoader(train_data,\n",
    "                                          batch_size=batch_size,\n",
    "                                          shuffle=True)\n",
    "\n",
    "valloader = torch.utils.data.DataLoader(val_data,\n",
    "                                        batch_size=batch_size,\n",
    "                                        shuffle=False)\n",
    "\n",
    "classes = ('plane', 'car', 'bird', 'cat', 'deer', 'dog', 'frog', 'horse',\n",
    "           'ship', 'truck')"
   ]
  },
  {
   "cell_type": "code",
   "execution_count": null,
   "id": "2a70800b-58aa-4366-96bd-5976620a82f7",
   "metadata": {
    "id": "2a70800b-58aa-4366-96bd-5976620a82f7"
   },
   "outputs": [],
   "source": []
  },
  {
   "cell_type": "code",
   "execution_count": null,
   "id": "73dc3e33-6715-4a03-93f0-837fabad8e9a",
   "metadata": {
    "colab": {
     "base_uri": "https://localhost:8080/",
     "height": 155
    },
    "id": "73dc3e33-6715-4a03-93f0-837fabad8e9a",
    "outputId": "d67721aa-d439-44ed-f873-6abbbfc09f72"
   },
   "outputs": [],
   "source": [
    "# functions to show an image\n",
    "def imshow(img):\n",
    "    img = img / 2 + 0.5  # unnormalize\n",
    "    npimg = img.numpy()\n",
    "    plt.imshow(np.transpose(npimg, (1, 2, 0)))\n",
    "    plt.show()\n",
    "\n",
    "\n",
    "# get some random training images\n",
    "dataiter = iter(trainloader)\n",
    "images, labels = dataiter.next()\n",
    "\n",
    "# show images\n",
    "imshow(torchvision.utils.make_grid(images))\n",
    "# print labels\n",
    "print(' '.join('%5s' % classes[labels[j]] for j in range(batch_size)))"
   ]
  },
  {
   "cell_type": "markdown",
   "id": "0f3ad9ed-37c1-47c7-803c-bd24a30aab7b",
   "metadata": {
    "id": "0f3ad9ed-37c1-47c7-803c-bd24a30aab7b"
   },
   "source": [
    "## Load Model"
   ]
  },
  {
   "cell_type": "code",
   "execution_count": null,
   "id": "9f285a08-695d-4a05-b983-e4813f56ef2a",
   "metadata": {
    "id": "9f285a08-695d-4a05-b983-e4813f56ef2a"
   },
   "outputs": [],
   "source": [
    "class Net(nn.Module):\n",
    "\n",
    "    def __init__(self):\n",
    "        super().__init__()\n",
    "        self.conv1 = nn.Conv2d(3, 6, 5)\n",
    "        self.pool = nn.MaxPool2d(2, 2)\n",
    "        self.conv2 = nn.Conv2d(6, 16, 5)\n",
    "        self.fc1 = nn.Linear(16 * 5 * 5, 120)\n",
    "        self.fc2 = nn.Linear(120, 84)\n",
    "        self.fc3 = nn.Linear(84, 10)\n",
    "\n",
    "    def forward(self, x):\n",
    "        x = self.pool(F.relu(self.conv1(x)))\n",
    "        x = self.pool(F.relu(self.conv2(x)))\n",
    "        x = torch.flatten(x, 1)  # flatten all dimensions except batch\n",
    "        x = F.relu(self.fc1(x))\n",
    "        x = F.relu(self.fc2(x))\n",
    "        x = self.fc3(x)\n",
    "        return x\n",
    "\n",
    "\n",
    "net = Net()"
   ]
  },
  {
   "cell_type": "markdown",
   "id": "c913ef3c-ad54-4c19-8eb2-a62aa5b88678",
   "metadata": {
    "id": "c913ef3c-ad54-4c19-8eb2-a62aa5b88678"
   },
   "source": [
    "## Define Loss & Optimizer"
   ]
  },
  {
   "cell_type": "code",
   "execution_count": null,
   "id": "3600c65c-728b-4ec7-b279-237b0546b319",
   "metadata": {
    "id": "3600c65c-728b-4ec7-b279-237b0546b319"
   },
   "outputs": [],
   "source": [
    "criterion = nn.CrossEntropyLoss()\n",
    "optimizer = optim.Adam(net.parameters(), lr=0.001)"
   ]
  },
  {
   "cell_type": "code",
   "execution_count": null,
   "id": "7eb53d97-c6b1-4fab-a752-9945df5389ea",
   "metadata": {
    "id": "7eb53d97-c6b1-4fab-a752-9945df5389ea"
   },
   "outputs": [],
   "source": [
    "NUM_EPOCHS = 1"
   ]
  },
  {
   "cell_type": "markdown",
   "id": "515f9b9d-b865-4cb2-bfd4-219518bb1b26",
   "metadata": {
    "id": "515f9b9d-b865-4cb2-bfd4-219518bb1b26"
   },
   "source": [
    "## Training Step"
   ]
  },
  {
   "cell_type": "code",
   "execution_count": null,
   "id": "0b2d9bae-8d13-4715-90d5-7e18506f66f3",
   "metadata": {
    "id": "0b2d9bae-8d13-4715-90d5-7e18506f66f3"
   },
   "outputs": [],
   "source": [
    "# Calculate loss\n",
    "def train_step(model, data):\n",
    "    inputs, labels = data\n",
    "\n",
    "    y_pred = net(inputs)\n",
    "    loss = criterion(y_pred, labels)\n",
    "    return loss"
   ]
  },
  {
   "cell_type": "markdown",
   "id": "08c9d665-8523-4aee-a6b8-eebe6f172184",
   "metadata": {
    "id": "08c9d665-8523-4aee-a6b8-eebe6f172184"
   },
   "source": [
    "# Training Loop "
   ]
  },
  {
   "cell_type": "code",
   "execution_count": null,
   "id": "2d02a81d-7823-435d-a8b5-8bd180bab995",
   "metadata": {
    "colab": {
     "base_uri": "https://localhost:8080/"
    },
    "id": "2d02a81d-7823-435d-a8b5-8bd180bab995",
    "outputId": "f9f33315-6351-4b38-f095-399f717636e3"
   },
   "outputs": [],
   "source": [
    "for epoch in range(NUM_EPOCHS):  # loop over the dataset multiple times\n",
    "\n",
    "    running_loss = 0.0\n",
    "    for i, data in enumerate(trainloader):\n",
    "\n",
    "        # zero the parameter gradients\n",
    "        optimizer.zero_grad()\n",
    "\n",
    "        loss = train_step(net, data)\n",
    "\n",
    "        loss.backward()\n",
    "        optimizer.step()\n",
    "\n",
    "        # print statistics\n",
    "        running_loss += loss.item()\n",
    "        if i % 2000 == 1999:  # print every 2000 mini-batches\n",
    "            print('[%d, %5d] loss: %.3f' %\n",
    "                  (epoch + 1, i + 1, running_loss / 2000))\n",
    "            running_loss = 0.0\n",
    "\n",
    "print('Finished Training')"
   ]
  },
  {
   "cell_type": "markdown",
   "id": "0b028d51-7431-48ff-a87c-4553a6c10f81",
   "metadata": {
    "id": "0b028d51-7431-48ff-a87c-4553a6c10f81"
   },
   "source": [
    "https://pytorch.org/tutorials/intermediate/tensorboard_tutorial.html"
   ]
  },
  {
   "cell_type": "markdown",
   "id": "325c1c89-482c-4895-9a37-2bfb2e27ef2b",
   "metadata": {
    "id": "325c1c89-482c-4895-9a37-2bfb2e27ef2b",
    "tags": []
   },
   "source": [
    "# ⚡️ PyTorch Lightning \n",
    "\n",
    "## Lightning Design Philosophy\n",
    "\n",
    "![Design Phil](https://camo.githubusercontent.com/a3dda9b3053f7093ac1ccc30b41c0f367b171010770252528c30551a2407cad5/68747470733a2f2f706c2d626f6c74732d646f632d696d616765732e73332e75732d656173742d322e616d617a6f6e6177732e636f6d2f7068696c6f736f70686965732e6a7067)"
   ]
  },
  {
   "cell_type": "code",
   "execution_count": null,
   "id": "0eb682f0-98e3-4f0f-ac3c-62b22d85ef5e",
   "metadata": {
    "colab": {
     "base_uri": "https://localhost:8080/"
    },
    "id": "0eb682f0-98e3-4f0f-ac3c-62b22d85ef5e",
    "outputId": "7bfdc279-eaa8-46b6-9569-b06d89d417d9"
   },
   "outputs": [],
   "source": [
    "import pytorch_lightning as pl"
   ]
  },
  {
   "cell_type": "code",
   "execution_count": null,
   "id": "6aa04b4a-3a55-4ab3-a95c-dd95538c5659",
   "metadata": {
    "id": "6aa04b4a-3a55-4ab3-a95c-dd95538c5659"
   },
   "outputs": [],
   "source": [
    "class LitModel(pl.LightningModule):\n",
    "\n",
    "    def __init__(self, lr, input_size=None):\n",
    "        super().__init__()\n",
    "        self.save_hyperparameters()\n",
    "        self.model = Net()\n",
    "\n",
    "    def forward(self, x):\n",
    "        return self.model(x)\n",
    "\n",
    "    def training_step(self, batch, batch_idx):\n",
    "        inputs, labels = batch\n",
    "        y_pred = self(inputs)\n",
    "        loss = criterion(y_pred, labels)\n",
    "        \n",
    "        self.log('train_loss', loss)\n",
    "        return loss\n",
    "\n",
    "    def validation_step(self, batch, batch_idx):\n",
    "        inputs, labels = batch\n",
    "        y_pred = self(inputs)\n",
    "        loss = criterion(y_pred, labels)\n",
    "        \n",
    "        self.log('val_loss', loss)\n",
    "        return loss\n",
    "\n",
    "    def configure_optimizers(self):\n",
    "        optimizer = torch.optim.Adam(self.parameters(), lr=self.hparams['lr'])\n",
    "        return optimizer"
   ]
  },
  {
   "cell_type": "code",
   "execution_count": null,
   "id": "50256b0a-83a6-4ee3-8574-21a4bd52df32",
   "metadata": {
    "colab": {
     "base_uri": "https://localhost:8080/"
    },
    "id": "50256b0a-83a6-4ee3-8574-21a4bd52df32",
    "outputId": "b3fafee0-3133-4298-9f24-eaa11c26cd7c"
   },
   "outputs": [],
   "source": [
    "class CIFARDataModule(pl.LightningDataModule):\n",
    "\n",
    "    def __init__(self, batch_size: int = 64):\n",
    "        super().__init__()\n",
    "        self.batch_size = batch_size\n",
    "        \n",
    "        self.train_data = torchvision.datasets.CIFAR10(\n",
    "            '/Users/aniket/datasets/', download=True, transform=transform)\n",
    "\n",
    "        self.val_data = torchvision.datasets.CIFAR10('/Users/aniket/datasets/',\n",
    "                                                     train=False,\n",
    "                                                     download=True,\n",
    "                                                     transform=transform)\n",
    "        \n",
    "\n",
    "    def train_dataloader(self):\n",
    "        return torch.utils.data.DataLoader(self.train_data,\n",
    "                                           batch_size=self.batch_size,\n",
    "                                           shuffle=True)\n",
    "\n",
    "    def val_dataloader(self):\n",
    "        return torch.utils.data.DataLoader(self.val_data,\n",
    "                                           batch_size=self.batch_size,\n",
    "                                           shuffle=False)\n",
    "    \n",
    "cifar_dm = CIFARDataModule(batch_size=64)"
   ]
  },
  {
   "cell_type": "markdown",
   "id": "c67bebad-0095-471b-b488-dffc4c3311c2",
   "metadata": {
    "id": "c67bebad-0095-471b-b488-dffc4c3311c2"
   },
   "source": [
    "# Logger & Callbacks"
   ]
  },
  {
   "cell_type": "code",
   "execution_count": null,
   "id": "b8b691b5-877c-4873-8223-9ca30f6fb44d",
   "metadata": {
    "id": "b8b691b5-877c-4873-8223-9ca30f6fb44d"
   },
   "outputs": [],
   "source": [
    "from pytorch_lightning.loggers import TensorBoardLogger, CSVLogger\n",
    "\n",
    "tb_logger = TensorBoardLogger(\"tb_logs\", name=\"lightning-demo\")\n",
    "csv_logger = CSVLogger('lightning-demo')"
   ]
  },
  {
   "cell_type": "code",
   "execution_count": null,
   "id": "bbf27e91-bc1f-4c31-be67-7efd0a1bb9d7",
   "metadata": {
    "colab": {
     "base_uri": "https://localhost:8080/"
    },
    "id": "bbf27e91-bc1f-4c31-be67-7efd0a1bb9d7",
    "outputId": "69dad0f4-9171-41f6-dc40-837751f810ca"
   },
   "outputs": [],
   "source": [
    "lit_model = LitModel(1e-3)\n",
    "trainer = pl.Trainer(logger=[tb_logger, csv_logger])"
   ]
  },
  {
   "cell_type": "code",
   "execution_count": null,
   "id": "586c3efd-334f-4ee1-ae43-31dca91f7a57",
   "metadata": {
    "colab": {
     "base_uri": "https://localhost:8080/",
     "height": 291,
     "referenced_widgets": [
      "ff5126475d6a4d518ebee31171f080b2",
      "897fd6cce82b4727981854d156a6adc7",
      "8efa3944f0a54f65802f526e1f4356de",
      "a6f6128946a741efb4b9fbb09ab5a078",
      "8e4b16038ee24e60809c005427fb04d3",
      "c7c5995cb3cc427f840402f91eede4f4",
      "63ded721511c4526a7269070219d43dc",
      "e9be32e92e4140a090081da3daa5a671",
      "5a0d52dd8e1a49578610b61ea9c786db",
      "1c14c8065117403682b6e996b6d8f7e7",
      "2632b49bceb4409ca46ac384bcf73df1",
      "c1db1deae6e64078a9c48c6cacef2eed",
      "11837975fba04685b42f1fb96ea37809",
      "231d0792c44d4b45a5515db9ca6864dc",
      "761a9283b17542b8b4dcb0d1720c8827",
      "299f90ed5bd443bbb2ec68606e9ed9fd",
      "083036c452114569b0984430fe63c1e6",
      "b56db562c63a424bb91526734d750e43",
      "6ee15df6a71744cb943ba3752566bd82",
      "0a015482d8074589969db103890bb670",
      "27dd7cba6913498da79f5b3afe0020ec",
      "755bdc7e24584098b03013843ebad449",
      "b29f05c8eb994bf8bf109fd4b4f0e6a6",
      "a27d53f7a48d4bbcb4a15a9677554256",
      "838234fed95f4d168cdef5727a6ceb52",
      "6de99a478ed24ee5855425d48d02c45a",
      "e6bc3d6394544d45b881a72877a97363",
      "93cbd1604190421e8871b4839ee27dee",
      "a13790343494425a9654632a34254cb9",
      "ac013dc41a56472097a2420777c7bf87",
      "6eb2d7560ecc4a0f85bb620f35c45a4f",
      "a5aced38d8c04baf9342774182c90f78",
      "9bcb380272314233857c748c32ff31ad",
      "041ee226ec7a448dbd60aef41d646164",
      "52eb0f3e80d34b6c996b50d490a10f81",
      "a99fb51652994c91952beddedda4f735",
      "ef5372f52b774105bb4aa0e80172e7cf",
      "cb936ebad87142c78e17fd88e22b2351",
      "aa5d78d1771a45d092de4e854f9ece79",
      "6ac783a68f1b47778d307137c2024a33",
      "53d5834c8f5b4d76b16637fec2e4e509",
      "69f859bd64b24109aaf4bb758f88cdbf",
      "3a69214227204e939b8d511ffac5b970",
      "4594fb9621a04430a6020d8f8a6ce1f1",
      "a8e50bf557294c79a66d56c88c175f73",
      "b6cd9e9ce85e4969a2a76d24ca149b5a",
      "039dc8af82be410e82a682b6bd7bedae",
      "5e9ebfe218dc4b0ea791de93914440d9",
      "6061aae067574a99bc80435518b7ca34",
      "2a3fd277bb02453c8773f39717084d15",
      "1bfd7ca8f8174d10b5de5f52bba9e49c",
      "92f4f6f4442d430186463697de296b2b",
      "9c38aaf505094a5d8185842a60807794",
      "d7a59d8f63db414db5b2ddcc810c4700",
      "123ce86714b648edb4df6ecd85d7a703",
      "b64a1968ebc04dd9b1c6e1cb6fae97aa",
      "7761e19de0d74d5d8b22de1d748f3764",
      "7a503f048706420492a75d2408d5d8d0",
      "a0cc42a0dd1a49fbbb1aa42912c5ba19",
      "5a61b8696b9d41f4bfc3c22ca7a56884",
      "eaaecfc0552f4e44a65335d13b9b06be",
      "ba99a1c86124466f97b606155ffc3e22",
      "9c7bb9d5d9934cff9f84874c907a2a03",
      "b7c88c5310764572a0fa7531a3dbc5a9",
      "6477da8aa2e14192bf723ebf64a17561",
      "e5cdc324cd344516923aa7edd6312ff5",
      "9dbe18a4b653441daa5894c893a438f3",
      "51b445dc690549bd9f202670fd2f6125",
      "83c2ba57fd20438aa170e14753e490ae",
      "12a08c2409a34321bfcde521569fa8dc",
      "9f54e744b41940ffaedbe0b6f6c9d1f3",
      "375980a1a4224b428f06eb7346ed3e8d",
      "92d602dde6884b42b3bc4cc984804333",
      "2b1262d1077d48b2817bb1b51bad64b6",
      "af5b27a951bb4efbb732ea4e71d3fcca",
      "6156fd926ed34fa3ae48e4e15609b7c8",
      "f6b51c7a9b9a445d8619737c6917c8aa",
      "1700115485114fc6b02c5d9d29b3dacd",
      "dbdb5a3e8d2c4c9d93278b5f011012dd",
      "aa2db98aa39c4e8c979c3a18fe097c3f",
      "d5cfdc3006be4e16b65bd58523e745d5",
      "d33491e060f24f7f8970247f05a7b886",
      "734a6d85a4b7489eb2abc1160768688f",
      "5b269b2158a947cb8fecad0585f9416d",
      "19c006927e434f9dba6066eb7aadc6e8",
      "7e08eea1d93543018f302a4e86cfb24a",
      "cbbeb689801d4df19999e9046ac17c77",
      "878b9c9405b944bfa6fdea3582fa317b",
      "c0a6f9fe187646a09d66f199d16142db",
      "77940e789dbf47ebbf427e6f28fa2497",
      "61d7e3691ffb4d099a6e35b579f7f8e8",
      "8c9d8008160e41bb9116d423a19360cc",
      "a6cf73a7f5c74ac09fdaf23544909bfc",
      "3945f96148c14de28f8d4e2a60706d99",
      "4b27cb422f3b42588dfe8b8464e91174",
      "1ac43a0622da40349facf88ed623c4f2",
      "bf2922ccf64f44acbc0b2d9b37ce3efc",
      "f4856e40b1bb420392456b6fc341b309",
      "6f704f357a8e4067ab8f64a4f4b1afda",
      "26e4477499cc43bda19b778a9062f625",
      "09e5ad5690854af78b952028fa49b721",
      "79568f52a00d4a0697c5e4ecb70a138c",
      "79b014cb42a44221aef2cdd9d35f4a3d",
      "3d334ac0ab524319a616d4dae255489e"
     ]
    },
    "id": "586c3efd-334f-4ee1-ae43-31dca91f7a57",
    "outputId": "b37f47c8-5256-4f7e-d6e7-e4d741b195d5"
   },
   "outputs": [],
   "source": [
    "trainer.fit(lit_model, datamodule=cifar_dm)"
   ]
  },
  {
   "cell_type": "code",
   "execution_count": null,
   "id": "c431c9a5",
   "metadata": {},
   "outputs": [],
   "source": []
  },
  {
   "cell_type": "code",
   "execution_count": null,
   "id": "0e1fc53a",
   "metadata": {},
   "outputs": [],
   "source": []
  },
  {
   "cell_type": "markdown",
   "id": "3dbb6e6e-9b5f-4444-b135-a035396e533e",
   "metadata": {
    "id": "3dbb6e6e-9b5f-4444-b135-a035396e533e"
   },
   "source": [
    "#### References:\n",
    "1. [PyTorch: TRAINING A CLASSIFIER](https://pytorch.org/tutorials/beginner/blitz/cifar10_tutorial.html)\n"
   ]
  },
  {
   "cell_type": "code",
   "execution_count": null,
   "id": "9182bf4e-0a5d-4ae0-90c9-18e7bcd80342",
   "metadata": {
    "id": "9182bf4e-0a5d-4ae0-90c9-18e7bcd80342"
   },
   "outputs": [],
   "source": []
  }
 ],
 "metadata": {
  "accelerator": "GPU",
  "colab": {
   "include_colab_link": true,
   "name": "01 pytorch-to-lightning.ipynb",
   "provenance": []
  },
  "kernelspec": {
   "display_name": "Python 3",
   "language": "python",
   "name": "python3"
  },
  "language_info": {
   "codemirror_mode": {
    "name": "ipython",
    "version": 3
   },
   "file_extension": ".py",
   "mimetype": "text/x-python",
   "name": "python",
   "nbconvert_exporter": "python",
   "pygments_lexer": "ipython3",
   "version": "3.7.10"
  },
  "toc": {
   "base_numbering": 1,
   "nav_menu": {},
   "number_sections": true,
   "sideBar": true,
   "skip_h1_title": false,
   "title_cell": "Table of Contents",
   "title_sidebar": "Contents",
   "toc_cell": false,
   "toc_position": {},
   "toc_section_display": true,
   "toc_window_display": false
  }
 },
 "nbformat": 4,
 "nbformat_minor": 5
}
