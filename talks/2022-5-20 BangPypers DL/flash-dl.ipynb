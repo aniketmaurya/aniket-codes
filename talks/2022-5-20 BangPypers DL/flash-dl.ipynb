{
 "cells": [
  {
   "cell_type": "markdown",
   "id": "8334cff2",
   "metadata": {},
   "source": [
    "# Lightning Fast Deep Learning with Flash\n",
    "---\n",
    "\n",
    "Flash is a framework of tasks for fast prototyping, baselining, finetuning and solving business and scientific problems with deep learning.\n",
    "It is focused on:\n",
    "\n",
    "1. Predictions\n",
    "1. Finetuning\n",
    "1. Task-based training\n"
   ]
  },
  {
   "cell_type": "markdown",
   "id": "3c354356-e616-4d4a-b1b7-3aa4169832c9",
   "metadata": {},
   "source": [
    "# Some of the Deep Learning Tasks supported by Flash -\n",
    "\n",
    "#### Image\n",
    "- Classification\n",
    "- Segmentation\n",
    "- Object Detection\n",
    "- Style Transfer\n",
    "\n",
    "#### Text\n",
    "- Text Classification\n",
    "- Question Answering\n",
    "\n",
    "#### Audio\n",
    "- Classification\n",
    "- Speech Recognition\n",
    "\n",
    "#### Tabular\n",
    "- Classification\n",
    "- Regression\n",
    "\n",
    "#### Video\n",
    "- Classification\n"
   ]
  },
  {
   "cell_type": "code",
   "execution_count": null,
   "id": "237829c1",
   "metadata": {},
   "outputs": [],
   "source": [
    "import torch\n",
    "import flash\n",
    "from flash.image import SemanticSegmentationData\n",
    "from flash.image import SemanticSegmentation\n",
    "from flash.core.data.utils import download_data\n",
    "import matplotlib.pyplot as plt"
   ]
  },
  {
   "cell_type": "markdown",
   "id": "d965acfc",
   "metadata": {},
   "source": [
    "## Image Classification Training\n",
    "\n",
    "It is a multistep process-\n",
    "\n",
    "1. Load Dataset\n",
    "2. Build Model\n",
    "3. Create Loss function and Optimizer\n",
    "4. Train Model"
   ]
  },
  {
   "cell_type": "code",
   "execution_count": null,
   "id": "75bf4c3f",
   "metadata": {},
   "outputs": [],
   "source": [
    "import torch\n",
    "\n",
    "import flash\n",
    "from flash.core.data.utils import download_data\n",
    "from flash.image import ImageClassificationData, ImageClassifier"
   ]
  },
  {
   "cell_type": "code",
   "execution_count": null,
   "id": "8654a8c4",
   "metadata": {},
   "outputs": [],
   "source": [
    "# download_data(\"https://pl-flash-data.s3.amazonaws.com/hymenoptera_data.zip\", \"/Users/aniket/data/\")"
   ]
  },
  {
   "cell_type": "code",
   "execution_count": null,
   "id": "8bd64160-950c-400f-a334-dd0ead1f5392",
   "metadata": {},
   "outputs": [],
   "source": [
    "datamodule = ImageClassificationData.from_folders(\n",
    "    train_folder=\"~/data/hymenoptera_data/train/\",\n",
    "    val_folder=\"~/data/hymenoptera_data/val/\",\n",
    "    batch_size=8,\n",
    "    transform_kwargs={\"image_size\": (196, 196), \"mean\": (0.485, 0.456, 0.406), \"std\": (0.229, 0.224, 0.225)},\n",
    ")"
   ]
  },
  {
   "cell_type": "code",
   "execution_count": null,
   "id": "b5c32fe6-6cd0-4897-bf1e-47ec91998cdb",
   "metadata": {},
   "outputs": [],
   "source": [
    "datamodule.show_train_batch()"
   ]
  },
  {
   "cell_type": "code",
   "execution_count": null,
   "id": "621531c8",
   "metadata": {},
   "outputs": [],
   "source": [
    "# https://github.com/kentaroy47/timm_speed_benchmark\n",
    "\n",
    "model = ImageClassifier(backbone=\"efficientnet_b0\", num_classes=datamodule.num_classes)"
   ]
  },
  {
   "cell_type": "code",
   "execution_count": null,
   "id": "20ec94ed-d706-46c8-b484-6ffcb2406d0a",
   "metadata": {},
   "outputs": [],
   "source": [
    "trainer = flash.Trainer(max_epochs=5, accelerator=\"auto\")\n",
    "trainer.finetune(model, datamodule=datamodule, strategy=\"freeze\")\n",
    "trainer.save_checkpoint(\"demo_model.pt\")"
   ]
  },
  {
   "cell_type": "code",
   "execution_count": null,
   "id": "55a74ac8-ef82-4b1b-8c25-5b29debf792d",
   "metadata": {},
   "outputs": [],
   "source": [
    "data_dir = \"/Users/aniket/data\"\n",
    "\n",
    "\n",
    "# 4. Predict what's on a few images! ants or bees?\n",
    "datamodule = ImageClassificationData.from_files(\n",
    "    predict_files=[\n",
    "        f\"{data_dir}/hymenoptera_data/val/bees/65038344_52a45d090d.jpg\",\n",
    "        f\"{data_dir}/hymenoptera_data/val/bees/590318879_68cf112861.jpg\",\n",
    "        f\"{data_dir}/hymenoptera_data/val/ants/540543309_ddbb193ee5.jpg\",\n",
    "    ],\n",
    "    batch_size=3\n",
    ")\n",
    "predictions = trainer.predict(model, datamodule=datamodule, output=\"labels\")\n",
    "print(predictions)"
   ]
  },
  {
   "cell_type": "code",
   "execution_count": null,
   "id": "ca4aa2de-210c-409f-a6b5-ac82a80b08d4",
   "metadata": {},
   "outputs": [],
   "source": [
    "from PIL import Image"
   ]
  },
  {
   "cell_type": "code",
   "execution_count": null,
   "id": "c0404c5f-ffc6-466c-9371-a38b9f9a29a0",
   "metadata": {},
   "outputs": [],
   "source": [
    "Image.open(f\"{data_dir}/hymenoptera_data/val/bees/65038344_52a45d090d.jpg\")"
   ]
  },
  {
   "cell_type": "code",
   "execution_count": null,
   "id": "209c7003-1bcb-4ad0-9ebd-5be95fd6748b",
   "metadata": {},
   "outputs": [],
   "source": []
  },
  {
   "cell_type": "markdown",
   "id": "537443ba",
   "metadata": {},
   "source": [
    "## Training Semantic Segmentation"
   ]
  },
  {
   "cell_type": "code",
   "execution_count": null,
   "id": "a3359e78",
   "metadata": {},
   "outputs": [],
   "source": [
    "download_data(\n",
    "    \"https://github.com/ongchinkiat/LyftPerceptionChallenge/releases/download/v0.1/carla-capture-20180513A.zip\",\n",
    "    data_dir,\n",
    ")"
   ]
  },
  {
   "cell_type": "code",
   "execution_count": null,
   "id": "70f87960",
   "metadata": {},
   "outputs": [],
   "source": [
    "dm = SemanticSegmentationData.from_folders(\n",
    "    train_folder=f\"{data_dir}/CameraRGB\",\n",
    "    train_target_folder=f\"{data_dir}/CameraSeg\",\n",
    "    val_split=0.1,\n",
    "    transform_kwargs=dict(image_size=(256, 256)),\n",
    "    num_classes=21,\n",
    "    batch_size=4,\n",
    ")"
   ]
  },
  {
   "cell_type": "code",
   "execution_count": null,
   "id": "5c84213c-0b24-4630-b66f-a8dfb8b947ed",
   "metadata": {},
   "outputs": [],
   "source": [
    "model = SemanticSegmentation.load_from_checkpoint(\n",
    "    \"https://flash-weights.s3.amazonaws.com/0.7.0/semantic_segmentation_model.pt\"\n",
    ")"
   ]
  },
  {
   "cell_type": "code",
   "execution_count": null,
   "id": "942709d8",
   "metadata": {},
   "outputs": [],
   "source": [
    "# 3. Create the trainer and finetune the model\n",
    "trainer = flash.Trainer(max_epochs=3, gpus=torch.cuda.device_count())\n",
    "trainer.finetune(model, datamodule=datamodule)"
   ]
  },
  {
   "cell_type": "code",
   "execution_count": null,
   "id": "9e2e3216",
   "metadata": {},
   "outputs": [],
   "source": [
    "datamodule = SemanticSegmentationData.from_files(\n",
    "    predict_files=[\n",
    "        f\"{data_dir}/CameraRGB/F61-1.png\",\n",
    "        f\"{data_dir}/CameraRGB/F62-1.png\",\n",
    "        f\"{data_dir}/CameraRGB/F63-1.png\",\n",
    "    ],\n",
    "    batch_size=3,\n",
    ")\n",
    "predictions = trainer.predict(model, datamodule=datamodule)"
   ]
  },
  {
   "cell_type": "code",
   "execution_count": null,
   "id": "084ffcc9",
   "metadata": {},
   "outputs": [],
   "source": [
    "x = predictions[0][0][\"preds\"]\n",
    "# x = predictions[0][0]['input']"
   ]
  },
  {
   "cell_type": "code",
   "execution_count": null,
   "id": "caf770c8-9dcd-4e7d-91be-838e4f3aa59d",
   "metadata": {},
   "outputs": [],
   "source": [
    "x = x.permute((1,2,0)).numpy()"
   ]
  },
  {
   "cell_type": "code",
   "execution_count": null,
   "id": "44da8aa2-6a73-45e9-a12c-7935e006f712",
   "metadata": {},
   "outputs": [],
   "source": [
    "plt.imshow(x[..., 2])"
   ]
  },
  {
   "cell_type": "code",
   "execution_count": null,
   "id": "f7a570cb-03e3-42d5-bf79-f32f521d7f57",
   "metadata": {},
   "outputs": [],
   "source": [
    "s"
   ]
  }
 ],
 "metadata": {
  "kernelspec": {
   "display_name": "Python 3",
   "language": "python",
   "name": "python3"
  },
  "language_info": {
   "codemirror_mode": {
    "name": "ipython",
    "version": 3
   },
   "file_extension": ".py",
   "mimetype": "text/x-python",
   "name": "python",
   "nbconvert_exporter": "python",
   "pygments_lexer": "ipython3",
   "version": "3.9.7"
  }
 },
 "nbformat": 4,
 "nbformat_minor": 5
}
