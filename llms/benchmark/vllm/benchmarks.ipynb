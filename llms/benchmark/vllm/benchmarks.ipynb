{
 "cells": [
  {
   "cell_type": "code",
   "execution_count": 1,
   "id": "8bbb7e28-872d-4850-b7cb-0c530ba325c5",
   "metadata": {},
   "outputs": [
    {
     "name": "stdout",
     "output_type": "stream",
     "text": [
      "INFO 12-04 15:35:25 llm_engine.py:73] Initializing an LLM engine with config: model='meta-llama/Llama-2-7b-hf', tokenizer='meta-llama/Llama-2-7b-hf', tokenizer_mode=auto, revision=None, tokenizer_revision=None, trust_remote_code=False, dtype=torch.float16, max_seq_len=4096, download_dir=None, load_format=auto, tensor_parallel_size=1, quantization=None, seed=0)\n",
      "INFO 12-04 15:35:25 tokenizer.py:32] For some LLaMA V1 models, initializing the fast tokenizer may take a long time. To reduce the initialization time, consider using 'hf-internal-testing/llama-tokenizer' instead of the original tokenizer.\n",
      "INFO 12-04 15:35:32 llm_engine.py:222] # GPU blocks: 887, # CPU blocks: 512\n"
     ]
    }
   ],
   "source": [
    "from vllm import LLM, SamplingParams\n",
    "import pandas as pd\n",
    "import time\n",
    "from prompts import questions\n",
    "\n",
    "sampling_params = SamplingParams(max_tokens=200)\n",
    "\n",
    "llm = LLM(\"meta-llama/Llama-2-7b-hf\", tensor_parallel_size=1, )"
   ]
  },
  {
   "cell_type": "code",
   "execution_count": null,
   "id": "c82a9b00-5c9f-4250-a745-7c4c4bc8b15c",
   "metadata": {},
   "outputs": [],
   "source": [
    "results = []\n",
    "for q in questions:\n",
    "    t0 = time.perf_counter()\n",
    "    output = llm.generate(q, sampling_params=sampling_params)[0]\n",
    "    t1 = time.perf_counter()\n",
    "    results.append({\"time\": t1-t0, \"tokens_generated\": len(output.outputs[0].token_ids)})\n",
    "    break\n",
    "df = pd.DataFrame(results)\n",
    "# df.to_csv(\"benchmark.csv\", index=False)\n"
   ]
  },
  {
   "cell_type": "code",
   "execution_count": null,
   "id": "8749f5d0",
   "metadata": {},
   "outputs": [],
   "source": [
    "df"
   ]
  },
  {
   "cell_type": "code",
   "execution_count": null,
   "id": "a4aa0a45",
   "metadata": {},
   "outputs": [],
   "source": [
    "df.time.sum()"
   ]
  },
  {
   "cell_type": "code",
   "execution_count": null,
   "id": "d55b21e2",
   "metadata": {},
   "outputs": [],
   "source": []
  },
  {
   "cell_type": "code",
   "execution_count": null,
   "id": "04a34445",
   "metadata": {},
   "outputs": [],
   "source": []
  },
  {
   "cell_type": "code",
   "execution_count": null,
   "id": "63666ab7",
   "metadata": {},
   "outputs": [],
   "source": []
  }
 ],
 "metadata": {
  "kernelspec": {
   "display_name": "Python 3",
   "language": "python",
   "name": "python3"
  },
  "language_info": {
   "codemirror_mode": {
    "name": "ipython",
    "version": 3
   },
   "file_extension": ".py",
   "mimetype": "text/x-python",
   "name": "python",
   "nbconvert_exporter": "python",
   "pygments_lexer": "ipython3",
   "version": "3.10.10"
  }
 },
 "nbformat": 4,
 "nbformat_minor": 5
}
