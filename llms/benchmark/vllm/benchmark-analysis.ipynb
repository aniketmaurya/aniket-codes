{
 "cells": [
  {
   "cell_type": "code",
   "execution_count": 6,
   "id": "d55b21e2",
   "metadata": {},
   "outputs": [],
   "source": [
    "import pandas as pd "
   ]
  },
  {
   "cell_type": "code",
   "execution_count": 7,
   "id": "04a34445",
   "metadata": {},
   "outputs": [
    {
     "data": {
      "text/html": [
       "<div>\n",
       "<style scoped>\n",
       "    .dataframe tbody tr th:only-of-type {\n",
       "        vertical-align: middle;\n",
       "    }\n",
       "\n",
       "    .dataframe tbody tr th {\n",
       "        vertical-align: top;\n",
       "    }\n",
       "\n",
       "    .dataframe thead th {\n",
       "        text-align: right;\n",
       "    }\n",
       "</style>\n",
       "<table border=\"1\" class=\"dataframe\">\n",
       "  <thead>\n",
       "    <tr style=\"text-align: right;\">\n",
       "      <th></th>\n",
       "      <th>time</th>\n",
       "      <th>tokens_generated</th>\n",
       "    </tr>\n",
       "  </thead>\n",
       "  <tbody>\n",
       "    <tr>\n",
       "      <th>0</th>\n",
       "      <td>6.102792</td>\n",
       "      <td>200</td>\n",
       "    </tr>\n",
       "    <tr>\n",
       "      <th>1</th>\n",
       "      <td>6.106663</td>\n",
       "      <td>200</td>\n",
       "    </tr>\n",
       "    <tr>\n",
       "      <th>2</th>\n",
       "      <td>6.101967</td>\n",
       "      <td>200</td>\n",
       "    </tr>\n",
       "    <tr>\n",
       "      <th>3</th>\n",
       "      <td>5.947858</td>\n",
       "      <td>195</td>\n",
       "    </tr>\n",
       "    <tr>\n",
       "      <th>4</th>\n",
       "      <td>6.101686</td>\n",
       "      <td>200</td>\n",
       "    </tr>\n",
       "  </tbody>\n",
       "</table>\n",
       "</div>"
      ],
      "text/plain": [
       "       time  tokens_generated\n",
       "0  6.102792               200\n",
       "1  6.106663               200\n",
       "2  6.101967               200\n",
       "3  5.947858               195\n",
       "4  6.101686               200"
      ]
     },
     "execution_count": 7,
     "metadata": {},
     "output_type": "execute_result"
    }
   ],
   "source": [
    "df_1gpus = pd.read_csv(\"vllm-benchmark-1GPUs.csv\")\n",
    "df_1gpus.head()"
   ]
  },
  {
   "cell_type": "code",
   "execution_count": 8,
   "id": "63666ab7",
   "metadata": {},
   "outputs": [
    {
     "data": {
      "text/html": [
       "<div>\n",
       "<style scoped>\n",
       "    .dataframe tbody tr th:only-of-type {\n",
       "        vertical-align: middle;\n",
       "    }\n",
       "\n",
       "    .dataframe tbody tr th {\n",
       "        vertical-align: top;\n",
       "    }\n",
       "\n",
       "    .dataframe thead th {\n",
       "        text-align: right;\n",
       "    }\n",
       "</style>\n",
       "<table border=\"1\" class=\"dataframe\">\n",
       "  <thead>\n",
       "    <tr style=\"text-align: right;\">\n",
       "      <th></th>\n",
       "      <th>time</th>\n",
       "      <th>tokens_generated</th>\n",
       "    </tr>\n",
       "  </thead>\n",
       "  <tbody>\n",
       "    <tr>\n",
       "      <th>0</th>\n",
       "      <td>3.233016</td>\n",
       "      <td>200</td>\n",
       "    </tr>\n",
       "    <tr>\n",
       "      <th>1</th>\n",
       "      <td>4.018353</td>\n",
       "      <td>200</td>\n",
       "    </tr>\n",
       "    <tr>\n",
       "      <th>2</th>\n",
       "      <td>3.596194</td>\n",
       "      <td>200</td>\n",
       "    </tr>\n",
       "    <tr>\n",
       "      <th>3</th>\n",
       "      <td>3.482750</td>\n",
       "      <td>200</td>\n",
       "    </tr>\n",
       "    <tr>\n",
       "      <th>4</th>\n",
       "      <td>3.311085</td>\n",
       "      <td>200</td>\n",
       "    </tr>\n",
       "  </tbody>\n",
       "</table>\n",
       "</div>"
      ],
      "text/plain": [
       "       time  tokens_generated\n",
       "0  3.233016               200\n",
       "1  4.018353               200\n",
       "2  3.596194               200\n",
       "3  3.482750               200\n",
       "4  3.311085               200"
      ]
     },
     "execution_count": 8,
     "metadata": {},
     "output_type": "execute_result"
    }
   ],
   "source": [
    "df_4gpus = pd.read_csv(\"vllm-benchmark-4GPUs.csv\")\n",
    "df_4gpus.head()"
   ]
  },
  {
   "cell_type": "code",
   "execution_count": 12,
   "id": "a6b938ce",
   "metadata": {},
   "outputs": [
    {
     "data": {
      "text/plain": [
       "59"
      ]
     },
     "execution_count": 12,
     "metadata": {},
     "output_type": "execute_result"
    }
   ],
   "source": [
    "len(df_1gpus)"
   ]
  },
  {
   "cell_type": "code",
   "execution_count": 32,
   "id": "33f693ec",
   "metadata": {},
   "outputs": [
    {
     "name": "stdout",
     "output_type": "stream",
     "text": [
      "Average time taken to complete 59 texts on a single GPU= 5.438985779576296\n",
      "Average time taken to complete 59 texts on four GPUs= 2.8111681550677954\n"
     ]
    }
   ],
   "source": [
    "print(f\"Average time taken to complete 59 texts on a single GPU=\", df_1gpus.time.mean())\n",
    "print(f\"Average time taken to complete 59 texts on four GPUs=\", df_4gpus.time.mean())"
   ]
  },
  {
   "cell_type": "code",
   "execution_count": 31,
   "id": "be3e3493",
   "metadata": {},
   "outputs": [
    {
     "name": "stdout",
     "output_type": "stream",
     "text": [
      "Average output token count on single GPU = 178.1864406779661\n",
      "Average output token count on four GPUs = 172.10169491525423\n"
     ]
    }
   ],
   "source": [
    "print(f\"Average output token count on single GPU =\", df_1gpus.tokens_generated.mean())\n",
    "print(f\"Average output token count on four GPUs =\", df_4gpus.tokens_generated.mean())"
   ]
  },
  {
   "cell_type": "code",
   "execution_count": 15,
   "id": "12a574f0",
   "metadata": {},
   "outputs": [],
   "source": [
    "df_1gpus[\"tokens_per_sec\"] = df_1gpus.tokens_generated / df_1gpus.time\n",
    "df_4gpus[\"tokens_per_sec\"] = df_4gpus.tokens_generated / df_4gpus.time"
   ]
  },
  {
   "cell_type": "code",
   "execution_count": 16,
   "id": "62ff4150",
   "metadata": {},
   "outputs": [
    {
     "name": "stdout",
     "output_type": "stream",
     "text": [
      "Average tokens/sec on a single GPU = 32.66893882049349\n",
      "Average tokens/sec on a four GPUs = 60.84242229197367\n"
     ]
    }
   ],
   "source": [
    "print(f\"Average tokens/sec on a single GPU =\", df_1gpus.tokens_per_sec.mean())\n",
    "print(f\"Average tokens/sec on a four GPUs =\", df_4gpus.tokens_per_sec.mean())"
   ]
  },
  {
   "cell_type": "code",
   "execution_count": null,
   "id": "7986a4bf",
   "metadata": {},
   "outputs": [],
   "source": []
  },
  {
   "cell_type": "code",
   "execution_count": 18,
   "id": "6adfa4b8",
   "metadata": {},
   "outputs": [],
   "source": [
    "import matplotlib.pyplot as plt"
   ]
  },
  {
   "cell_type": "code",
   "execution_count": 37,
   "id": "51e16715",
   "metadata": {},
   "outputs": [
    {
     "data": {
      "image/png": "[encoded data removed]",
      "text/plain": [
       "<Figure size 640x480 with 1 Axes>"
      ]
     },
     "metadata": {},
     "output_type": "display_data"
    }
   ],
   "source": [
    "X = [df_1gpus.tokens_per_sec.mean(), df_4gpus.tokens_per_sec.mean()]\n",
    "\n",
    "fig, ax = plt.subplots()\n",
    "bar_colors = ['tab:blue', 'tab:purple']\n",
    "labels = [f\"{df_1gpus.tokens_per_sec.mean():.2f} t/s\", f\"{df_4gpus.tokens_per_sec.mean():.2f} t/s\"]\n",
    "ax.bar([\"1 GPU\", \"4 GPUs\"], X, color=bar_colors, label=labels)\n",
    "ax.set_ylabel('Tokens per second')\n",
    "ax.set_title('vLLM Llama-7B benchmark')\n",
    "ax.legend(title='A10G')\n",
    "plt.show()\n"
   ]
  },
  {
   "cell_type": "code",
   "execution_count": null,
   "id": "baf7e3ac",
   "metadata": {},
   "outputs": [],
   "source": []
  }
 ],
 "metadata": {
  "kernelspec": {
   "display_name": "Python 3",
   "language": "python",
   "name": "python3"
  },
  "language_info": {
   "codemirror_mode": {
    "name": "ipython",
    "version": 3
   },
   "file_extension": ".py",
   "mimetype": "text/x-python",
   "name": "python",
   "nbconvert_exporter": "python",
   "pygments_lexer": "ipython3",
   "version": "3.10.10"
  }
 },
 "nbformat": 4,
 "nbformat_minor": 5
}
