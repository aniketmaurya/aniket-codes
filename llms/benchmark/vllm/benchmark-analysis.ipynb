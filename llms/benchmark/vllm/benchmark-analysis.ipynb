{
 "cells": [
  {
   "cell_type": "code",
   "execution_count": 6,
   "id": "d55b21e2",
   "metadata": {},
   "outputs": [],
   "source": [
    "import pandas as pd "
   ]
  },
  {
   "cell_type": "code",
   "execution_count": 7,
   "id": "04a34445",
   "metadata": {},
   "outputs": [
    {
     "data": {
      "text/html": [
       "<div>\n",
       "<style scoped>\n",
       "    .dataframe tbody tr th:only-of-type {\n",
       "        vertical-align: middle;\n",
       "    }\n",
       "\n",
       "    .dataframe tbody tr th {\n",
       "        vertical-align: top;\n",
       "    }\n",
       "\n",
       "    .dataframe thead th {\n",
       "        text-align: right;\n",
       "    }\n",
       "</style>\n",
       "<table border=\"1\" class=\"dataframe\">\n",
       "  <thead>\n",
       "    <tr style=\"text-align: right;\">\n",
       "      <th></th>\n",
       "      <th>time</th>\n",
       "      <th>tokens_generated</th>\n",
       "    </tr>\n",
       "  </thead>\n",
       "  <tbody>\n",
       "    <tr>\n",
       "      <th>0</th>\n",
       "      <td>6.102792</td>\n",
       "      <td>200</td>\n",
       "    </tr>\n",
       "    <tr>\n",
       "      <th>1</th>\n",
       "      <td>6.106663</td>\n",
       "      <td>200</td>\n",
       "    </tr>\n",
       "    <tr>\n",
       "      <th>2</th>\n",
       "      <td>6.101967</td>\n",
       "      <td>200</td>\n",
       "    </tr>\n",
       "    <tr>\n",
       "      <th>3</th>\n",
       "      <td>5.947858</td>\n",
       "      <td>195</td>\n",
       "    </tr>\n",
       "    <tr>\n",
       "      <th>4</th>\n",
       "      <td>6.101686</td>\n",
       "      <td>200</td>\n",
       "    </tr>\n",
       "  </tbody>\n",
       "</table>\n",
       "</div>"
      ],
      "text/plain": [
       "       time  tokens_generated\n",
       "0  6.102792               200\n",
       "1  6.106663               200\n",
       "2  6.101967               200\n",
       "3  5.947858               195\n",
       "4  6.101686               200"
      ]
     },
     "execution_count": 7,
     "metadata": {},
     "output_type": "execute_result"
    }
   ],
   "source": [
    "df_1gpus = pd.read_csv(\"vllm-benchmark-1GPUs.csv\")\n",
    "df_1gpus.head()"
   ]
  },
  {
   "cell_type": "code",
   "execution_count": 8,
   "id": "63666ab7",
   "metadata": {},
   "outputs": [
    {
     "data": {
      "text/html": [
       "<div>\n",
       "<style scoped>\n",
       "    .dataframe tbody tr th:only-of-type {\n",
       "        vertical-align: middle;\n",
       "    }\n",
       "\n",
       "    .dataframe tbody tr th {\n",
       "        vertical-align: top;\n",
       "    }\n",
       "\n",
       "    .dataframe thead th {\n",
       "        text-align: right;\n",
       "    }\n",
       "</style>\n",
       "<table border=\"1\" class=\"dataframe\">\n",
       "  <thead>\n",
       "    <tr style=\"text-align: right;\">\n",
       "      <th></th>\n",
       "      <th>time</th>\n",
       "      <th>tokens_generated</th>\n",
       "    </tr>\n",
       "  </thead>\n",
       "  <tbody>\n",
       "    <tr>\n",
       "      <th>0</th>\n",
       "      <td>3.233016</td>\n",
       "      <td>200</td>\n",
       "    </tr>\n",
       "    <tr>\n",
       "      <th>1</th>\n",
       "      <td>4.018353</td>\n",
       "      <td>200</td>\n",
       "    </tr>\n",
       "    <tr>\n",
       "      <th>2</th>\n",
       "      <td>3.596194</td>\n",
       "      <td>200</td>\n",
       "    </tr>\n",
       "    <tr>\n",
       "      <th>3</th>\n",
       "      <td>3.482750</td>\n",
       "      <td>200</td>\n",
       "    </tr>\n",
       "    <tr>\n",
       "      <th>4</th>\n",
       "      <td>3.311085</td>\n",
       "      <td>200</td>\n",
       "    </tr>\n",
       "  </tbody>\n",
       "</table>\n",
       "</div>"
      ],
      "text/plain": [
       "       time  tokens_generated\n",
       "0  3.233016               200\n",
       "1  4.018353               200\n",
       "2  3.596194               200\n",
       "3  3.482750               200\n",
       "4  3.311085               200"
      ]
     },
     "execution_count": 8,
     "metadata": {},
     "output_type": "execute_result"
    }
   ],
   "source": [
    "df_4gpus = pd.read_csv(\"vllm-benchmark-4GPUs.csv\")\n",
    "df_4gpus.head()"
   ]
  },
  {
   "cell_type": "code",
   "execution_count": 12,
   "id": "a6b938ce",
   "metadata": {},
   "outputs": [
    {
     "data": {
      "text/plain": [
       "59"
      ]
     },
     "execution_count": 12,
     "metadata": {},
     "output_type": "execute_result"
    }
   ],
   "source": [
    "len(df_1gpus)"
   ]
  },
  {
   "cell_type": "code",
   "execution_count": 13,
   "id": "33f693ec",
   "metadata": {},
   "outputs": [
    {
     "name": "stdout",
     "output_type": "stream",
     "text": [
      "Total time taken to complete 59 texts on a single GPU= 320.90016099500144\n",
      "Total time taken to complete 59 texts on four GPUs= 165.85892114899994\n"
     ]
    }
   ],
   "source": [
    "print(f\"Total time taken to complete 59 texts on a single GPU=\", df_1gpus.time.sum())\n",
    "print(f\"Total time taken to complete 59 texts on four GPUs=\", df_4gpus.time.sum())"
   ]
  },
  {
   "cell_type": "code",
   "execution_count": 15,
   "id": "12a574f0",
   "metadata": {},
   "outputs": [],
   "source": [
    "df_1gpus[\"tokens_per_sec\"] = df_1gpus.tokens_generated / df_1gpus.time\n",
    "df_4gpus[\"tokens_per_sec\"] = df_4gpus.tokens_generated / df_4gpus.time"
   ]
  },
  {
   "cell_type": "code",
   "execution_count": 16,
   "id": "62ff4150",
   "metadata": {},
   "outputs": [
    {
     "name": "stdout",
     "output_type": "stream",
     "text": [
      "Average tokens/sec on a single GPU = 32.66893882049349\n",
      "Average tokens/sec on a four GPUs = 60.84242229197367\n"
     ]
    }
   ],
   "source": [
    "print(f\"Average tokens/sec on a single GPU =\", df_1gpus.tokens_per_sec.mean())\n",
    "print(f\"Average tokens/sec on a four GPUs =\", df_4gpus.tokens_per_sec.mean())"
   ]
  },
  {
   "cell_type": "code",
   "execution_count": null,
   "id": "7986a4bf",
   "metadata": {},
   "outputs": [],
   "source": []
  },
  {
   "cell_type": "code",
   "execution_count": 18,
   "id": "6adfa4b8",
   "metadata": {},
   "outputs": [],
   "source": [
    "import matplotlib.pyplot as plt"
   ]
  },
  {
   "cell_type": "code",
   "execution_count": 21,
   "id": "33cf930a",
   "metadata": {},
   "outputs": [
    {
     "name": "stdout",
     "output_type": "stream",
     "text": [
      "\u001b[0;31mSignature:\u001b[0m\n",
      "\u001b[0mplt\u001b[0m\u001b[0;34m.\u001b[0m\u001b[0mbar\u001b[0m\u001b[0;34m(\u001b[0m\u001b[0;34m\u001b[0m\n",
      "\u001b[0;34m\u001b[0m    \u001b[0mx\u001b[0m\u001b[0;34m:\u001b[0m \u001b[0;34m'float | ArrayLike'\u001b[0m\u001b[0;34m,\u001b[0m\u001b[0;34m\u001b[0m\n",
      "\u001b[0;34m\u001b[0m    \u001b[0mheight\u001b[0m\u001b[0;34m:\u001b[0m \u001b[0;34m'float | ArrayLike'\u001b[0m\u001b[0;34m,\u001b[0m\u001b[0;34m\u001b[0m\n",
      "\u001b[0;34m\u001b[0m    \u001b[0mwidth\u001b[0m\u001b[0;34m:\u001b[0m \u001b[0;34m'float | ArrayLike'\u001b[0m \u001b[0;34m=\u001b[0m \u001b[0;36m0.8\u001b[0m\u001b[0;34m,\u001b[0m\u001b[0;34m\u001b[0m\n",
      "\u001b[0;34m\u001b[0m    \u001b[0mbottom\u001b[0m\u001b[0;34m:\u001b[0m \u001b[0;34m'float | ArrayLike | None'\u001b[0m \u001b[0;34m=\u001b[0m \u001b[0;32mNone\u001b[0m\u001b[0;34m,\u001b[0m\u001b[0;34m\u001b[0m\n",
      "\u001b[0;34m\u001b[0m    \u001b[0;34m*\u001b[0m\u001b[0;34m,\u001b[0m\u001b[0;34m\u001b[0m\n",
      "\u001b[0;34m\u001b[0m    \u001b[0malign\u001b[0m\u001b[0;34m:\u001b[0m \u001b[0;34m\"Literal['center', 'edge']\"\u001b[0m \u001b[0;34m=\u001b[0m \u001b[0;34m'center'\u001b[0m\u001b[0;34m,\u001b[0m\u001b[0;34m\u001b[0m\n",
      "\u001b[0;34m\u001b[0m    \u001b[0mdata\u001b[0m\u001b[0;34m=\u001b[0m\u001b[0;32mNone\u001b[0m\u001b[0;34m,\u001b[0m\u001b[0;34m\u001b[0m\n",
      "\u001b[0;34m\u001b[0m    \u001b[0;34m**\u001b[0m\u001b[0mkwargs\u001b[0m\u001b[0;34m,\u001b[0m\u001b[0;34m\u001b[0m\n",
      "\u001b[0;34m\u001b[0m\u001b[0;34m)\u001b[0m \u001b[0;34m->\u001b[0m \u001b[0;34m'BarContainer'\u001b[0m\u001b[0;34m\u001b[0m\u001b[0;34m\u001b[0m\u001b[0m\n",
      "\u001b[0;31mDocstring:\u001b[0m\n",
      "Make a bar plot.\n",
      "\n",
      "The bars are positioned at *x* with the given *align*\\ment. Their\n",
      "dimensions are given by *height* and *width*. The vertical baseline\n",
      "is *bottom* (default 0).\n",
      "\n",
      "Many parameters can take either a single value applying to all bars\n",
      "or a sequence of values, one for each bar.\n",
      "\n",
      "Parameters\n",
      "----------\n",
      "x : float or array-like\n",
      "    The x coordinates of the bars. See also *align* for the\n",
      "    alignment of the bars to the coordinates.\n",
      "\n",
      "height : float or array-like\n",
      "    The height(s) of the bars.\n",
      "\n",
      "    Note that if *bottom* has units (e.g. datetime), *height* should be in\n",
      "    units that are a difference from the value of *bottom* (e.g. timedelta).\n",
      "\n",
      "width : float or array-like, default: 0.8\n",
      "    The width(s) of the bars.\n",
      "\n",
      "    Note that if *x* has units (e.g. datetime), then *width* should be in\n",
      "    units that are a difference (e.g. timedelta) around the *x* values.\n",
      "\n",
      "bottom : float or array-like, default: 0\n",
      "    The y coordinate(s) of the bottom side(s) of the bars.\n",
      "\n",
      "    Note that if *bottom* has units, then the y-axis will get a Locator and\n",
      "    Formatter appropriate for the units (e.g. dates, or categorical).\n",
      "\n",
      "align : {'center', 'edge'}, default: 'center'\n",
      "    Alignment of the bars to the *x* coordinates:\n",
      "\n",
      "    - 'center': Center the base on the *x* positions.\n",
      "    - 'edge': Align the left edges of the bars with the *x* positions.\n",
      "\n",
      "    To align the bars on the right edge pass a negative *width* and\n",
      "    ``align='edge'``.\n",
      "\n",
      "Returns\n",
      "-------\n",
      "`.BarContainer`\n",
      "    Container with all the bars and optionally errorbars.\n",
      "\n",
      "Other Parameters\n",
      "----------------\n",
      "color : color or list of color, optional\n",
      "    The colors of the bar faces.\n",
      "\n",
      "edgecolor : color or list of color, optional\n",
      "    The colors of the bar edges.\n",
      "\n",
      "linewidth : float or array-like, optional\n",
      "    Width of the bar edge(s). If 0, don't draw edges.\n",
      "\n",
      "tick_label : str or list of str, optional\n",
      "    The tick labels of the bars.\n",
      "    Default: None (Use default numeric labels.)\n",
      "\n",
      "label : str or list of str, optional\n",
      "    A single label is attached to the resulting `.BarContainer` as a\n",
      "    label for the whole dataset.\n",
      "    If a list is provided, it must be the same length as *x* and\n",
      "    labels the individual bars. Repeated labels are not de-duplicated\n",
      "    and will cause repeated label entries, so this is best used when\n",
      "    bars also differ in style (e.g., by passing a list to *color*.)\n",
      "\n",
      "xerr, yerr : float or array-like of shape(N,) or shape(2, N), optional\n",
      "    If not *None*, add horizontal / vertical errorbars to the bar tips.\n",
      "    The values are +/- sizes relative to the data:\n",
      "\n",
      "    - scalar: symmetric +/- values for all bars\n",
      "    - shape(N,): symmetric +/- values for each bar\n",
      "    - shape(2, N): Separate - and + values for each bar. First row\n",
      "      contains the lower errors, the second row contains the upper\n",
      "      errors.\n",
      "    - *None*: No errorbar. (Default)\n",
      "\n",
      "    See :doc:`/gallery/statistics/errorbar_features` for an example on\n",
      "    the usage of *xerr* and *yerr*.\n",
      "\n",
      "ecolor : color or list of color, default: 'black'\n",
      "    The line color of the errorbars.\n",
      "\n",
      "capsize : float, default: :rc:`errorbar.capsize`\n",
      "   The length of the error bar caps in points.\n",
      "\n",
      "error_kw : dict, optional\n",
      "    Dictionary of keyword arguments to be passed to the\n",
      "    `~.Axes.errorbar` method. Values of *ecolor* or *capsize* defined\n",
      "    here take precedence over the independent keyword arguments.\n",
      "\n",
      "log : bool, default: False\n",
      "    If *True*, set the y-axis to be log scale.\n",
      "\n",
      "data : indexable object, optional\n",
      "    If given, all parameters also accept a string ``s``, which is\n",
      "    interpreted as ``data[s]`` (unless this raises an exception).\n",
      "\n",
      "**kwargs : `.Rectangle` properties\n",
      "\n",
      "Properties:\n",
      "    agg_filter: a filter function, which takes a (m, n, 3) float array and a dpi value, and returns a (m, n, 3) array and two offsets from the bottom left corner of the image\n",
      "    alpha: scalar or None\n",
      "    angle: unknown\n",
      "    animated: bool\n",
      "    antialiased or aa: bool or None\n",
      "    bounds: (left, bottom, width, height)\n",
      "    capstyle: `.CapStyle` or {'butt', 'projecting', 'round'}\n",
      "    clip_box: `~matplotlib.transforms.BboxBase` or None\n",
      "    clip_on: bool\n",
      "    clip_path: Patch or (Path, Transform) or None\n",
      "    color: color\n",
      "    edgecolor or ec: color or None\n",
      "    facecolor or fc: color or None\n",
      "    figure: `~matplotlib.figure.Figure`\n",
      "    fill: bool\n",
      "    gid: str\n",
      "    hatch: {'/', '\\\\', '|', '-', '+', 'x', 'o', 'O', '.', '*'}\n",
      "    height: unknown\n",
      "    in_layout: bool\n",
      "    joinstyle: `.JoinStyle` or {'miter', 'round', 'bevel'}\n",
      "    label: object\n",
      "    linestyle or ls: {'-', '--', '-.', ':', '', (offset, on-off-seq), ...}\n",
      "    linewidth or lw: float or None\n",
      "    mouseover: bool\n",
      "    path_effects: list of `.AbstractPathEffect`\n",
      "    picker: None or bool or float or callable\n",
      "    rasterized: bool\n",
      "    sketch_params: (scale: float, length: float, randomness: float)\n",
      "    snap: bool or None\n",
      "    transform: `~matplotlib.transforms.Transform`\n",
      "    url: str\n",
      "    visible: bool\n",
      "    width: unknown\n",
      "    x: unknown\n",
      "    xy: (float, float)\n",
      "    y: unknown\n",
      "    zorder: float\n",
      "\n",
      "See Also\n",
      "--------\n",
      "barh : Plot a horizontal bar plot.\n",
      "\n",
      "Notes\n",
      "-----\n",
      "Stacked bars can be achieved by passing individual *bottom* values per\n",
      "bar. See :doc:`/gallery/lines_bars_and_markers/bar_stacked`.\n",
      "\u001b[0;31mFile:\u001b[0m      /home/zeus/miniconda3/envs/cloudspace/lib/python3.10/site-packages/matplotlib/pyplot.py\n",
      "\u001b[0;31mType:\u001b[0m      function"
     ]
    }
   ],
   "source": [
    "?plt.bar"
   ]
  },
  {
   "cell_type": "code",
   "execution_count": 30,
   "id": "51e16715",
   "metadata": {},
   "outputs": [
    {
     "name": "stderr",
     "output_type": "stream",
     "text": [
      "No artists with labels found to put in legend.  Note that artists whose label start with an underscore are ignored when legend() is called with no argument.\n"
     ]
    },
    {
     "data": {
      "image/png": "[encoded data removed]",
      "text/plain": [
       "<Figure size 640x480 with 1 Axes>"
      ]
     },
     "metadata": {},
     "output_type": "display_data"
    }
   ],
   "source": [
    "X = [df_1gpus.tokens_per_sec.mean(), df_4gpus.tokens_per_sec.mean()]\n",
    "\n",
    "fig, ax = plt.subplots()\n",
    "bar_colors = ['tab:blue', 'tab:purple']\n",
    "ax.bar([\"1 GPU\", \"4 GPUs\"], X, color=bar_colors)\n",
    "ax.set_ylabel('Tokens per second')\n",
    "ax.set_title('vLLM Llama-7B benchmark')\n",
    "ax.legend(title='A10G')\n",
    "plt.show()\n"
   ]
  },
  {
   "cell_type": "code",
   "execution_count": null,
   "id": "baf7e3ac",
   "metadata": {},
   "outputs": [],
   "source": []
  }
 ],
 "metadata": {
  "kernelspec": {
   "display_name": "Python 3",
   "language": "python",
   "name": "python3"
  },
  "language_info": {
   "codemirror_mode": {
    "name": "ipython",
    "version": 3
   },
   "file_extension": ".py",
   "mimetype": "text/x-python",
   "name": "python",
   "nbconvert_exporter": "python",
   "pygments_lexer": "ipython3",
   "version": "3.10.10"
  }
 },
 "nbformat": 4,
 "nbformat_minor": 5
}
